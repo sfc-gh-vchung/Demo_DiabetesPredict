{
 "cells": [
  {
   "cell_type": "markdown",
   "metadata": {},
   "source": [
    "# ❄️ ML Goal: Predict Diabetes Dx ❄️ \n",
    "This notebook contains methods across Feature Engineering and Modeling\n",
    "\n",
    "- Demo a few transformations in the Snowpark Preprocessing API. \n",
    "- Build a preprocessing pipeline object.\n",
    "- Build basic, naive binary classifier\n",
    "- Tune parameters\n",
    "- Build tuned model\n",
    "- Serialize and store model and pipeline object in Snowflake Stage\n",
    "\n",
    "Note: All feature transformations using Snowpark ML are ***distributed operations;*** same as Snowpark DataFrame operations."
   ]
  },
  {
   "cell_type": "markdown",
   "metadata": {},
   "source": [
    "# 1. Import Libraries"
   ]
  },
  {
   "cell_type": "code",
   "execution_count": 1,
   "metadata": {},
   "outputs": [],
   "source": [
    "# Snowpark for Python\n",
    "from snowflake.snowpark import Session\n",
    "from snowflake.snowpark.version import VERSION\n",
    "import snowflake.snowpark.functions as F\n",
    "from snowflake.snowpark.functions import udf\n",
    "from snowflake.snowpark.types import DecimalType\n",
    "\n",
    "# Snowpark Processing / Encoding\n",
    "import snowflake.ml.modeling.preprocessing as snowml\n",
    "from snowflake.ml.modeling.pipeline import Pipeline\n",
    "from snowflake.ml.modeling.metrics.correlation import correlation\n",
    "\n",
    "# Snowpark Modeling\n",
    "from snowflake.ml.modeling.ensemble import RandomForestClassifier as RF\n",
    "from snowflake.ml.modeling.xgboost import XGBClassifier as XGB\n",
    "from snowflake.ml.modeling.linear_model import LogisticRegression as LR\n",
    "from snowflake.ml.modeling.model_selection import GridSearchCV\n",
    "\n",
    "# Snowpark Validation\n",
    "import snowflake.ml.modeling.metrics as M\n",
    "from snowflake.ml.modeling.metrics import confusion_matrix as CM\n",
    "\n",
    "# Data Science Libs\n",
    "import numpy as np\n",
    "import pandas as pd\n",
    "import matplotlib.pyplot as plt\n",
    "import seaborn as sns\n",
    "from sklearn.metrics import confusion_matrix as SCIKIT_CM\n",
    "\n",
    "# Misc\n",
    "import json\n",
    "import joblib\n",
    "import cachetools\n",
    "import os\n",
    "import io\n",
    "import sys\n",
    "\n",
    "# warning suppresion\n",
    "import warnings; warnings.simplefilter('ignore')"
   ]
  },
  {
   "cell_type": "markdown",
   "metadata": {},
   "source": [
    "# 2. Secure Snowflake Connection\n",
    "\n",
    "*Other connection options include Username/Password, MFA, OAuth, Okta, SSO. For more information, refer to the [Python Connector](https://docs.snowflake.com/en/developer-guide/python-connector/python-connector-example) documentation.*"
   ]
  },
  {
   "cell_type": "code",
   "execution_count": 2,
   "metadata": {},
   "outputs": [
    {
     "name": "stdout",
     "output_type": "stream",
     "text": [
      "User                        : VCHUNG\n",
      "Role                        : \"ACCOUNTADMIN\"\n",
      "Database                    : \"DEMO_DATASCIENCE\"\n",
      "Schema                      : \"GOLD\"\n",
      "Warehouse                   : \"DEMO_COMPUTE_XSMALL\"\n",
      "Snowflake version           : 8.20.0\n",
      "Snowpark for Python version : 1.11.1\n"
     ]
    }
   ],
   "source": [
    "################################################################################################################\n",
    "#  You can also use SnowSQL Client to configure connection params: https://docs.snowflake.com/en/user-guide/snowsql-install-config.html\n",
    "#  >>> from snowflake.ml.utils import connection_params\n",
    "#  >>> session = Session.builder.configs(connection_params.SnowflakeLoginOptions()\n",
    "#  >>> ).create()   \n",
    "#\n",
    "#  NOTE: If you have named connection params then specify the connection name. Example:\n",
    "#  >>> session = Session.builder.configs(\n",
    "#  >>> connection_params.SnowflakeLoginOptions(connection_name='connections.snowml')\n",
    "#  >>> ).create()\n",
    "#\n",
    "#################################################################################################################\n",
    "\n",
    "# Create Snowflake Session object\n",
    "connection_parameters = json.load(open('connection_ds.json'))\n",
    "session = Session.builder.configs(connection_parameters).create()\n",
    "session.sql_simplifier_enabled = True\n",
    "\n",
    "snowflake_environment = session.sql('SELECT current_user(), current_version()').collect()\n",
    "snowpark_version = VERSION\n",
    "\n",
    "# Current Environment Details\n",
    "print('User                        : {}'.format(snowflake_environment[0][0]))\n",
    "print('Role                        : {}'.format(session.get_current_role()))\n",
    "print('Database                    : {}'.format(session.get_current_database()))\n",
    "print('Schema                      : {}'.format(session.get_current_schema()))\n",
    "print('Warehouse                   : {}'.format(session.get_current_warehouse()))\n",
    "print('Snowflake version           : {}'.format(snowflake_environment[0][1]))\n",
    "print('Snowpark for Python version : {}.{}.{}'.format(snowpark_version[0],snowpark_version[1],snowpark_version[2]))"
   ]
  },
  {
   "cell_type": "markdown",
   "metadata": {},
   "source": [
    "We will be reading in data from a dynamic table.  \n",
    "It's a good practice to use DS tools for DS and DE tools for continuous, observable data pipelines. \n",
    "\n",
    "Database: DEMO_DATASCIENCE  \n",
    "Schema: SILVER  \n",
    "Table: DIABETES  \n",
    "\n",
    "For more information on loading data, see documentation on [snowflake.snowpark.DataFrameReader](https://docs.snowflake.com/ko/developer-guide/snowpark/reference/python/api/snowflake.snowpark.DataFrameReader.html).\n",
    "\n",
    "\n"
   ]
  },
  {
   "cell_type": "markdown",
   "metadata": {},
   "source": [
    "### Data Loading\n",
    "Two ways to read data in Snowpark. Either **session.table or session.sql**. Code below will walk through both."
   ]
  },
  {
   "cell_type": "markdown",
   "metadata": {},
   "source": [
    "#### Session.Table"
   ]
  },
  {
   "cell_type": "code",
   "execution_count": 3,
   "metadata": {},
   "outputs": [
    {
     "name": "stdout",
     "output_type": "stream",
     "text": [
      "----------------------------------------------------------------------------------------------------------------------------------------------------------------------\n",
      "|\"ID\"  |\"PREGNANCIES\"  |\"GLUCOSE\"  |\"BLOOD_PRESSURE\"  |\"HYPERTENSION\"  |\"SKIN_THICKNESS\"  |\"INSULIN\"  |\"BMI\"  |\"DIABETES_PEDIGREE_FUNCTION\"  |\"AGE\"  |\"DIABETES_DX\"  |\n",
      "----------------------------------------------------------------------------------------------------------------------------------------------------------------------\n",
      "|1     |6.0            |148.0      |72.0              |NORMAL          |35.0              |0.0        |33.6   |0.627                         |50.0   |1.0            |\n",
      "|2     |1.0            |85.0       |66.0              |NORMAL          |29.0              |0.0        |26.6   |0.351                         |31.0   |0.0            |\n",
      "|3     |8.0            |183.0      |64.0              |NORMAL          |0.0               |0.0        |23.3   |0.672                         |32.0   |1.0            |\n",
      "|4     |1.0            |89.0       |66.0              |NORMAL          |23.0              |94.0       |28.1   |0.167                         |21.0   |0.0            |\n",
      "|5     |0.0            |137.0      |40.0              |NORMAL          |35.0              |168.0      |43.1   |2.288                         |33.0   |1.0            |\n",
      "|6     |5.0            |116.0      |74.0              |NORMAL          |0.0               |0.0        |25.6   |0.201                         |30.0   |0.0            |\n",
      "|7     |3.0            |78.0       |50.0              |NORMAL          |32.0              |88.0       |31.0   |0.248                         |26.0   |1.0            |\n",
      "|8     |10.0           |115.0      |0.0               |NORMAL          |0.0               |0.0        |35.3   |0.134                         |29.0   |0.0            |\n",
      "|9     |2.0            |197.0      |70.0              |NORMAL          |45.0              |543.0      |30.5   |0.158                         |53.0   |1.0            |\n",
      "|10    |8.0            |125.0      |96.0              |HYPERTENSION    |0.0               |0.0        |0.0    |0.232                         |54.0   |1.0            |\n",
      "----------------------------------------------------------------------------------------------------------------------------------------------------------------------\n",
      "\n"
     ]
    },
    {
     "data": {
      "text/plain": [
       "[('ID', 'string(16777216)'),\n",
       " ('PREGNANCIES', 'double'),\n",
       " ('GLUCOSE', 'double'),\n",
       " ('BLOOD_PRESSURE', 'double'),\n",
       " ('HYPERTENSION', 'string(15)'),\n",
       " ('SKIN_THICKNESS', 'double'),\n",
       " ('INSULIN', 'double'),\n",
       " ('BMI', 'double'),\n",
       " ('DIABETES_PEDIGREE_FUNCTION', 'double'),\n",
       " ('AGE', 'double'),\n",
       " ('DIABETES_DX', 'double')]"
      ]
     },
     "execution_count": 3,
     "metadata": {},
     "output_type": "execute_result"
    }
   ],
   "source": [
    "# Create labels for data location\n",
    "databaseName = 'DEMO_DATASCIENCE'\n",
    "schemaName = 'SILVER'\n",
    "tableName = 'DIABETES'\n",
    "\n",
    "location = f'{databaseName}.{schemaName}.{tableName}'\n",
    "\n",
    "# Query Dataframe\n",
    "dataframe = session.table(location)\n",
    "\n",
    "dataframe.show()\n",
    "dataframe.dtypes"
   ]
  },
  {
   "cell_type": "markdown",
   "metadata": {},
   "source": [
    "#### Session.SQL"
   ]
  },
  {
   "cell_type": "code",
   "execution_count": 4,
   "metadata": {},
   "outputs": [
    {
     "name": "stdout",
     "output_type": "stream",
     "text": [
      "-----------------------------------------------\n",
      "|\"ID\"  |\"GLUCOSE\"  |\"BLOOD_PRESSURE\"  |\"AGE\"  |\n",
      "-----------------------------------------------\n",
      "|2     |85         |66                |31     |\n",
      "|3     |183        |64                |32     |\n",
      "|4     |89         |66                |21     |\n",
      "|5     |137        |40                |33     |\n",
      "|6     |116        |74                |30     |\n",
      "|7     |78         |50                |26     |\n",
      "|8     |115        |0                 |29     |\n",
      "|11    |110        |92                |30     |\n",
      "|12    |168        |74                |34     |\n",
      "|16    |100        |0                 |32     |\n",
      "-----------------------------------------------\n",
      "\n"
     ]
    }
   ],
   "source": [
    "df_sql2 = session.sql(\"SELECT ID,GLUCOSE,BLOOD_PRESSURE,AGE \\\n",
    "                       FROM DEMO_DATASCIENCE.SILVER.DIABETES_SNOWPARK_v2 \\\n",
    "                       WHERE AGE <= 40\")\n",
    "df_sql2.show()"
   ]
  },
  {
   "cell_type": "markdown",
   "metadata": {},
   "source": [
    "### Pandas for Quick Cleaning\n",
    "Two ways to read data in Snowpark. Either **session.table or session.sql**. Code below will walk through both."
   ]
  },
  {
   "cell_type": "markdown",
   "metadata": {},
   "source": [
    "##### Create a \"BadData\" Dataframe"
   ]
  },
  {
   "cell_type": "code",
   "execution_count": 5,
   "metadata": {},
   "outputs": [
    {
     "data": {
      "text/html": [
       "<div>\n",
       "<style scoped>\n",
       "    .dataframe tbody tr th:only-of-type {\n",
       "        vertical-align: middle;\n",
       "    }\n",
       "\n",
       "    .dataframe tbody tr th {\n",
       "        vertical-align: top;\n",
       "    }\n",
       "\n",
       "    .dataframe thead th {\n",
       "        text-align: right;\n",
       "    }\n",
       "</style>\n",
       "<table border=\"1\" class=\"dataframe\">\n",
       "  <thead>\n",
       "    <tr style=\"text-align: right;\">\n",
       "      <th></th>\n",
       "      <th>ID</th>\n",
       "      <th>PREGNANCIES</th>\n",
       "      <th>GLUCOSE</th>\n",
       "      <th>BLOOD_PRESSURE</th>\n",
       "      <th>HYPERTENSION</th>\n",
       "      <th>SKIN_THICKNESS</th>\n",
       "      <th>INSULIN</th>\n",
       "      <th>BMI</th>\n",
       "      <th>DIABETES_PEDIGREE_FUNCTION</th>\n",
       "      <th>AGE</th>\n",
       "      <th>DIABETES_DX</th>\n",
       "    </tr>\n",
       "  </thead>\n",
       "  <tbody>\n",
       "    <tr>\n",
       "      <th>0</th>\n",
       "      <td>115</td>\n",
       "      <td>7.0</td>\n",
       "      <td>160.0</td>\n",
       "      <td>54.0</td>\n",
       "      <td>NORMAL</td>\n",
       "      <td>32.0</td>\n",
       "      <td>175.0</td>\n",
       "      <td>30.5</td>\n",
       "      <td>0.588</td>\n",
       "      <td>39.0</td>\n",
       "      <td>1.0</td>\n",
       "    </tr>\n",
       "    <tr>\n",
       "      <th>1</th>\n",
       "      <td>1156</td>\n",
       "      <td>8.0</td>\n",
       "      <td>105.0</td>\n",
       "      <td>100.0</td>\n",
       "      <td>HYPERTENSION</td>\n",
       "      <td>36.0</td>\n",
       "      <td>0.0</td>\n",
       "      <td>43.3</td>\n",
       "      <td>0.239</td>\n",
       "      <td>45.0</td>\n",
       "      <td>1.0</td>\n",
       "    </tr>\n",
       "    <tr>\n",
       "      <th>2</th>\n",
       "      <td>100</td>\n",
       "      <td>1.0</td>\n",
       "      <td>122.0</td>\n",
       "      <td>90.0</td>\n",
       "      <td>HYPERTENSION</td>\n",
       "      <td>51.0</td>\n",
       "      <td>220.0</td>\n",
       "      <td>49.7</td>\n",
       "      <td>0.325</td>\n",
       "      <td>31.0</td>\n",
       "      <td>1.0</td>\n",
       "    </tr>\n",
       "    <tr>\n",
       "      <th>3</th>\n",
       "      <td>175</td>\n",
       "      <td>2.0</td>\n",
       "      <td>75.0</td>\n",
       "      <td>64.0</td>\n",
       "      <td>NORMAL</td>\n",
       "      <td>24.0</td>\n",
       "      <td>55.0</td>\n",
       "      <td>29.7</td>\n",
       "      <td>0.370</td>\n",
       "      <td>33.0</td>\n",
       "      <td>0.0</td>\n",
       "    </tr>\n",
       "    <tr>\n",
       "      <th>4</th>\n",
       "      <td>2252</td>\n",
       "      <td>8.0</td>\n",
       "      <td>151.0</td>\n",
       "      <td>78.0</td>\n",
       "      <td>NORMAL</td>\n",
       "      <td>32.0</td>\n",
       "      <td>210.0</td>\n",
       "      <td>42.9</td>\n",
       "      <td>0.516</td>\n",
       "      <td>36.0</td>\n",
       "      <td>1.0</td>\n",
       "    </tr>\n",
       "    <tr>\n",
       "      <th>5</th>\n",
       "      <td>1013</td>\n",
       "      <td>2.0</td>\n",
       "      <td>146.0</td>\n",
       "      <td>76.0</td>\n",
       "      <td>NORMAL</td>\n",
       "      <td>35.0</td>\n",
       "      <td>194.0</td>\n",
       "      <td>38.2</td>\n",
       "      <td>0.329</td>\n",
       "      <td>29.0</td>\n",
       "      <td>0.0</td>\n",
       "    </tr>\n",
       "    <tr>\n",
       "      <th>6</th>\n",
       "      <td>201</td>\n",
       "      <td>0.0</td>\n",
       "      <td>113.0</td>\n",
       "      <td>80.0</td>\n",
       "      <td>PREHYPERTENSION</td>\n",
       "      <td>16.0</td>\n",
       "      <td>0.0</td>\n",
       "      <td>31.0</td>\n",
       "      <td>0.874</td>\n",
       "      <td>21.0</td>\n",
       "      <td>0.0</td>\n",
       "    </tr>\n",
       "    <tr>\n",
       "      <th>7</th>\n",
       "      <td>2393</td>\n",
       "      <td>0.0</td>\n",
       "      <td>118.0</td>\n",
       "      <td>64.0</td>\n",
       "      <td>NORMAL</td>\n",
       "      <td>23.0</td>\n",
       "      <td>89.0</td>\n",
       "      <td>0.0</td>\n",
       "      <td>1.731</td>\n",
       "      <td>21.0</td>\n",
       "      <td>0.0</td>\n",
       "    </tr>\n",
       "    <tr>\n",
       "      <th>8</th>\n",
       "      <td>427</td>\n",
       "      <td>0.0</td>\n",
       "      <td>94.0</td>\n",
       "      <td>0.0</td>\n",
       "      <td>NORMAL</td>\n",
       "      <td>0.0</td>\n",
       "      <td>0.0</td>\n",
       "      <td>0.0</td>\n",
       "      <td>0.256</td>\n",
       "      <td>25.0</td>\n",
       "      <td>0.0</td>\n",
       "    </tr>\n",
       "    <tr>\n",
       "      <th>9</th>\n",
       "      <td>2279</td>\n",
       "      <td>2.0</td>\n",
       "      <td>134.0</td>\n",
       "      <td>70.0</td>\n",
       "      <td>NORMAL</td>\n",
       "      <td>0.0</td>\n",
       "      <td>0.0</td>\n",
       "      <td>28.9</td>\n",
       "      <td>0.542</td>\n",
       "      <td>23.0</td>\n",
       "      <td>1.0</td>\n",
       "    </tr>\n",
       "    <tr>\n",
       "      <th>10</th>\n",
       "      <td>None</td>\n",
       "      <td>NaN</td>\n",
       "      <td>NaN</td>\n",
       "      <td>NaN</td>\n",
       "      <td>NaN</td>\n",
       "      <td>NaN</td>\n",
       "      <td>NaN</td>\n",
       "      <td>NaN</td>\n",
       "      <td>NaN</td>\n",
       "      <td>NaN</td>\n",
       "      <td>NaN</td>\n",
       "    </tr>\n",
       "    <tr>\n",
       "      <th>11</th>\n",
       "      <td>None</td>\n",
       "      <td>NaN</td>\n",
       "      <td>NaN</td>\n",
       "      <td>NaN</td>\n",
       "      <td>NaN</td>\n",
       "      <td>NaN</td>\n",
       "      <td>NaN</td>\n",
       "      <td>NaN</td>\n",
       "      <td>NaN</td>\n",
       "      <td>NaN</td>\n",
       "      <td>NaN</td>\n",
       "    </tr>\n",
       "    <tr>\n",
       "      <th>12</th>\n",
       "      <td>999999</td>\n",
       "      <td>1.0</td>\n",
       "      <td>100.0</td>\n",
       "      <td>100.0</td>\n",
       "      <td>NaN</td>\n",
       "      <td>100.0</td>\n",
       "      <td>100.0</td>\n",
       "      <td>100.0</td>\n",
       "      <td>100.000</td>\n",
       "      <td>100.0</td>\n",
       "      <td>100.0</td>\n",
       "    </tr>\n",
       "    <tr>\n",
       "      <th>13</th>\n",
       "      <td>999999</td>\n",
       "      <td>1.0</td>\n",
       "      <td>100.0</td>\n",
       "      <td>100.0</td>\n",
       "      <td>NaN</td>\n",
       "      <td>100.0</td>\n",
       "      <td>100.0</td>\n",
       "      <td>100.0</td>\n",
       "      <td>100.000</td>\n",
       "      <td>100.0</td>\n",
       "      <td>100.0</td>\n",
       "    </tr>\n",
       "  </tbody>\n",
       "</table>\n",
       "</div>"
      ],
      "text/plain": [
       "        ID  PREGNANCIES  GLUCOSE  BLOOD_PRESSURE     HYPERTENSION  \\\n",
       "0      115          7.0    160.0            54.0           NORMAL   \n",
       "1     1156          8.0    105.0           100.0     HYPERTENSION   \n",
       "2      100          1.0    122.0            90.0     HYPERTENSION   \n",
       "3      175          2.0     75.0            64.0           NORMAL   \n",
       "4     2252          8.0    151.0            78.0           NORMAL   \n",
       "5     1013          2.0    146.0            76.0           NORMAL   \n",
       "6      201          0.0    113.0            80.0  PREHYPERTENSION   \n",
       "7     2393          0.0    118.0            64.0           NORMAL   \n",
       "8      427          0.0     94.0             0.0           NORMAL   \n",
       "9     2279          2.0    134.0            70.0           NORMAL   \n",
       "10    None          NaN      NaN             NaN              NaN   \n",
       "11    None          NaN      NaN             NaN              NaN   \n",
       "12  999999          1.0    100.0           100.0              NaN   \n",
       "13  999999          1.0    100.0           100.0              NaN   \n",
       "\n",
       "    SKIN_THICKNESS  INSULIN    BMI  DIABETES_PEDIGREE_FUNCTION    AGE  \\\n",
       "0             32.0    175.0   30.5                       0.588   39.0   \n",
       "1             36.0      0.0   43.3                       0.239   45.0   \n",
       "2             51.0    220.0   49.7                       0.325   31.0   \n",
       "3             24.0     55.0   29.7                       0.370   33.0   \n",
       "4             32.0    210.0   42.9                       0.516   36.0   \n",
       "5             35.0    194.0   38.2                       0.329   29.0   \n",
       "6             16.0      0.0   31.0                       0.874   21.0   \n",
       "7             23.0     89.0    0.0                       1.731   21.0   \n",
       "8              0.0      0.0    0.0                       0.256   25.0   \n",
       "9              0.0      0.0   28.9                       0.542   23.0   \n",
       "10             NaN      NaN    NaN                         NaN    NaN   \n",
       "11             NaN      NaN    NaN                         NaN    NaN   \n",
       "12           100.0    100.0  100.0                     100.000  100.0   \n",
       "13           100.0    100.0  100.0                     100.000  100.0   \n",
       "\n",
       "    DIABETES_DX  \n",
       "0           1.0  \n",
       "1           1.0  \n",
       "2           1.0  \n",
       "3           0.0  \n",
       "4           1.0  \n",
       "5           0.0  \n",
       "6           0.0  \n",
       "7           0.0  \n",
       "8           0.0  \n",
       "9           1.0  \n",
       "10          NaN  \n",
       "11          NaN  \n",
       "12        100.0  \n",
       "13        100.0  "
      ]
     },
     "execution_count": 5,
     "metadata": {},
     "output_type": "execute_result"
    }
   ],
   "source": [
    "# initialize list of lists\n",
    "data = [[None,None,None,None,None,None,None,None,None,None],\n",
    "        [None,None,None,None,None,None,None,None,None,None],\n",
    "        ['999999', 1,100,100,100,100,100,100,100,100],\n",
    "        ['999999', 1,100,100,100,100,100,100,100,100],\n",
    "       ]\n",
    " \n",
    "# Create the pandas DataFrame\n",
    "df_messy = pd.DataFrame(data, \n",
    "                        columns = ['ID', 'PREGNANCIES','GLUCOSE','BLOOD_PRESSURE','SKIN_THICKNESS','INSULIN','BMI','DIABETES_PEDIGREE_FUNCTION','AGE','DIABETES_DX']\n",
    "                       )\n",
    "#df_messy\n",
    "\n",
    "df_pandas = dataframe.to_pandas().sample(10)\n",
    "\n",
    "df_BadData = pd.merge(df_pandas, df_messy,\n",
    "                      how = 'outer')\n",
    "\n",
    "df_BadData"
   ]
  },
  {
   "cell_type": "markdown",
   "metadata": {},
   "source": [
    "##### Use Pandas for Rapid Cleaning"
   ]
  },
  {
   "cell_type": "code",
   "execution_count": 6,
   "metadata": {},
   "outputs": [
    {
     "data": {
      "text/html": [
       "<div>\n",
       "<style scoped>\n",
       "    .dataframe tbody tr th:only-of-type {\n",
       "        vertical-align: middle;\n",
       "    }\n",
       "\n",
       "    .dataframe tbody tr th {\n",
       "        vertical-align: top;\n",
       "    }\n",
       "\n",
       "    .dataframe thead th {\n",
       "        text-align: right;\n",
       "    }\n",
       "</style>\n",
       "<table border=\"1\" class=\"dataframe\">\n",
       "  <thead>\n",
       "    <tr style=\"text-align: right;\">\n",
       "      <th></th>\n",
       "      <th>ID</th>\n",
       "      <th>PREGNANCIES</th>\n",
       "      <th>GLUCOSE</th>\n",
       "      <th>BLOOD_PRESSURE</th>\n",
       "      <th>HYPERTENSION</th>\n",
       "      <th>SKIN_THICKNESS</th>\n",
       "      <th>INSULIN</th>\n",
       "      <th>BMI</th>\n",
       "      <th>DIABETES_PEDIGREE_FUNCTION</th>\n",
       "      <th>AGE</th>\n",
       "      <th>DIABETES_DX</th>\n",
       "    </tr>\n",
       "  </thead>\n",
       "  <tbody>\n",
       "    <tr>\n",
       "      <th>0</th>\n",
       "      <td>115</td>\n",
       "      <td>7.0</td>\n",
       "      <td>160.0</td>\n",
       "      <td>54.0</td>\n",
       "      <td>NORMAL</td>\n",
       "      <td>32.0</td>\n",
       "      <td>175.0</td>\n",
       "      <td>30.5</td>\n",
       "      <td>0.588</td>\n",
       "      <td>39.0</td>\n",
       "      <td>1.0</td>\n",
       "    </tr>\n",
       "    <tr>\n",
       "      <th>1</th>\n",
       "      <td>1156</td>\n",
       "      <td>8.0</td>\n",
       "      <td>105.0</td>\n",
       "      <td>100.0</td>\n",
       "      <td>HYPERTENSION</td>\n",
       "      <td>36.0</td>\n",
       "      <td>0.0</td>\n",
       "      <td>43.3</td>\n",
       "      <td>0.239</td>\n",
       "      <td>45.0</td>\n",
       "      <td>1.0</td>\n",
       "    </tr>\n",
       "    <tr>\n",
       "      <th>2</th>\n",
       "      <td>100</td>\n",
       "      <td>1.0</td>\n",
       "      <td>122.0</td>\n",
       "      <td>90.0</td>\n",
       "      <td>HYPERTENSION</td>\n",
       "      <td>51.0</td>\n",
       "      <td>220.0</td>\n",
       "      <td>49.7</td>\n",
       "      <td>0.325</td>\n",
       "      <td>31.0</td>\n",
       "      <td>1.0</td>\n",
       "    </tr>\n",
       "    <tr>\n",
       "      <th>3</th>\n",
       "      <td>175</td>\n",
       "      <td>2.0</td>\n",
       "      <td>75.0</td>\n",
       "      <td>64.0</td>\n",
       "      <td>NORMAL</td>\n",
       "      <td>24.0</td>\n",
       "      <td>55.0</td>\n",
       "      <td>29.7</td>\n",
       "      <td>0.370</td>\n",
       "      <td>33.0</td>\n",
       "      <td>0.0</td>\n",
       "    </tr>\n",
       "    <tr>\n",
       "      <th>4</th>\n",
       "      <td>2252</td>\n",
       "      <td>8.0</td>\n",
       "      <td>151.0</td>\n",
       "      <td>78.0</td>\n",
       "      <td>NORMAL</td>\n",
       "      <td>32.0</td>\n",
       "      <td>210.0</td>\n",
       "      <td>42.9</td>\n",
       "      <td>0.516</td>\n",
       "      <td>36.0</td>\n",
       "      <td>1.0</td>\n",
       "    </tr>\n",
       "    <tr>\n",
       "      <th>5</th>\n",
       "      <td>1013</td>\n",
       "      <td>2.0</td>\n",
       "      <td>146.0</td>\n",
       "      <td>76.0</td>\n",
       "      <td>NORMAL</td>\n",
       "      <td>35.0</td>\n",
       "      <td>194.0</td>\n",
       "      <td>38.2</td>\n",
       "      <td>0.329</td>\n",
       "      <td>29.0</td>\n",
       "      <td>0.0</td>\n",
       "    </tr>\n",
       "    <tr>\n",
       "      <th>6</th>\n",
       "      <td>201</td>\n",
       "      <td>0.0</td>\n",
       "      <td>113.0</td>\n",
       "      <td>80.0</td>\n",
       "      <td>PREHYPERTENSION</td>\n",
       "      <td>16.0</td>\n",
       "      <td>0.0</td>\n",
       "      <td>31.0</td>\n",
       "      <td>0.874</td>\n",
       "      <td>21.0</td>\n",
       "      <td>0.0</td>\n",
       "    </tr>\n",
       "    <tr>\n",
       "      <th>7</th>\n",
       "      <td>2393</td>\n",
       "      <td>0.0</td>\n",
       "      <td>118.0</td>\n",
       "      <td>64.0</td>\n",
       "      <td>NORMAL</td>\n",
       "      <td>23.0</td>\n",
       "      <td>89.0</td>\n",
       "      <td>0.0</td>\n",
       "      <td>1.731</td>\n",
       "      <td>21.0</td>\n",
       "      <td>0.0</td>\n",
       "    </tr>\n",
       "    <tr>\n",
       "      <th>8</th>\n",
       "      <td>427</td>\n",
       "      <td>0.0</td>\n",
       "      <td>94.0</td>\n",
       "      <td>0.0</td>\n",
       "      <td>NORMAL</td>\n",
       "      <td>0.0</td>\n",
       "      <td>0.0</td>\n",
       "      <td>0.0</td>\n",
       "      <td>0.256</td>\n",
       "      <td>25.0</td>\n",
       "      <td>0.0</td>\n",
       "    </tr>\n",
       "    <tr>\n",
       "      <th>9</th>\n",
       "      <td>2279</td>\n",
       "      <td>2.0</td>\n",
       "      <td>134.0</td>\n",
       "      <td>70.0</td>\n",
       "      <td>NORMAL</td>\n",
       "      <td>0.0</td>\n",
       "      <td>0.0</td>\n",
       "      <td>28.9</td>\n",
       "      <td>0.542</td>\n",
       "      <td>23.0</td>\n",
       "      <td>1.0</td>\n",
       "    </tr>\n",
       "  </tbody>\n",
       "</table>\n",
       "</div>"
      ],
      "text/plain": [
       "     ID  PREGNANCIES  GLUCOSE  BLOOD_PRESSURE     HYPERTENSION  \\\n",
       "0   115          7.0    160.0            54.0           NORMAL   \n",
       "1  1156          8.0    105.0           100.0     HYPERTENSION   \n",
       "2   100          1.0    122.0            90.0     HYPERTENSION   \n",
       "3   175          2.0     75.0            64.0           NORMAL   \n",
       "4  2252          8.0    151.0            78.0           NORMAL   \n",
       "5  1013          2.0    146.0            76.0           NORMAL   \n",
       "6   201          0.0    113.0            80.0  PREHYPERTENSION   \n",
       "7  2393          0.0    118.0            64.0           NORMAL   \n",
       "8   427          0.0     94.0             0.0           NORMAL   \n",
       "9  2279          2.0    134.0            70.0           NORMAL   \n",
       "\n",
       "   SKIN_THICKNESS  INSULIN   BMI  DIABETES_PEDIGREE_FUNCTION   AGE  \\\n",
       "0            32.0    175.0  30.5                       0.588  39.0   \n",
       "1            36.0      0.0  43.3                       0.239  45.0   \n",
       "2            51.0    220.0  49.7                       0.325  31.0   \n",
       "3            24.0     55.0  29.7                       0.370  33.0   \n",
       "4            32.0    210.0  42.9                       0.516  36.0   \n",
       "5            35.0    194.0  38.2                       0.329  29.0   \n",
       "6            16.0      0.0  31.0                       0.874  21.0   \n",
       "7            23.0     89.0   0.0                       1.731  21.0   \n",
       "8             0.0      0.0   0.0                       0.256  25.0   \n",
       "9             0.0      0.0  28.9                       0.542  23.0   \n",
       "\n",
       "   DIABETES_DX  \n",
       "0          1.0  \n",
       "1          1.0  \n",
       "2          1.0  \n",
       "3          0.0  \n",
       "4          1.0  \n",
       "5          0.0  \n",
       "6          0.0  \n",
       "7          0.0  \n",
       "8          0.0  \n",
       "9          1.0  "
      ]
     },
     "execution_count": 6,
     "metadata": {},
     "output_type": "execute_result"
    }
   ],
   "source": [
    "df_BetterData = df_BadData.dropna()\n",
    "df_BetterData"
   ]
  },
  {
   "cell_type": "code",
   "execution_count": 7,
   "metadata": {},
   "outputs": [
    {
     "data": {
      "text/html": [
       "<div>\n",
       "<style scoped>\n",
       "    .dataframe tbody tr th:only-of-type {\n",
       "        vertical-align: middle;\n",
       "    }\n",
       "\n",
       "    .dataframe tbody tr th {\n",
       "        vertical-align: top;\n",
       "    }\n",
       "\n",
       "    .dataframe thead th {\n",
       "        text-align: right;\n",
       "    }\n",
       "</style>\n",
       "<table border=\"1\" class=\"dataframe\">\n",
       "  <thead>\n",
       "    <tr style=\"text-align: right;\">\n",
       "      <th></th>\n",
       "      <th>ID</th>\n",
       "      <th>PREGNANCIES</th>\n",
       "      <th>GLUCOSE</th>\n",
       "      <th>BLOOD_PRESSURE</th>\n",
       "      <th>HYPERTENSION</th>\n",
       "      <th>SKIN_THICKNESS</th>\n",
       "      <th>INSULIN</th>\n",
       "      <th>BMI</th>\n",
       "      <th>DIABETES_PEDIGREE_FUNCTION</th>\n",
       "      <th>AGE</th>\n",
       "      <th>DIABETES_DX</th>\n",
       "    </tr>\n",
       "  </thead>\n",
       "  <tbody>\n",
       "    <tr>\n",
       "      <th>0</th>\n",
       "      <td>115</td>\n",
       "      <td>7.0</td>\n",
       "      <td>160.0</td>\n",
       "      <td>54.0</td>\n",
       "      <td>NORMAL</td>\n",
       "      <td>32.0</td>\n",
       "      <td>175.0</td>\n",
       "      <td>30.5</td>\n",
       "      <td>0.588</td>\n",
       "      <td>39.0</td>\n",
       "      <td>1.0</td>\n",
       "    </tr>\n",
       "    <tr>\n",
       "      <th>1</th>\n",
       "      <td>1156</td>\n",
       "      <td>8.0</td>\n",
       "      <td>105.0</td>\n",
       "      <td>100.0</td>\n",
       "      <td>HYPERTENSION</td>\n",
       "      <td>36.0</td>\n",
       "      <td>0.0</td>\n",
       "      <td>43.3</td>\n",
       "      <td>0.239</td>\n",
       "      <td>45.0</td>\n",
       "      <td>1.0</td>\n",
       "    </tr>\n",
       "    <tr>\n",
       "      <th>2</th>\n",
       "      <td>100</td>\n",
       "      <td>1.0</td>\n",
       "      <td>122.0</td>\n",
       "      <td>90.0</td>\n",
       "      <td>HYPERTENSION</td>\n",
       "      <td>51.0</td>\n",
       "      <td>220.0</td>\n",
       "      <td>49.7</td>\n",
       "      <td>0.325</td>\n",
       "      <td>31.0</td>\n",
       "      <td>1.0</td>\n",
       "    </tr>\n",
       "    <tr>\n",
       "      <th>3</th>\n",
       "      <td>175</td>\n",
       "      <td>2.0</td>\n",
       "      <td>75.0</td>\n",
       "      <td>64.0</td>\n",
       "      <td>NORMAL</td>\n",
       "      <td>24.0</td>\n",
       "      <td>55.0</td>\n",
       "      <td>29.7</td>\n",
       "      <td>0.370</td>\n",
       "      <td>33.0</td>\n",
       "      <td>0.0</td>\n",
       "    </tr>\n",
       "    <tr>\n",
       "      <th>4</th>\n",
       "      <td>2252</td>\n",
       "      <td>8.0</td>\n",
       "      <td>151.0</td>\n",
       "      <td>78.0</td>\n",
       "      <td>NORMAL</td>\n",
       "      <td>32.0</td>\n",
       "      <td>210.0</td>\n",
       "      <td>42.9</td>\n",
       "      <td>0.516</td>\n",
       "      <td>36.0</td>\n",
       "      <td>1.0</td>\n",
       "    </tr>\n",
       "    <tr>\n",
       "      <th>5</th>\n",
       "      <td>1013</td>\n",
       "      <td>2.0</td>\n",
       "      <td>146.0</td>\n",
       "      <td>76.0</td>\n",
       "      <td>NORMAL</td>\n",
       "      <td>35.0</td>\n",
       "      <td>194.0</td>\n",
       "      <td>38.2</td>\n",
       "      <td>0.329</td>\n",
       "      <td>29.0</td>\n",
       "      <td>0.0</td>\n",
       "    </tr>\n",
       "    <tr>\n",
       "      <th>6</th>\n",
       "      <td>201</td>\n",
       "      <td>0.0</td>\n",
       "      <td>113.0</td>\n",
       "      <td>80.0</td>\n",
       "      <td>PREHYPERTENSION</td>\n",
       "      <td>16.0</td>\n",
       "      <td>0.0</td>\n",
       "      <td>31.0</td>\n",
       "      <td>0.874</td>\n",
       "      <td>21.0</td>\n",
       "      <td>0.0</td>\n",
       "    </tr>\n",
       "    <tr>\n",
       "      <th>7</th>\n",
       "      <td>2393</td>\n",
       "      <td>0.0</td>\n",
       "      <td>118.0</td>\n",
       "      <td>64.0</td>\n",
       "      <td>NORMAL</td>\n",
       "      <td>23.0</td>\n",
       "      <td>89.0</td>\n",
       "      <td>0.0</td>\n",
       "      <td>1.731</td>\n",
       "      <td>21.0</td>\n",
       "      <td>0.0</td>\n",
       "    </tr>\n",
       "    <tr>\n",
       "      <th>8</th>\n",
       "      <td>427</td>\n",
       "      <td>0.0</td>\n",
       "      <td>94.0</td>\n",
       "      <td>0.0</td>\n",
       "      <td>NORMAL</td>\n",
       "      <td>0.0</td>\n",
       "      <td>0.0</td>\n",
       "      <td>0.0</td>\n",
       "      <td>0.256</td>\n",
       "      <td>25.0</td>\n",
       "      <td>0.0</td>\n",
       "    </tr>\n",
       "    <tr>\n",
       "      <th>9</th>\n",
       "      <td>2279</td>\n",
       "      <td>2.0</td>\n",
       "      <td>134.0</td>\n",
       "      <td>70.0</td>\n",
       "      <td>NORMAL</td>\n",
       "      <td>0.0</td>\n",
       "      <td>0.0</td>\n",
       "      <td>28.9</td>\n",
       "      <td>0.542</td>\n",
       "      <td>23.0</td>\n",
       "      <td>1.0</td>\n",
       "    </tr>\n",
       "  </tbody>\n",
       "</table>\n",
       "</div>"
      ],
      "text/plain": [
       "     ID  PREGNANCIES  GLUCOSE  BLOOD_PRESSURE     HYPERTENSION  \\\n",
       "0   115          7.0    160.0            54.0           NORMAL   \n",
       "1  1156          8.0    105.0           100.0     HYPERTENSION   \n",
       "2   100          1.0    122.0            90.0     HYPERTENSION   \n",
       "3   175          2.0     75.0            64.0           NORMAL   \n",
       "4  2252          8.0    151.0            78.0           NORMAL   \n",
       "5  1013          2.0    146.0            76.0           NORMAL   \n",
       "6   201          0.0    113.0            80.0  PREHYPERTENSION   \n",
       "7  2393          0.0    118.0            64.0           NORMAL   \n",
       "8   427          0.0     94.0             0.0           NORMAL   \n",
       "9  2279          2.0    134.0            70.0           NORMAL   \n",
       "\n",
       "   SKIN_THICKNESS  INSULIN   BMI  DIABETES_PEDIGREE_FUNCTION   AGE  \\\n",
       "0            32.0    175.0  30.5                       0.588  39.0   \n",
       "1            36.0      0.0  43.3                       0.239  45.0   \n",
       "2            51.0    220.0  49.7                       0.325  31.0   \n",
       "3            24.0     55.0  29.7                       0.370  33.0   \n",
       "4            32.0    210.0  42.9                       0.516  36.0   \n",
       "5            35.0    194.0  38.2                       0.329  29.0   \n",
       "6            16.0      0.0  31.0                       0.874  21.0   \n",
       "7            23.0     89.0   0.0                       1.731  21.0   \n",
       "8             0.0      0.0   0.0                       0.256  25.0   \n",
       "9             0.0      0.0  28.9                       0.542  23.0   \n",
       "\n",
       "   DIABETES_DX  \n",
       "0          1.0  \n",
       "1          1.0  \n",
       "2          1.0  \n",
       "3          0.0  \n",
       "4          1.0  \n",
       "5          0.0  \n",
       "6          0.0  \n",
       "7          0.0  \n",
       "8          0.0  \n",
       "9          1.0  "
      ]
     },
     "execution_count": 7,
     "metadata": {},
     "output_type": "execute_result"
    }
   ],
   "source": [
    "df_EvenBetterData = df_BetterData.drop_duplicates()\n",
    "df_EvenBetterData"
   ]
  },
  {
   "cell_type": "code",
   "execution_count": 8,
   "metadata": {},
   "outputs": [
    {
     "data": {
      "text/html": [
       "<div>\n",
       "<style scoped>\n",
       "    .dataframe tbody tr th:only-of-type {\n",
       "        vertical-align: middle;\n",
       "    }\n",
       "\n",
       "    .dataframe tbody tr th {\n",
       "        vertical-align: top;\n",
       "    }\n",
       "\n",
       "    .dataframe thead th {\n",
       "        text-align: right;\n",
       "    }\n",
       "</style>\n",
       "<table border=\"1\" class=\"dataframe\">\n",
       "  <thead>\n",
       "    <tr style=\"text-align: right;\">\n",
       "      <th></th>\n",
       "      <th>PREGNANCIES</th>\n",
       "      <th>GLUCOSE</th>\n",
       "      <th>BLOOD_PRESSURE</th>\n",
       "      <th>SKIN_THICKNESS</th>\n",
       "      <th>INSULIN</th>\n",
       "      <th>BMI</th>\n",
       "      <th>DIABETES_PEDIGREE_FUNCTION</th>\n",
       "      <th>AGE</th>\n",
       "      <th>DIABETES_DX</th>\n",
       "    </tr>\n",
       "  </thead>\n",
       "  <tbody>\n",
       "    <tr>\n",
       "      <th>count</th>\n",
       "      <td>8.000000</td>\n",
       "      <td>8.000000</td>\n",
       "      <td>8.000000</td>\n",
       "      <td>8.000000</td>\n",
       "      <td>8.000000</td>\n",
       "      <td>8.000000</td>\n",
       "      <td>8.000000</td>\n",
       "      <td>8.000000</td>\n",
       "      <td>8.000000</td>\n",
       "    </tr>\n",
       "    <tr>\n",
       "      <th>mean</th>\n",
       "      <td>3.500000</td>\n",
       "      <td>131.125000</td>\n",
       "      <td>76.500000</td>\n",
       "      <td>28.125000</td>\n",
       "      <td>111.000000</td>\n",
       "      <td>33.062500</td>\n",
       "      <td>0.643000</td>\n",
       "      <td>30.625000</td>\n",
       "      <td>0.625000</td>\n",
       "    </tr>\n",
       "    <tr>\n",
       "      <th>std</th>\n",
       "      <td>3.545621</td>\n",
       "      <td>19.729872</td>\n",
       "      <td>14.412296</td>\n",
       "      <td>15.245023</td>\n",
       "      <td>100.081395</td>\n",
       "      <td>15.241198</td>\n",
       "      <td>0.482463</td>\n",
       "      <td>8.879149</td>\n",
       "      <td>0.517549</td>\n",
       "    </tr>\n",
       "    <tr>\n",
       "      <th>min</th>\n",
       "      <td>0.000000</td>\n",
       "      <td>105.000000</td>\n",
       "      <td>54.000000</td>\n",
       "      <td>0.000000</td>\n",
       "      <td>0.000000</td>\n",
       "      <td>0.000000</td>\n",
       "      <td>0.239000</td>\n",
       "      <td>21.000000</td>\n",
       "      <td>0.000000</td>\n",
       "    </tr>\n",
       "    <tr>\n",
       "      <th>25%</th>\n",
       "      <td>0.750000</td>\n",
       "      <td>116.750000</td>\n",
       "      <td>68.500000</td>\n",
       "      <td>21.250000</td>\n",
       "      <td>0.000000</td>\n",
       "      <td>30.100000</td>\n",
       "      <td>0.328000</td>\n",
       "      <td>22.500000</td>\n",
       "      <td>0.000000</td>\n",
       "    </tr>\n",
       "    <tr>\n",
       "      <th>50%</th>\n",
       "      <td>2.000000</td>\n",
       "      <td>128.000000</td>\n",
       "      <td>77.000000</td>\n",
       "      <td>32.000000</td>\n",
       "      <td>132.000000</td>\n",
       "      <td>34.600000</td>\n",
       "      <td>0.529000</td>\n",
       "      <td>30.000000</td>\n",
       "      <td>1.000000</td>\n",
       "    </tr>\n",
       "    <tr>\n",
       "      <th>75%</th>\n",
       "      <td>7.250000</td>\n",
       "      <td>147.250000</td>\n",
       "      <td>82.500000</td>\n",
       "      <td>35.250000</td>\n",
       "      <td>198.000000</td>\n",
       "      <td>43.000000</td>\n",
       "      <td>0.659500</td>\n",
       "      <td>36.750000</td>\n",
       "      <td>1.000000</td>\n",
       "    </tr>\n",
       "    <tr>\n",
       "      <th>max</th>\n",
       "      <td>8.000000</td>\n",
       "      <td>160.000000</td>\n",
       "      <td>100.000000</td>\n",
       "      <td>51.000000</td>\n",
       "      <td>220.000000</td>\n",
       "      <td>49.700000</td>\n",
       "      <td>1.731000</td>\n",
       "      <td>45.000000</td>\n",
       "      <td>1.000000</td>\n",
       "    </tr>\n",
       "  </tbody>\n",
       "</table>\n",
       "</div>"
      ],
      "text/plain": [
       "       PREGNANCIES     GLUCOSE  BLOOD_PRESSURE  SKIN_THICKNESS     INSULIN  \\\n",
       "count     8.000000    8.000000        8.000000        8.000000    8.000000   \n",
       "mean      3.500000  131.125000       76.500000       28.125000  111.000000   \n",
       "std       3.545621   19.729872       14.412296       15.245023  100.081395   \n",
       "min       0.000000  105.000000       54.000000        0.000000    0.000000   \n",
       "25%       0.750000  116.750000       68.500000       21.250000    0.000000   \n",
       "50%       2.000000  128.000000       77.000000       32.000000  132.000000   \n",
       "75%       7.250000  147.250000       82.500000       35.250000  198.000000   \n",
       "max       8.000000  160.000000      100.000000       51.000000  220.000000   \n",
       "\n",
       "             BMI  DIABETES_PEDIGREE_FUNCTION        AGE  DIABETES_DX  \n",
       "count   8.000000                    8.000000   8.000000     8.000000  \n",
       "mean   33.062500                    0.643000  30.625000     0.625000  \n",
       "std    15.241198                    0.482463   8.879149     0.517549  \n",
       "min     0.000000                    0.239000  21.000000     0.000000  \n",
       "25%    30.100000                    0.328000  22.500000     0.000000  \n",
       "50%    34.600000                    0.529000  30.000000     1.000000  \n",
       "75%    43.000000                    0.659500  36.750000     1.000000  \n",
       "max    49.700000                    1.731000  45.000000     1.000000  "
      ]
     },
     "execution_count": 8,
     "metadata": {},
     "output_type": "execute_result"
    }
   ],
   "source": [
    "df_EvenBetterData.query('GLUCOSE > 100').describe()"
   ]
  },
  {
   "cell_type": "markdown",
   "metadata": {},
   "source": [
    "# 3. Feature Engineering\n",
    "\n",
    "We will illustrate a few of the transformation functions here, but the rest can be found in the [documentation](https://docs.snowflake.com/LIMITEDACCESS/snowflake-ml-preprocessing)."
   ]
  },
  {
   "cell_type": "markdown",
   "metadata": {},
   "source": [
    "### Normalize via `MinMaxScaler` function"
   ]
  },
  {
   "cell_type": "code",
   "execution_count": 9,
   "metadata": {},
   "outputs": [
    {
     "name": "stdout",
     "output_type": "stream",
     "text": [
      "-----------------------------\n",
      "|\"ID\"  |\"BMI\"  |\"BMI_NORM\"  |\n",
      "-----------------------------\n",
      "|1     |33.6   |0.4169      |\n",
      "|2     |26.6   |0.3300      |\n",
      "|3     |23.3   |0.2891      |\n",
      "|4     |28.1   |0.3486      |\n",
      "|5     |43.1   |0.5347      |\n",
      "|6     |25.6   |0.3176      |\n",
      "|7     |31.0   |0.3846      |\n",
      "|8     |35.3   |0.4380      |\n",
      "|9     |30.5   |0.3784      |\n",
      "|10    |0.0    |0.0000      |\n",
      "-----------------------------\n",
      "\n"
     ]
    }
   ],
   "source": [
    "# Normalize BMI column\n",
    "MMS_BMI = snowml.MinMaxScaler(input_cols=[\"BMI\"], output_cols=[\"BMI_NORM\"])\n",
    "normalized_bmi_df = MMS_BMI.fit(dataframe).transform(dataframe)\n",
    "\n",
    "# Reduce decimal places\n",
    "new_BMI = normalized_bmi_df.col(\"BMI_NORM\").cast(DecimalType(7, 4))\n",
    "normalized_bmi_df = normalized_bmi_df.with_column(\"BMI_NORM\", new_BMI)\n",
    "\n",
    "normalized_bmi_df.select(F.col(\"ID\"), F.col(\"BMI\"), F.col(\"BMI_NORM\")).show()"
   ]
  },
  {
   "cell_type": "markdown",
   "metadata": {},
   "source": [
    "Compare normalized and native BMI columns.  \n",
    " * We expect the normalized BMI to range (0, 1)\n",
    " * We expect all rows (2,768) to be present  "
   ]
  },
  {
   "cell_type": "code",
   "execution_count": 10,
   "metadata": {},
   "outputs": [
    {
     "name": "stdout",
     "output_type": "stream",
     "text": [
      "------------------------------------------------------------------------\n",
      "|\"COUNT_ID\"  |\"MIN_BMI\"  |\"MAX_BMI\"  |\"MIN_BMI_NORM\"  |\"MAX_BMI_NORM\"  |\n",
      "------------------------------------------------------------------------\n",
      "|2768        |0.0        |80.6       |0.0000          |1.0000          |\n",
      "------------------------------------------------------------------------\n",
      "\n"
     ]
    }
   ],
   "source": [
    "normalized_bmi_df \\\n",
    "    .select(F.col(\"ID\"), F.col(\"BMI\"), F.col(\"BMI_NORM\")) \\\n",
    "    .groupBy() \\\n",
    "    .agg(F.count(\"ID\").alias(\"count_ID\"), \\\n",
    "         F.min(\"BMI\").alias(\"min_BMI\"), \\\n",
    "         F.max(\"BMI\").alias(\"max_BMI\"),\\\n",
    "         F.min(\"BMI_NORM\").alias(\"min_BMI_NORM\"), \\\n",
    "         F.max(\"BMI_NORM\").alias(\"max_BMI_NORM\")) \\\n",
    "    .show()"
   ]
  },
  {
   "cell_type": "markdown",
   "metadata": {},
   "source": [
    "### Use `OrdinalEncoder`\n",
    "Convert categorical variables (with hierarchical relationship) into numerical values by assigning a unique integer value to each category, preserving the order or hierarchy among them.  \n",
    "\n",
    " * **First**, engineeer binnings of BLOOD_PRESSURE, labeled \"HYPERTENSION\". This dataset does not contain categorical variables.\n",
    " * Bins will be:  \n",
    "    * Normal (diastolic pressure < 80mmHg)  \n",
    "    * prehypertension (diastolic pressure between 80mmHg to 89mmHg)\n",
    "    * hypertension (diastolic pressure > 90mmHg)\n",
    " * **Second**, these categorical labels will be ordinally encoded using the *snowml* OrdinalEncoder function"
   ]
  },
  {
   "cell_type": "code",
   "execution_count": 11,
   "metadata": {},
   "outputs": [
    {
     "name": "stdout",
     "output_type": "stream",
     "text": [
      "   _COLUMN_NAME        _CATEGORY  _INDEX\n",
      "0  HYPERTENSION           NORMAL       0\n",
      "1  HYPERTENSION  PREHYPERTENSION       1\n",
      "2  HYPERTENSION     HYPERTENSION       2\n",
      "-----------------------------------------------------------------\n",
      "|\"ID\"  |\"BLOOD_PRESSURE\"  |\"HYPERTENSION\"   |\"HYPERTENSION_OE\"  |\n",
      "-----------------------------------------------------------------\n",
      "|1     |72.0              |NORMAL           |0.0                |\n",
      "|2     |66.0              |NORMAL           |0.0                |\n",
      "|3     |64.0              |NORMAL           |0.0                |\n",
      "|4     |66.0              |NORMAL           |0.0                |\n",
      "|5     |40.0              |NORMAL           |0.0                |\n",
      "|6     |74.0              |NORMAL           |0.0                |\n",
      "|7     |50.0              |NORMAL           |0.0                |\n",
      "|8     |0.0               |NORMAL           |0.0                |\n",
      "|9     |70.0              |NORMAL           |0.0                |\n",
      "|10    |96.0              |HYPERTENSION     |2.0                |\n",
      "|11    |92.0              |HYPERTENSION     |2.0                |\n",
      "|12    |74.0              |NORMAL           |0.0                |\n",
      "|13    |80.0              |PREHYPERTENSION  |1.0                |\n",
      "|14    |60.0              |NORMAL           |0.0                |\n",
      "|15    |72.0              |NORMAL           |0.0                |\n",
      "|16    |0.0               |NORMAL           |0.0                |\n",
      "|17    |84.0              |PREHYPERTENSION  |1.0                |\n",
      "|18    |74.0              |NORMAL           |0.0                |\n",
      "|19    |30.0              |NORMAL           |0.0                |\n",
      "|20    |70.0              |NORMAL           |0.0                |\n",
      "-----------------------------------------------------------------\n",
      "\n"
     ]
    }
   ],
   "source": [
    "# Create \"HYPERTENSION\" column\n",
    "\n",
    "normal_condition = dataframe[\"BLOOD_PRESSURE\"] < 80\n",
    "prehypertension_condition = dataframe[\"BLOOD_PRESSURE\"].between(80, 89)\n",
    "\n",
    "new_column = F.when(normal_condition, \"NORMAL\") \\\n",
    "             .when(prehypertension_condition, \"PREHYPERTENSION\") \\\n",
    "             .otherwise(\"HYPERTENSION\")\n",
    "\n",
    "df_hypertension = dataframe.withColumn(\"HYPERTENSION\", new_column) \n",
    "\n",
    "\n",
    "# Ordinal Encode HYPERTENSION column\n",
    "categories = {\n",
    "    \"HYPERTENSION\": np.array([\"NORMAL\", \"PREHYPERTENSION\", \"HYPERTENSION\"])\n",
    "}\n",
    "\n",
    "OE_HYPERTENSION = snowml.OrdinalEncoder(input_cols = [\"HYPERTENSION\"], \n",
    "                                        output_cols = [\"HYPERTENSION_OE\"], \n",
    "                                        categories = categories)\n",
    "\n",
    "df_hypertension2 = OE_HYPERTENSION.fit(df_hypertension).transform(df_hypertension)\n",
    "\n",
    "# Show the encoding\n",
    "print(OE_HYPERTENSION._state_pandas)\n",
    "\n",
    "df_hypertension2.select(F.col(\"ID\"), F.col(\"BLOOD_PRESSURE\"), F.col(\"HYPERTENSION\"), F.col(\"HYPERTENSION_OE\")).show(20)\n"
   ]
  },
  {
   "cell_type": "markdown",
   "metadata": {},
   "source": [
    "### Use `OneHotEncoder`  \n",
    "Convert categorical variables into binary vectors, where each category is represented by a unique combination of 0s and 1s, indicating the absence or presence of that category in the data.  \n",
    "  \n",
    " * For illustrative purposes only, will be applied to the HYPERTENSION column. \n",
    " * Of course, we'll use OrdinalEncoder for the model;  HYPERTENSION column has ordinality.\""
   ]
  },
  {
   "cell_type": "code",
   "execution_count": 12,
   "metadata": {},
   "outputs": [
    {
     "name": "stdout",
     "output_type": "stream",
     "text": [
      "--------------------------------------------\n",
      "|\"ID\"  |\"BLOOD_PRESSURE\"  |\"HYPERTENSION\"  |\n",
      "--------------------------------------------\n",
      "|1     |72.0              |NORMAL          |\n",
      "|2     |66.0              |NORMAL          |\n",
      "|3     |64.0              |NORMAL          |\n",
      "|4     |66.0              |NORMAL          |\n",
      "|5     |40.0              |NORMAL          |\n",
      "|6     |74.0              |NORMAL          |\n",
      "|7     |50.0              |NORMAL          |\n",
      "|8     |0.0               |NORMAL          |\n",
      "|9     |70.0              |NORMAL          |\n",
      "|10    |96.0              |HYPERTENSION    |\n",
      "--------------------------------------------\n",
      "\n"
     ]
    }
   ],
   "source": [
    "df_OHE_demo = df_hypertension2.select(F.col(\"ID\"), F.col(\"BLOOD_PRESSURE\"), F.col(\"HYPERTENSION\"))\n",
    "df_OHE_demo.show()"
   ]
  },
  {
   "cell_type": "code",
   "execution_count": 13,
   "metadata": {},
   "outputs": [
    {
     "name": "stdout",
     "output_type": "stream",
     "text": [
      "Snowpark Dataframe: \n",
      "-----------------------------------------------------------------------------------------------------------------------------------------------\n",
      "|\"ID\"  |\"BLOOD_PRESSURE\"  |\"HYPERTENSION\"  |\"HYPERTENSION_OHE_NORMAL\"  |\"HYPERTENSION_OHE_PREHYPERTENSION\"  |\"HYPERTENSION_OHE_HYPERTENSION\"  |\n",
      "-----------------------------------------------------------------------------------------------------------------------------------------------\n",
      "|1     |72.0              |NORMAL          |1                          |0                                   |0                                |\n",
      "|2     |66.0              |NORMAL          |1                          |0                                   |0                                |\n",
      "|3     |64.0              |NORMAL          |1                          |0                                   |0                                |\n",
      "|4     |66.0              |NORMAL          |1                          |0                                   |0                                |\n",
      "|5     |40.0              |NORMAL          |1                          |0                                   |0                                |\n",
      "|6     |74.0              |NORMAL          |1                          |0                                   |0                                |\n",
      "|7     |50.0              |NORMAL          |1                          |0                                   |0                                |\n",
      "|8     |0.0               |NORMAL          |1                          |0                                   |0                                |\n",
      "|9     |70.0              |NORMAL          |1                          |0                                   |0                                |\n",
      "|10    |96.0              |HYPERTENSION    |0                          |0                                   |1                                |\n",
      "-----------------------------------------------------------------------------------------------------------------------------------------------\n",
      "\n",
      "Pandas Dataframe:\n"
     ]
    },
    {
     "data": {
      "text/html": [
       "<div>\n",
       "<style scoped>\n",
       "    .dataframe tbody tr th:only-of-type {\n",
       "        vertical-align: middle;\n",
       "    }\n",
       "\n",
       "    .dataframe tbody tr th {\n",
       "        vertical-align: top;\n",
       "    }\n",
       "\n",
       "    .dataframe thead th {\n",
       "        text-align: right;\n",
       "    }\n",
       "</style>\n",
       "<table border=\"1\" class=\"dataframe\">\n",
       "  <thead>\n",
       "    <tr style=\"text-align: right;\">\n",
       "      <th></th>\n",
       "      <th>ID</th>\n",
       "      <th>BLOOD_PRESSURE</th>\n",
       "      <th>HYPERTENSION</th>\n",
       "      <th>HYPERTENSION_OHE_NORMAL</th>\n",
       "      <th>HYPERTENSION_OHE_PREHYPERTENSION</th>\n",
       "      <th>HYPERTENSION_OHE_HYPERTENSION</th>\n",
       "    </tr>\n",
       "  </thead>\n",
       "  <tbody>\n",
       "    <tr>\n",
       "      <th>0</th>\n",
       "      <td>1</td>\n",
       "      <td>72.0</td>\n",
       "      <td>NORMAL</td>\n",
       "      <td>1</td>\n",
       "      <td>0</td>\n",
       "      <td>0</td>\n",
       "    </tr>\n",
       "    <tr>\n",
       "      <th>1</th>\n",
       "      <td>2</td>\n",
       "      <td>66.0</td>\n",
       "      <td>NORMAL</td>\n",
       "      <td>1</td>\n",
       "      <td>0</td>\n",
       "      <td>0</td>\n",
       "    </tr>\n",
       "    <tr>\n",
       "      <th>2</th>\n",
       "      <td>3</td>\n",
       "      <td>64.0</td>\n",
       "      <td>NORMAL</td>\n",
       "      <td>1</td>\n",
       "      <td>0</td>\n",
       "      <td>0</td>\n",
       "    </tr>\n",
       "    <tr>\n",
       "      <th>3</th>\n",
       "      <td>4</td>\n",
       "      <td>66.0</td>\n",
       "      <td>NORMAL</td>\n",
       "      <td>1</td>\n",
       "      <td>0</td>\n",
       "      <td>0</td>\n",
       "    </tr>\n",
       "    <tr>\n",
       "      <th>4</th>\n",
       "      <td>5</td>\n",
       "      <td>40.0</td>\n",
       "      <td>NORMAL</td>\n",
       "      <td>1</td>\n",
       "      <td>0</td>\n",
       "      <td>0</td>\n",
       "    </tr>\n",
       "    <tr>\n",
       "      <th>5</th>\n",
       "      <td>6</td>\n",
       "      <td>74.0</td>\n",
       "      <td>NORMAL</td>\n",
       "      <td>1</td>\n",
       "      <td>0</td>\n",
       "      <td>0</td>\n",
       "    </tr>\n",
       "    <tr>\n",
       "      <th>6</th>\n",
       "      <td>7</td>\n",
       "      <td>50.0</td>\n",
       "      <td>NORMAL</td>\n",
       "      <td>1</td>\n",
       "      <td>0</td>\n",
       "      <td>0</td>\n",
       "    </tr>\n",
       "    <tr>\n",
       "      <th>7</th>\n",
       "      <td>8</td>\n",
       "      <td>0.0</td>\n",
       "      <td>NORMAL</td>\n",
       "      <td>1</td>\n",
       "      <td>0</td>\n",
       "      <td>0</td>\n",
       "    </tr>\n",
       "    <tr>\n",
       "      <th>8</th>\n",
       "      <td>9</td>\n",
       "      <td>70.0</td>\n",
       "      <td>NORMAL</td>\n",
       "      <td>1</td>\n",
       "      <td>0</td>\n",
       "      <td>0</td>\n",
       "    </tr>\n",
       "    <tr>\n",
       "      <th>9</th>\n",
       "      <td>10</td>\n",
       "      <td>96.0</td>\n",
       "      <td>HYPERTENSION</td>\n",
       "      <td>0</td>\n",
       "      <td>0</td>\n",
       "      <td>1</td>\n",
       "    </tr>\n",
       "  </tbody>\n",
       "</table>\n",
       "</div>"
      ],
      "text/plain": [
       "   ID  BLOOD_PRESSURE  HYPERTENSION  HYPERTENSION_OHE_NORMAL  \\\n",
       "0   1            72.0        NORMAL                        1   \n",
       "1   2            66.0        NORMAL                        1   \n",
       "2   3            64.0        NORMAL                        1   \n",
       "3   4            66.0        NORMAL                        1   \n",
       "4   5            40.0        NORMAL                        1   \n",
       "5   6            74.0        NORMAL                        1   \n",
       "6   7            50.0        NORMAL                        1   \n",
       "7   8             0.0        NORMAL                        1   \n",
       "8   9            70.0        NORMAL                        1   \n",
       "9  10            96.0  HYPERTENSION                        0   \n",
       "\n",
       "   HYPERTENSION_OHE_PREHYPERTENSION  HYPERTENSION_OHE_HYPERTENSION  \n",
       "0                                 0                              0  \n",
       "1                                 0                              0  \n",
       "2                                 0                              0  \n",
       "3                                 0                              0  \n",
       "4                                 0                              0  \n",
       "5                                 0                              0  \n",
       "6                                 0                              0  \n",
       "7                                 0                              0  \n",
       "8                                 0                              0  \n",
       "9                                 0                              1  "
      ]
     },
     "execution_count": 13,
     "metadata": {},
     "output_type": "execute_result"
    }
   ],
   "source": [
    "# Encode categoricals to numeric columns\n",
    "OHE_hypertension = snowml.OneHotEncoder(input_cols=[\"HYPERTENSION\"], \n",
    "                                        output_cols=[\"HYPERTENSION_OHE\"])\n",
    "\n",
    "df_OHE_demo2 = OHE_hypertension.fit(df_OHE_demo).transform(df_OHE_demo)\n",
    "\n",
    "df_OHE_demo2 = df_OHE_demo2.select(F.col(\"ID\"), F.col(\"BLOOD_PRESSURE\"), F.col(\"HYPERTENSION\"), \n",
    "                                   F.col(\"HYPERTENSION_OHE_NORMAL\"), F.col(\"HYPERTENSION_OHE_PREHYPERTENSION\"), F.col(\"HYPERTENSION_OHE_HYPERTENSION\"))\n",
    "\n",
    "print(\"Snowpark Dataframe: \")\n",
    "df_OHE_demo2.show(10)\n",
    "print(\"Pandas Dataframe:\")\n",
    "df_OHE_demo2.to_pandas().head(10)"
   ]
  },
  {
   "cell_type": "markdown",
   "metadata": {},
   "source": [
    "# 4. Create Production-grade Feature Engineering Pipeline"
   ]
  },
  {
   "cell_type": "markdown",
   "metadata": {},
   "source": [
    "### Determine which features to keep\n",
    "We'll use a quick correlation approach and show image rendering abilities."
   ]
  },
  {
   "cell_type": "code",
   "execution_count": 14,
   "metadata": {},
   "outputs": [
    {
     "data": {
      "text/html": [
       "<div>\n",
       "<style scoped>\n",
       "    .dataframe tbody tr th:only-of-type {\n",
       "        vertical-align: middle;\n",
       "    }\n",
       "\n",
       "    .dataframe tbody tr th {\n",
       "        vertical-align: top;\n",
       "    }\n",
       "\n",
       "    .dataframe thead th {\n",
       "        text-align: right;\n",
       "    }\n",
       "</style>\n",
       "<table border=\"1\" class=\"dataframe\">\n",
       "  <thead>\n",
       "    <tr style=\"text-align: right;\">\n",
       "      <th></th>\n",
       "      <th>PREGNANCIES</th>\n",
       "      <th>GLUCOSE</th>\n",
       "      <th>BLOOD_PRESSURE</th>\n",
       "      <th>SKIN_THICKNESS</th>\n",
       "      <th>INSULIN</th>\n",
       "      <th>BMI</th>\n",
       "      <th>DIABETES_PEDIGREE_FUNCTION</th>\n",
       "      <th>AGE</th>\n",
       "      <th>DIABETES_DX</th>\n",
       "    </tr>\n",
       "  </thead>\n",
       "  <tbody>\n",
       "    <tr>\n",
       "      <th>PREGNANCIES</th>\n",
       "      <td>1.000000</td>\n",
       "      <td>0.122839</td>\n",
       "      <td>0.147253</td>\n",
       "      <td>-0.068673</td>\n",
       "      <td>-0.075734</td>\n",
       "      <td>0.018761</td>\n",
       "      <td>-0.027731</td>\n",
       "      <td>0.540805</td>\n",
       "      <td>0.223796</td>\n",
       "    </tr>\n",
       "    <tr>\n",
       "      <th>GLUCOSE</th>\n",
       "      <td>0.122839</td>\n",
       "      <td>1.000000</td>\n",
       "      <td>0.142095</td>\n",
       "      <td>0.061023</td>\n",
       "      <td>0.323445</td>\n",
       "      <td>0.225308</td>\n",
       "      <td>0.127195</td>\n",
       "      <td>0.256958</td>\n",
       "      <td>0.460644</td>\n",
       "    </tr>\n",
       "    <tr>\n",
       "      <th>BLOOD_PRESSURE</th>\n",
       "      <td>0.147253</td>\n",
       "      <td>0.142095</td>\n",
       "      <td>1.000000</td>\n",
       "      <td>0.201167</td>\n",
       "      <td>0.087823</td>\n",
       "      <td>0.281560</td>\n",
       "      <td>0.048471</td>\n",
       "      <td>0.238684</td>\n",
       "      <td>0.072900</td>\n",
       "    </tr>\n",
       "    <tr>\n",
       "      <th>SKIN_THICKNESS</th>\n",
       "      <td>-0.068673</td>\n",
       "      <td>0.061023</td>\n",
       "      <td>0.201167</td>\n",
       "      <td>1.000000</td>\n",
       "      <td>0.445345</td>\n",
       "      <td>0.393494</td>\n",
       "      <td>0.179830</td>\n",
       "      <td>-0.111895</td>\n",
       "      <td>0.075603</td>\n",
       "    </tr>\n",
       "    <tr>\n",
       "      <th>INSULIN</th>\n",
       "      <td>-0.075734</td>\n",
       "      <td>0.323445</td>\n",
       "      <td>0.087823</td>\n",
       "      <td>0.445345</td>\n",
       "      <td>1.000000</td>\n",
       "      <td>0.215926</td>\n",
       "      <td>0.190500</td>\n",
       "      <td>-0.073458</td>\n",
       "      <td>0.123646</td>\n",
       "    </tr>\n",
       "    <tr>\n",
       "      <th>BMI</th>\n",
       "      <td>0.018761</td>\n",
       "      <td>0.225308</td>\n",
       "      <td>0.281560</td>\n",
       "      <td>0.393494</td>\n",
       "      <td>0.215926</td>\n",
       "      <td>1.000000</td>\n",
       "      <td>0.129766</td>\n",
       "      <td>0.038175</td>\n",
       "      <td>0.280928</td>\n",
       "    </tr>\n",
       "    <tr>\n",
       "      <th>DIABETES_PEDIGREE_FUNCTION</th>\n",
       "      <td>-0.027731</td>\n",
       "      <td>0.127195</td>\n",
       "      <td>0.048471</td>\n",
       "      <td>0.179830</td>\n",
       "      <td>0.190500</td>\n",
       "      <td>0.129766</td>\n",
       "      <td>1.000000</td>\n",
       "      <td>0.028544</td>\n",
       "      <td>0.160664</td>\n",
       "    </tr>\n",
       "    <tr>\n",
       "      <th>AGE</th>\n",
       "      <td>0.540805</td>\n",
       "      <td>0.256958</td>\n",
       "      <td>0.238684</td>\n",
       "      <td>-0.111895</td>\n",
       "      <td>-0.073458</td>\n",
       "      <td>0.038175</td>\n",
       "      <td>0.028544</td>\n",
       "      <td>1.000000</td>\n",
       "      <td>0.237050</td>\n",
       "    </tr>\n",
       "    <tr>\n",
       "      <th>DIABETES_DX</th>\n",
       "      <td>0.223796</td>\n",
       "      <td>0.460644</td>\n",
       "      <td>0.072900</td>\n",
       "      <td>0.075603</td>\n",
       "      <td>0.123646</td>\n",
       "      <td>0.280928</td>\n",
       "      <td>0.160664</td>\n",
       "      <td>0.237050</td>\n",
       "      <td>1.000000</td>\n",
       "    </tr>\n",
       "  </tbody>\n",
       "</table>\n",
       "</div>"
      ],
      "text/plain": [
       "                            PREGNANCIES   GLUCOSE  BLOOD_PRESSURE  \\\n",
       "PREGNANCIES                    1.000000  0.122839        0.147253   \n",
       "GLUCOSE                        0.122839  1.000000        0.142095   \n",
       "BLOOD_PRESSURE                 0.147253  0.142095        1.000000   \n",
       "SKIN_THICKNESS                -0.068673  0.061023        0.201167   \n",
       "INSULIN                       -0.075734  0.323445        0.087823   \n",
       "BMI                            0.018761  0.225308        0.281560   \n",
       "DIABETES_PEDIGREE_FUNCTION    -0.027731  0.127195        0.048471   \n",
       "AGE                            0.540805  0.256958        0.238684   \n",
       "DIABETES_DX                    0.223796  0.460644        0.072900   \n",
       "\n",
       "                            SKIN_THICKNESS   INSULIN       BMI  \\\n",
       "PREGNANCIES                      -0.068673 -0.075734  0.018761   \n",
       "GLUCOSE                           0.061023  0.323445  0.225308   \n",
       "BLOOD_PRESSURE                    0.201167  0.087823  0.281560   \n",
       "SKIN_THICKNESS                    1.000000  0.445345  0.393494   \n",
       "INSULIN                           0.445345  1.000000  0.215926   \n",
       "BMI                               0.393494  0.215926  1.000000   \n",
       "DIABETES_PEDIGREE_FUNCTION        0.179830  0.190500  0.129766   \n",
       "AGE                              -0.111895 -0.073458  0.038175   \n",
       "DIABETES_DX                       0.075603  0.123646  0.280928   \n",
       "\n",
       "                            DIABETES_PEDIGREE_FUNCTION       AGE  DIABETES_DX  \n",
       "PREGNANCIES                                  -0.027731  0.540805     0.223796  \n",
       "GLUCOSE                                       0.127195  0.256958     0.460644  \n",
       "BLOOD_PRESSURE                                0.048471  0.238684     0.072900  \n",
       "SKIN_THICKNESS                                0.179830 -0.111895     0.075603  \n",
       "INSULIN                                       0.190500 -0.073458     0.123646  \n",
       "BMI                                           0.129766  0.038175     0.280928  \n",
       "DIABETES_PEDIGREE_FUNCTION                    1.000000  0.028544     0.160664  \n",
       "AGE                                           0.028544  1.000000     0.237050  \n",
       "DIABETES_DX                                   0.160664  0.237050     1.000000  "
      ]
     },
     "execution_count": 14,
     "metadata": {},
     "output_type": "execute_result"
    }
   ],
   "source": [
    "# Simple correlation matrix\n",
    "df_correlation = correlation(df = df_hypertension)\n",
    "df_correlation"
   ]
  },
  {
   "cell_type": "code",
   "execution_count": 15,
   "metadata": {},
   "outputs": [
    {
     "data": {
      "image/png": "[encoded data removed]",
      "text/plain": [
       "<Figure size 700x700 with 2 Axes>"
      ]
     },
     "metadata": {},
     "output_type": "display_data"
    }
   ],
   "source": [
    "# Create a heatmap with the features\n",
    "fig, ax = plt.subplots(figsize=(7, 7))\n",
    "plt.title('Heatmap of Diabetes Data Correlations', fontsize=20)\n",
    "dataplot = sns.heatmap(df_correlation, cmap=\"YlGnBu\", annot=True)\n",
    "\n",
    "plt.show()"
   ]
  },
  {
   "cell_type": "markdown",
   "metadata": {},
   "source": [
    "### Create `Pipeline` object\n",
    "This standardizes feature engineering so that both training and inferencing will use the same transformations."
   ]
  },
  {
   "cell_type": "markdown",
   "metadata": {},
   "source": [
    "##### Shape dataframe "
   ]
  },
  {
   "cell_type": "code",
   "execution_count": 16,
   "metadata": {},
   "outputs": [
    {
     "name": "stdout",
     "output_type": "stream",
     "text": [
      "----------------------------------------------------------------------------------------------------------------------------\n",
      "|\"PREGNANCIES\"  |\"GLUCOSE\"  |\"SKIN_THICKNESS\"  |\"INSULIN\"  |\"BMI\"  |\"DIABETES_PEDIGREE_FUNCTION\"  |\"AGE\"  |\"HYPERTENSION\"  |\n",
      "----------------------------------------------------------------------------------------------------------------------------\n",
      "|6.0            |148.0      |35.0              |0.0        |33.6   |0.627                         |50.0   |NORMAL          |\n",
      "|1.0            |85.0       |29.0              |0.0        |26.6   |0.351                         |31.0   |NORMAL          |\n",
      "|8.0            |183.0      |0.0               |0.0        |23.3   |0.672                         |32.0   |NORMAL          |\n",
      "|1.0            |89.0       |23.0              |94.0       |28.1   |0.167                         |21.0   |NORMAL          |\n",
      "|0.0            |137.0      |35.0              |168.0      |43.1   |2.288                         |33.0   |NORMAL          |\n",
      "|5.0            |116.0      |0.0               |0.0        |25.6   |0.201                         |30.0   |NORMAL          |\n",
      "|3.0            |78.0       |32.0              |88.0       |31.0   |0.248                         |26.0   |NORMAL          |\n",
      "|10.0           |115.0      |0.0               |0.0        |35.3   |0.134                         |29.0   |NORMAL          |\n",
      "|2.0            |197.0      |45.0              |543.0      |30.5   |0.158                         |53.0   |NORMAL          |\n",
      "|8.0            |125.0      |0.0               |0.0        |0.0    |0.232                         |54.0   |HYPERTENSION    |\n",
      "----------------------------------------------------------------------------------------------------------------------------\n",
      "\n"
     ]
    },
    {
     "data": {
      "text/plain": [
       "[('PREGNANCIES', 'double'),\n",
       " ('GLUCOSE', 'double'),\n",
       " ('SKIN_THICKNESS', 'double'),\n",
       " ('INSULIN', 'double'),\n",
       " ('BMI', 'double'),\n",
       " ('DIABETES_PEDIGREE_FUNCTION', 'double'),\n",
       " ('AGE', 'double'),\n",
       " ('HYPERTENSION', 'string(15)')]"
      ]
     },
     "execution_count": 16,
     "metadata": {},
     "output_type": "execute_result"
    }
   ],
   "source": [
    "# Drop fields with low predictive power\n",
    "df_pipeline = df_hypertension.drop(\"ID\").drop(\"BLOOD_PRESSURE\").drop(\"DIABETES_DX\")\n",
    "df_pipeline.show()\n",
    "\n",
    "df_pipeline.dtypes\n"
   ]
  },
  {
   "cell_type": "markdown",
   "metadata": {},
   "source": [
    "##### Categorize features"
   ]
  },
  {
   "cell_type": "code",
   "execution_count": 17,
   "metadata": {},
   "outputs": [
    {
     "name": "stdout",
     "output_type": "stream",
     "text": [
      "{'HYPERTENSION': array(['NORMAL', 'PREHYPERTENSION', 'HYPERTENSION'], dtype='<U15')}\n"
     ]
    }
   ],
   "source": [
    "# Categorize all the features for processing\n",
    "CATEGORICAL_COLUMNS = [\"HYPERTENSION\"]\n",
    "CATEGORICAL_COLUMNS_OE = [\"HYPERTENSION_OE\"] # Used for labeling new OE column\n",
    "NUMERICAL_COLUMNS = [\"PREGNANCIES\", \"GLUCOSE\", \"SKIN_THICKNESS\", \"INSULIN\", \"BMI\", \"DIABETES_PEDIGREE_FUNCTION\",\"AGE\"]\n",
    "\n",
    "categories = {\n",
    "    \"HYPERTENSION\": np.array([\"NORMAL\", \"PREHYPERTENSION\", \"HYPERTENSION\"])\n",
    "}\n",
    "\n",
    "print(categories)"
   ]
  },
  {
   "cell_type": "markdown",
   "metadata": {},
   "source": [
    "##### Build pipeline"
   ]
  },
  {
   "cell_type": "code",
   "execution_count": 18,
   "metadata": {},
   "outputs": [],
   "source": [
    "preprocessing_pipeline_diabetes = Pipeline(\n",
    "    steps=[\n",
    "            (\n",
    "                \"OE\",\n",
    "                snowml.OrdinalEncoder(\n",
    "                    input_cols = CATEGORICAL_COLUMNS,\n",
    "                    output_cols = CATEGORICAL_COLUMNS_OE,\n",
    "                    categories = categories,\n",
    "                )\n",
    "            ),\n",
    "            (\n",
    "                \"MMS\",\n",
    "                snowml.MinMaxScaler(\n",
    "                    clip = True,\n",
    "                    input_cols = NUMERICAL_COLUMNS,\n",
    "                    output_cols = NUMERICAL_COLUMNS,\n",
    "                )\n",
    "            )\n",
    "    ]\n",
    ")\n",
    "\n",
    "PIPELINE_FILE_DIABETES = 'preprocessing_pipeline_diabetes.joblib'"
   ]
  },
  {
   "cell_type": "markdown",
   "metadata": {},
   "source": [
    "##### Serialize pipeline"
   ]
  },
  {
   "cell_type": "code",
   "execution_count": 19,
   "metadata": {},
   "outputs": [
    {
     "data": {
      "text/plain": [
       "['preprocessing_pipeline_diabetes.joblib']"
      ]
     },
     "execution_count": 19,
     "metadata": {},
     "output_type": "execute_result"
    }
   ],
   "source": [
    "joblib.dump(preprocessing_pipeline_diabetes, PIPELINE_FILE_DIABETES) "
   ]
  },
  {
   "cell_type": "markdown",
   "metadata": {},
   "source": [
    "#### Apply to data  \n",
    "Apply serialized pipeline to data, including `.fit()` and `.transform()`.\n",
    "  \n",
    "The .fit() method is used to compute any necessary statistics or parameters required for preprocessing.  \n",
    "  \n",
    "For example:  \n",
    "  \n",
    " * In data preprocessing, .fit() might calculate the mean and standard deviation for scaling future data.  \n",
    " * In feature engineering, it might calculate the parameters needed for transformations like PCA.  \n",
    "  \n",
    "Once these parameters are calculated using the training data with .fit(), they are then applied to new, unseen data through methods like .transform(). This ensures that your pipeline processes new data consistently and accurately, based on what it has learned from the training data.  \n",
    "  \n",
    "**Let's go!**  "
   ]
  },
  {
   "cell_type": "code",
   "execution_count": 20,
   "metadata": {},
   "outputs": [
    {
     "name": "stdout",
     "output_type": "stream",
     "text": [
      "---------------------------------------------------------------------------------------------------------------------------------------------------------------------------------------------------------\n",
      "|\"PREGNANCIES\"         |\"GLUCOSE\"           |\"SKIN_THICKNESS\"     |\"INSULIN\"            |\"BMI\"                |\"DIABETES_PEDIGREE_FUNCTION\"  |\"AGE\"                |\"HYPERTENSION_OE\"  |\"HYPERTENSION\"  |\n",
      "---------------------------------------------------------------------------------------------------------------------------------------------------------------------------------------------------------\n",
      "|0.3529411764705882    |0.7437185929648241  |0.3181818181818182   |0.0                  |0.4168734491315137   |0.23441502988898377           |0.4833333333333334   |0.0                |NORMAL          |\n",
      "|0.058823529411764705  |0.4271356783919598  |0.2636363636363636   |0.0                  |0.3300248138957817   |0.11656703672075149           |0.16666666666666663  |0.0                |NORMAL          |\n",
      "|0.47058823529411764   |0.9195979899497487  |0.0                  |0.0                  |0.2890818858560794   |0.25362937660119556           |0.18333333333333335  |0.0                |NORMAL          |\n",
      "|0.058823529411764705  |0.4472361809045226  |0.20909090909090908  |0.1111111111111111   |0.34863523573200994  |0.038001707941929974          |0.0                  |0.0                |NORMAL          |\n",
      "|0.0                   |0.6884422110552764  |0.3181818181818182   |0.19858156028368795  |0.5347394540942929   |0.9436379163108453            |0.20000000000000007  |0.0                |NORMAL          |\n",
      "|0.29411764705882354   |0.5829145728643216  |0.0                  |0.0                  |0.31761786600496283  |0.05251921434671221           |0.15000000000000002  |0.0                |NORMAL          |\n",
      "|0.1764705882352941    |0.3919597989949749  |0.2909090909090909   |0.10401891252955082  |0.38461538461538464  |0.07258753202391117           |0.08333333333333337  |0.0                |NORMAL          |\n",
      "|0.5882352941176471    |0.577889447236181   |0.0                  |0.0                  |0.4379652605459057   |0.02391118701964133           |0.13333333333333336  |0.0                |NORMAL          |\n",
      "|0.11764705882352941   |0.9899497487437187  |0.40909090909090906  |0.6418439716312057   |0.3784119106699752   |0.03415883859948761           |0.5333333333333333   |0.0                |NORMAL          |\n",
      "|0.47058823529411764   |0.628140703517588   |0.0                  |0.0                  |0.0                  |0.06575576430401367           |0.55                 |2.0                |HYPERTENSION    |\n",
      "---------------------------------------------------------------------------------------------------------------------------------------------------------------------------------------------------------\n",
      "\n"
     ]
    }
   ],
   "source": [
    "transformed_diabetes_df = preprocessing_pipeline_diabetes.fit(df_pipeline).transform(df_pipeline)\n",
    "transformed_diabetes_df.show()"
   ]
  },
  {
   "cell_type": "markdown",
   "metadata": {},
   "source": [
    "### Save serialized pipeline\n",
    "\n",
    " * Check that we're using the \"GOLD\" schema, as this is where DS_ASSETS staging was created\n",
    " * If not, then switch the schema being used in session to \"GOLD\""
   ]
  },
  {
   "cell_type": "code",
   "execution_count": 21,
   "metadata": {},
   "outputs": [
    {
     "data": {
      "text/plain": [
       "[PutResult(source='preprocessing_pipeline_diabetes.joblib', target='preprocessing_pipeline_diabetes.joblib.gz', source_size=1744, target_size=1040, source_compression='NONE', target_compression='GZIP', status='UPLOADED', message='')]"
      ]
     },
     "execution_count": 21,
     "metadata": {},
     "output_type": "execute_result"
    }
   ],
   "source": [
    "# Save the serialized (pickled) object into stage \"DS_ASSETS\"\n",
    "session.file.put(PIPELINE_FILE_DIABETES, \"@DS_ASSETS\", overwrite=True)"
   ]
  },
  {
   "cell_type": "markdown",
   "metadata": {},
   "source": [
    "# 5. ML Modeling"
   ]
  },
  {
   "cell_type": "markdown",
   "metadata": {},
   "source": [
    "- Train a logit model using Snowpark ML Package\n",
    "  - Makes sense because we want to produce a binary prediction (yes or no diabetes)\n",
    "- Train a random forest classifier using Snowpark ML Package\n",
    "  - Makes sense because we have a mixture of categorical and continuous variables, which typically is handled well by tree-based models.\n",
    "- Deploy the model to Snowflake Model Registry (stored in staging) and call for inferences."
   ]
  },
  {
   "cell_type": "markdown",
   "metadata": {},
   "source": [
    "#### GET DATA"
   ]
  },
  {
   "cell_type": "code",
   "execution_count": 22,
   "metadata": {},
   "outputs": [
    {
     "name": "stdout",
     "output_type": "stream",
     "text": [
      "--------------------------------------------------------------------------------------------------------------------------------------------\n",
      "|\"PREGNANCIES\"  |\"GLUCOSE\"  |\"HYPERTENSION\"  |\"SKIN_THICKNESS\"  |\"INSULIN\"  |\"BMI\"  |\"DIABETES_PEDIGREE_FUNCTION\"  |\"AGE\"  |\"DIABETES_DX\"  |\n",
      "--------------------------------------------------------------------------------------------------------------------------------------------\n",
      "|6.0            |148.0      |NORMAL          |35.0              |0.0        |33.6   |0.627                         |50.0   |1.0            |\n",
      "|1.0            |85.0       |NORMAL          |29.0              |0.0        |26.6   |0.351                         |31.0   |0.0            |\n",
      "|8.0            |183.0      |NORMAL          |0.0               |0.0        |23.3   |0.672                         |32.0   |1.0            |\n",
      "|1.0            |89.0       |NORMAL          |23.0              |94.0       |28.1   |0.167                         |21.0   |0.0            |\n",
      "|0.0            |137.0      |NORMAL          |35.0              |168.0      |43.1   |2.288                         |33.0   |1.0            |\n",
      "|5.0            |116.0      |NORMAL          |0.0               |0.0        |25.6   |0.201                         |30.0   |0.0            |\n",
      "|3.0            |78.0       |NORMAL          |32.0              |88.0       |31.0   |0.248                         |26.0   |1.0            |\n",
      "|10.0           |115.0      |NORMAL          |0.0               |0.0        |35.3   |0.134                         |29.0   |0.0            |\n",
      "|2.0            |197.0      |NORMAL          |45.0              |543.0      |30.5   |0.158                         |53.0   |1.0            |\n",
      "|8.0            |125.0      |HYPERTENSION    |0.0               |0.0        |0.0    |0.232                         |54.0   |1.0            |\n",
      "--------------------------------------------------------------------------------------------------------------------------------------------\n",
      "\n"
     ]
    },
    {
     "data": {
      "text/plain": [
       "[('PREGNANCIES', 'double'),\n",
       " ('GLUCOSE', 'double'),\n",
       " ('HYPERTENSION', 'string(15)'),\n",
       " ('SKIN_THICKNESS', 'double'),\n",
       " ('INSULIN', 'double'),\n",
       " ('BMI', 'double'),\n",
       " ('DIABETES_PEDIGREE_FUNCTION', 'double'),\n",
       " ('AGE', 'double'),\n",
       " ('DIABETES_DX', 'double')]"
      ]
     },
     "execution_count": 22,
     "metadata": {},
     "output_type": "execute_result"
    }
   ],
   "source": [
    "# Get data\n",
    "databaseName = 'DEMO_DATASCIENCE'\n",
    "schemaName = 'GOLD'\n",
    "tableName = 'DIABETES_DS'\n",
    "\n",
    "location = f'{databaseName}.{schemaName}.{tableName}'\n",
    "\n",
    "df_ds = session.table(location)\n",
    "\n",
    "df_ds.show()\n",
    "df_ds.dtypes"
   ]
  },
  {
   "cell_type": "markdown",
   "metadata": {},
   "source": [
    "#### Get `Pipeline` Ready"
   ]
  },
  {
   "cell_type": "code",
   "execution_count": 23,
   "metadata": {},
   "outputs": [],
   "source": [
    "# Categorize all the features for modeling\n",
    "CATEGORICAL_COLUMNS = [\"HYPERTENSION\"]\n",
    "CATEGORICAL_COLUMNS_OE = [\"HYPERTENSION_OE\"] # To name the ordinal encoded columns\n",
    "NUMERICAL_COLUMNS = [\"PREGNANCIES\", \"GLUCOSE\", \"SKIN_THICKNESS\", \"INSULIN\", \"BMI\", \"DIABETES_PEDIGREE_FUNCTION\",\"AGE\"]\n",
    "\n",
    "LABEL_COLUMNS = ['DIABETES_DX']"
   ]
  },
  {
   "cell_type": "code",
   "execution_count": 24,
   "metadata": {},
   "outputs": [],
   "source": [
    "# Load the preprocessing pipeline object\n",
    "PIPELINE_FILE = 'preprocessing_pipeline_diabetes.joblib'\n",
    "preprocessing_pipeline = joblib.load(PIPELINE_FILE)"
   ]
  },
  {
   "cell_type": "markdown",
   "metadata": {},
   "source": [
    "### Create Train/Test Split"
   ]
  },
  {
   "cell_type": "code",
   "execution_count": 25,
   "metadata": {},
   "outputs": [],
   "source": [
    "# Split the data into train and test sets\n",
    "diabetes_train_df, diabetes_test_df = df_ds.random_split(weights = [0.7, 0.3], seed = 23)\n",
    "\n",
    "# Run the train and test sets through the Pipeline object we defined earlier\n",
    "train_df = preprocessing_pipeline.\\\n",
    "            fit(diabetes_train_df).\\\n",
    "            transform(diabetes_train_df)\n",
    "\n",
    "test_df = preprocessing_pipeline.transform(diabetes_test_df)"
   ]
  },
  {
   "cell_type": "markdown",
   "metadata": {},
   "source": [
    "#### Persist Train/Test Data in Snowflake  \n",
    "Save train and test subsets in Snowflake. Makes for easy access.  \n",
    "Can use this syntax to retrieve:  \n",
    "  \n",
    "`train_df = session.table('DEMO_DATASCIENCE.GOLD.DIABETES_TRAIN_DF')`  \n",
    "`test_df = session.table('DEMO_DATASCIENCE.GOLD.DIABETES_TEST_DF')`"
   ]
  },
  {
   "cell_type": "code",
   "execution_count": 26,
   "metadata": {},
   "outputs": [],
   "source": [
    "train_df.write.save_as_table(table_name='DIABETES_TRAIN_DF', mode='overwrite')\n",
    "test_df.write.save_as_table(table_name='DIABETES_TEST_DF', mode='overwrite')"
   ]
  },
  {
   "cell_type": "markdown",
   "metadata": {},
   "source": [
    "### Build Simple Logit Model\n",
    "\n",
    "What's happening here? \n",
    "\n",
    "- The `model.fit()` function creates a temp stored procedure in the background. \n",
    "- Be sure to use a [Snowpark Optimized Warehouse](https://docs.snowflake.com/en/user-guide/warehouses-snowpark-optimized) **ONLY** if you need more memory. This is **NOT** to be used for all ML processes.  \n",
    "- The `model.predict()` function creates a temporary vectorized UDF in the background, which means the input DataFrame is batched as Pandas DataFrames\n",
    "- Inference is parallelized across all batches.  \n",
    "  \n",
    "What's **NOT** happening here? \n",
    "- Building a finely tuned ML model worthy of winning a Kaggle competition"
   ]
  },
  {
   "cell_type": "markdown",
   "metadata": {},
   "source": [
    "Build model. Compute is pushed down to Snowflake."
   ]
  },
  {
   "cell_type": "code",
   "execution_count": 27,
   "metadata": {},
   "outputs": [
    {
     "data": {
      "text/plain": [
       "<snowflake.ml.modeling.linear_model.logistic_regression.LogisticRegression at 0x30a897910>"
      ]
     },
     "execution_count": 27,
     "metadata": {},
     "output_type": "execute_result"
    }
   ],
   "source": [
    "# Define the Classifier\n",
    "logit_basic = LR(max_iter = 100, #Default is 100 iterations\n",
    "                 random_state = 23,\n",
    "                 penalty = 'none',\n",
    "                 input_cols = CATEGORICAL_COLUMNS_OE + NUMERICAL_COLUMNS,\n",
    "                 label_cols = LABEL_COLUMNS,\n",
    "                 output_cols = ['PREDICTED_DIABETES_DX']\n",
    "                )\n",
    "\n",
    "# Train on train_df data\n",
    "logit_basic.fit(train_df)"
   ]
  },
  {
   "cell_type": "markdown",
   "metadata": {},
   "source": [
    "#### Test Basic Logit Model  \n",
    "Scoring on test dataset.  \n",
    "We can compare the actual outcome to the machine's predicted outcome.  \n",
    "Scoring computation is pushed down into Snowflake.  "
   ]
  },
  {
   "cell_type": "code",
   "execution_count": 28,
   "metadata": {},
   "outputs": [
    {
     "name": "stdout",
     "output_type": "stream",
     "text": [
      "-----------------------------------------------------------------------------------------------------------------------------------------------------------------------------------------------------------------------------------------------------\n",
      "|\"HYPERTENSION_OE\"  |\"GLUCOSE\"            |\"BMI\"                |\"HYPERTENSION\"   |\"DIABETES_PEDIGREE_FUNCTION\"  |\"SKIN_THICKNESS\"     |\"PREGNANCIES\"         |\"INSULIN\"            |\"AGE\"                |\"DIABETES_DX\"  |\"PREDICTED_DIABETES_DX\"  |\n",
      "-----------------------------------------------------------------------------------------------------------------------------------------------------------------------------------------------------------------------------------------------------\n",
      "|0.0                |0.7437185929648241   |0.4168734491315137   |NORMAL           |0.23441502988898377           |0.3181818181818182   |0.3529411764705882    |0.0                  |0.4833333333333334   |1.0            |1.0                      |\n",
      "|0.0                |0.577889447236181    |0.4379652605459057   |NORMAL           |0.02391118701964133           |0.0                  |0.5882352941176471    |0.0                  |0.13333333333333336  |0.0            |0.0                      |\n",
      "|1.0                |0.6984924623115578   |0.33622828784119113  |PREHYPERTENSION  |0.5819812126387702            |0.0                  |0.5882352941176471    |0.0                  |0.6                  |0.0            |1.0                      |\n",
      "|0.0                |0.8341708542713568   |0.3200992555831266   |NORMAL           |0.21733561058923995           |0.17272727272727273  |0.29411764705882354   |0.20685579196217493  |0.5                  |1.0            |1.0                      |\n",
      "|1.0                |0.592964824120603    |0.5682382133995038   |PREHYPERTENSION  |0.20196413321947054           |0.42727272727272725  |0.0                   |0.2718676122931442   |0.16666666666666663  |1.0            |0.0                      |\n",
      "|0.0                |0.577889447236181    |0.42928039702233256  |NORMAL           |0.19257045260461142           |0.2727272727272727   |0.058823529411764705  |0.11347517730496454  |0.18333333333333335  |1.0            |0.0                      |\n",
      "|1.0                |0.49748743718592964  |0.43920595533498763  |PREHYPERTENSION  |0.13236549957301452           |0.0                  |0.47058823529411764   |0.0                  |0.4833333333333334   |0.0            |0.0                      |\n",
      "|2.0                |0.9849246231155779   |0.49379652605459057  |HYPERTENSION     |0.159265584970111             |0.0                  |0.4117647058823529    |0.0                  |0.33333333333333337  |1.0            |1.0                      |\n",
      "|0.0                |0.7386934673366834   |0.48883374689826303  |NORMAL           |0.07643040136635354           |0.0                  |0.4117647058823529    |0.0                  |0.3666666666666667   |1.0            |1.0                      |\n",
      "|0.0                |0.5477386934673367   |0.44665012406947896  |NORMAL           |0.19982920580700259           |0.23636363636363636  |0.29411764705882354   |0.0                  |0.65                 |0.0            |0.0                      |\n",
      "-----------------------------------------------------------------------------------------------------------------------------------------------------------------------------------------------------------------------------------------------------\n",
      "\n"
     ]
    }
   ],
   "source": [
    "scored_logit_basic = logit_basic.predict(test_df)\n",
    "\n",
    "scored_logit_basic.show()"
   ]
  },
  {
   "cell_type": "code",
   "execution_count": 29,
   "metadata": {},
   "outputs": [
    {
     "data": {
      "text/plain": [
       "[Row(status='Statement executed successfully.')]"
      ]
     },
     "execution_count": 29,
     "metadata": {},
     "output_type": "execute_result"
    }
   ],
   "source": [
    "# Bumping up horsepower, otherwise it will take 1.0 minutes to run on small compute.\n",
    "session.sql(\"ALTER WAREHOUSE ML_HOL_WH SET WAREHOUSE_SIZE=XLARGE;\").collect()"
   ]
  },
  {
   "cell_type": "code",
   "execution_count": 30,
   "metadata": {},
   "outputs": [
    {
     "name": "stdout",
     "output_type": "stream",
     "text": [
      "Acccuracy: 0.765258\n",
      "Precision: 0.7416267942583732\n"
     ]
    },
    {
     "name": "stderr",
     "output_type": "stream",
     "text": [
      "DataFrame.flatten() is deprecated since 0.7.0. Use `DataFrame.join_table_function()` instead.\n"
     ]
    },
    {
     "name": "stdout",
     "output_type": "stream",
     "text": [
      "Recall: 0.5149501661129569\n",
      "F1: 0.607843137254902\n"
     ]
    },
    {
     "data": {
      "image/png": "[encoded data removed]",
      "text/plain": [
       "<Figure size 640x480 with 2 Axes>"
      ]
     },
     "metadata": {},
     "output_type": "display_data"
    }
   ],
   "source": [
    "cf_matrix = CM(df = scored_logit_basic, \n",
    "               y_true_col_name = 'DIABETES_DX', \n",
    "               y_pred_col_name = 'PREDICTED_DIABETES_DX')\n",
    "\n",
    "sns.heatmap(data = cf_matrix, annot = True, fmt = 'g', cmap = 'Blues')\n",
    "\n",
    "plt.xlabel('Predicted Dx')\n",
    "plt.ylabel('Actual Dx')\n",
    "plt.title('Logit Confusion Matrix')\n",
    "\n",
    "print('Acccuracy:', M.accuracy_score(df = scored_logit_basic, \n",
    "                                     y_true_col_names='DIABETES_DX', \n",
    "                                     y_pred_col_names='PREDICTED_DIABETES_DX'))\n",
    "\n",
    "print('Precision:', M.precision_score(df = scored_logit_basic, \n",
    "                                      y_true_col_names='DIABETES_DX', \n",
    "                                      y_pred_col_names='PREDICTED_DIABETES_DX'))\n",
    "\n",
    "print('Recall:', M.recall_score(df = scored_logit_basic, \n",
    "                                y_true_col_names='DIABETES_DX', \n",
    "                                y_pred_col_names='PREDICTED_DIABETES_DX'))\n",
    "\n",
    "print('F1:', M.f1_score(df = scored_logit_basic, \n",
    "                        y_true_col_names='DIABETES_DX', \n",
    "                        y_pred_col_names='PREDICTED_DIABETES_DX'))"
   ]
  },
  {
   "cell_type": "code",
   "execution_count": 31,
   "metadata": {},
   "outputs": [
    {
     "data": {
      "text/plain": [
       "[Row(status='Statement executed successfully.')]"
      ]
     },
     "execution_count": 31,
     "metadata": {},
     "output_type": "execute_result"
    }
   ],
   "source": [
    "session.sql(\"ALTER WAREHOUSE ML_HOL_WH SET WAREHOUSE_SIZE=SMALL;\").collect()"
   ]
  },
  {
   "cell_type": "code",
   "execution_count": 32,
   "metadata": {},
   "outputs": [],
   "source": [
    "#df_check = scored_logit_basic.select(F.col(\"DIABETES_DX\"), F.col(\"PREDICTED_DIABETES_DX\")).to_pandas()\n",
    "#df_check['Gut_Check'] = np.where((df_check['DIABETES_DX'] == 1) & (df_check['PREDICTED_DIABETES_DX'] == 1), 'True Positive',\n",
    "#                        np.where((df_check['DIABETES_DX'] == 0) & (df_check['PREDICTED_DIABETES_DX'] == 0), 'True Negative',\n",
    "#                        np.where((df_check['DIABETES_DX'] == 1) & (df_check['PREDICTED_DIABETES_DX'] == 0), 'False Negative',\n",
    "#                        np.where((df_check['DIABETES_DX'] == 0) & (df_check['PREDICTED_DIABETES_DX'] == 1), 'False Positive',\n",
    "#                                 'ERROR'\n",
    "#                                 ))))\n",
    "#df_check['Gut_Check'].value_counts()"
   ]
  },
  {
   "cell_type": "code",
   "execution_count": 33,
   "metadata": {},
   "outputs": [],
   "source": [
    "#SCIKIT_CM(df_check['DIABETES_DX'], df_check['PREDICTED_DIABETES_DX'])"
   ]
  },
  {
   "cell_type": "markdown",
   "metadata": {},
   "source": [
    "### Build Better Logit Model"
   ]
  },
  {
   "cell_type": "code",
   "execution_count": 34,
   "metadata": {},
   "outputs": [
    {
     "data": {
      "text/plain": [
       "<Axes: >"
      ]
     },
     "execution_count": 34,
     "metadata": {},
     "output_type": "execute_result"
    },
    {
     "data": {
      "image/png": "[encoded data removed]",
      "text/plain": [
       "<Figure size 500x300 with 1 Axes>"
      ]
     },
     "metadata": {},
     "output_type": "display_data"
    }
   ],
   "source": [
    "# Check feature coefficients here to see which variables had greatest impact.\n",
    "lm_local = logit_basic.to_sklearn()\n",
    "feature_coefficients = pd.DataFrame(lm_local.coef_.T, lm_local.feature_names_in_, columns=['Coefficient'])\n",
    "feature_coefficients.sort_values('Coefficient').plot.barh(y='Coefficient', figsize=(5,3))"
   ]
  },
  {
   "cell_type": "markdown",
   "metadata": {},
   "source": [
    "#### Logit with Regularization"
   ]
  },
  {
   "cell_type": "markdown",
   "metadata": {},
   "source": [
    "**Lasso (l1) regularization**  \n",
    "Feature selection, ie may penalize coefficients to zero"
   ]
  },
  {
   "cell_type": "code",
   "execution_count": 35,
   "metadata": {},
   "outputs": [
    {
     "ename": "SnowparkSQLException",
     "evalue": "(1300) (1304): 01b4875d-0b06-49ee-0003-789200302b36: 100357 (P0000): Python Interpreter Error:\nTraceback (most recent call last):\n  File \"_udf_code.py\", line 77, in compute\n  File \"/Users/vchung/anaconda3/envs/snowflake_ds/lib/python3.10/site-packages/snowflake/ml/modeling/_internal/snowpark_trainer.py\", line 226, in fit_wrapper_function\n  File \"/usr/lib/python_udf/2a5f6b3994c4047ec3fe27f98a354efb361b5af2f72a8f3eb7234989dd3a7978/lib/python3.10/site-packages/sklearn/linear_model/_logistic.py\", line 1162, in fit\n    solver = _check_solver(self.solver, self.penalty, self.dual)\n  File \"/usr/lib/python_udf/2a5f6b3994c4047ec3fe27f98a354efb361b5af2f72a8f3eb7234989dd3a7978/lib/python3.10/site-packages/sklearn/linear_model/_logistic.py\", line 54, in _check_solver\n    raise ValueError(\nValueError: Solver lbfgs supports only 'l2' or 'none' penalties, got l1 penalty.\n in function SNOWPARK_TEMP_PROCEDURE_7533ZR9GPX with handler compute",
     "output_type": "error",
     "traceback": [
      "\u001b[0;31m---------------------------------------------------------------------------\u001b[0m",
      "\u001b[0;31mSnowparkSQLException\u001b[0m                      Traceback (most recent call last)",
      "File \u001b[0;32m~/anaconda3/envs/snowflake_ds/lib/python3.10/site-packages/snowflake/ml/_internal/telemetry.py:358\u001b[0m, in \u001b[0;36msend_api_usage_telemetry.<locals>.decorator.<locals>.wrap\u001b[0;34m(*args, **kwargs)\u001b[0m\n\u001b[1;32m    357\u001b[0m \u001b[38;5;28;01mtry\u001b[39;00m:\n\u001b[0;32m--> 358\u001b[0m     res \u001b[38;5;241m=\u001b[39m \u001b[43mfunc\u001b[49m\u001b[43m(\u001b[49m\u001b[38;5;241;43m*\u001b[39;49m\u001b[43margs\u001b[49m\u001b[43m,\u001b[49m\u001b[43m \u001b[49m\u001b[38;5;241;43m*\u001b[39;49m\u001b[38;5;241;43m*\u001b[39;49m\u001b[43mkwargs\u001b[49m\u001b[43m)\u001b[49m\n\u001b[1;32m    359\u001b[0m \u001b[38;5;28;01mexcept\u001b[39;00m \u001b[38;5;167;01mException\u001b[39;00m \u001b[38;5;28;01mas\u001b[39;00m e:\n",
      "File \u001b[0;32m~/anaconda3/envs/snowflake_ds/lib/python3.10/site-packages/snowflake/ml/modeling/linear_model/logistic_regression.py:389\u001b[0m, in \u001b[0;36mLogisticRegression.fit\u001b[0;34m(self, dataset)\u001b[0m\n\u001b[1;32m    378\u001b[0m model_trainer \u001b[38;5;241m=\u001b[39m ModelTrainerBuilder\u001b[38;5;241m.\u001b[39mbuild(\n\u001b[1;32m    379\u001b[0m     estimator\u001b[38;5;241m=\u001b[39m\u001b[38;5;28mself\u001b[39m\u001b[38;5;241m.\u001b[39m_sklearn_object,\n\u001b[1;32m    380\u001b[0m     dataset\u001b[38;5;241m=\u001b[39mdataset,\n\u001b[0;32m   (...)\u001b[0m\n\u001b[1;32m    387\u001b[0m     batch_size\u001b[38;5;241m=\u001b[39m\u001b[38;5;28mself\u001b[39m\u001b[38;5;241m.\u001b[39m_batch_size,\n\u001b[1;32m    388\u001b[0m )\n\u001b[0;32m--> 389\u001b[0m \u001b[38;5;28mself\u001b[39m\u001b[38;5;241m.\u001b[39m_sklearn_object \u001b[38;5;241m=\u001b[39m \u001b[43mmodel_trainer\u001b[49m\u001b[38;5;241;43m.\u001b[39;49m\u001b[43mtrain\u001b[49m\u001b[43m(\u001b[49m\u001b[43m)\u001b[49m\n\u001b[1;32m    390\u001b[0m \u001b[38;5;28mself\u001b[39m\u001b[38;5;241m.\u001b[39m_is_fitted \u001b[38;5;241m=\u001b[39m \u001b[38;5;28;01mTrue\u001b[39;00m\n",
      "File \u001b[0;32m~/anaconda3/envs/snowflake_ds/lib/python3.10/site-packages/snowflake/ml/modeling/_internal/snowpark_trainer.py:329\u001b[0m, in \u001b[0;36mSnowparkModelTrainer.train\u001b[0;34m(self)\u001b[0m\n\u001b[1;32m    325\u001b[0m         \u001b[38;5;28;01mraise\u001b[39;00m exceptions\u001b[38;5;241m.\u001b[39mSnowflakeMLException(\n\u001b[1;32m    326\u001b[0m             error_code\u001b[38;5;241m=\u001b[39merror_codes\u001b[38;5;241m.\u001b[39mNOT_FOUND,\n\u001b[1;32m    327\u001b[0m             original_exception\u001b[38;5;241m=\u001b[39m\u001b[38;5;167;01mRuntimeError\u001b[39;00m(modeling_error_messages\u001b[38;5;241m.\u001b[39mATTRIBUTE_NOT_SET\u001b[38;5;241m.\u001b[39mformat(\u001b[38;5;124m\"\u001b[39m\u001b[38;5;124mlabel_cols\u001b[39m\u001b[38;5;124m\"\u001b[39m)),\n\u001b[1;32m    328\u001b[0m         ) \u001b[38;5;28;01mfrom\u001b[39;00m \u001b[38;5;21;01me\u001b[39;00m\n\u001b[0;32m--> 329\u001b[0m     \u001b[38;5;28;01mraise\u001b[39;00m e\n\u001b[1;32m    331\u001b[0m \u001b[38;5;28;01mif\u001b[39;00m \u001b[38;5;124m\"\u001b[39m\u001b[38;5;124m|\u001b[39m\u001b[38;5;124m\"\u001b[39m \u001b[38;5;129;01min\u001b[39;00m sproc_export_file_name:\n",
      "File \u001b[0;32m~/anaconda3/envs/snowflake_ds/lib/python3.10/site-packages/snowflake/ml/modeling/_internal/snowpark_trainer.py:313\u001b[0m, in \u001b[0;36mSnowparkModelTrainer.train\u001b[0;34m(self)\u001b[0m\n\u001b[1;32m    312\u001b[0m \u001b[38;5;28;01mtry\u001b[39;00m:\n\u001b[0;32m--> 313\u001b[0m     sproc_export_file_name: \u001b[38;5;28mstr\u001b[39m \u001b[38;5;241m=\u001b[39m \u001b[43mfit_wrapper_sproc\u001b[49m\u001b[43m(\u001b[49m\n\u001b[1;32m    314\u001b[0m \u001b[43m        \u001b[49m\u001b[38;5;28;43mself\u001b[39;49m\u001b[38;5;241;43m.\u001b[39;49m\u001b[43msession\u001b[49m\u001b[43m,\u001b[49m\n\u001b[1;32m    315\u001b[0m \u001b[43m        \u001b[49m\u001b[43mqueries\u001b[49m\u001b[43m,\u001b[49m\n\u001b[1;32m    316\u001b[0m \u001b[43m        \u001b[49m\u001b[43mstage_transform_file_name\u001b[49m\u001b[43m,\u001b[49m\n\u001b[1;32m    317\u001b[0m \u001b[43m        \u001b[49m\u001b[43mstage_result_file_name\u001b[49m\u001b[43m,\u001b[49m\n\u001b[1;32m    318\u001b[0m \u001b[43m        \u001b[49m\u001b[38;5;28;43mself\u001b[39;49m\u001b[38;5;241;43m.\u001b[39;49m\u001b[43minput_cols\u001b[49m\u001b[43m,\u001b[49m\n\u001b[1;32m    319\u001b[0m \u001b[43m        \u001b[49m\u001b[38;5;28;43mself\u001b[39;49m\u001b[38;5;241;43m.\u001b[39;49m\u001b[43mlabel_cols\u001b[49m\u001b[43m,\u001b[49m\n\u001b[1;32m    320\u001b[0m \u001b[43m        \u001b[49m\u001b[38;5;28;43mself\u001b[39;49m\u001b[38;5;241;43m.\u001b[39;49m\u001b[43msample_weight_col\u001b[49m\u001b[43m,\u001b[49m\n\u001b[1;32m    321\u001b[0m \u001b[43m        \u001b[49m\u001b[43mstatement_params\u001b[49m\u001b[43m,\u001b[49m\n\u001b[1;32m    322\u001b[0m \u001b[43m    \u001b[49m\u001b[43m)\u001b[49m\n\u001b[1;32m    323\u001b[0m \u001b[38;5;28;01mexcept\u001b[39;00m snowpark_exceptions\u001b[38;5;241m.\u001b[39mSnowparkClientException \u001b[38;5;28;01mas\u001b[39;00m e:\n",
      "File \u001b[0;32m~/anaconda3/envs/snowflake_ds/lib/python3.10/site-packages/snowflake/snowpark/stored_procedure.py:109\u001b[0m, in \u001b[0;36mStoredProcedure.__call__\u001b[0;34m(self, session, *args)\u001b[0m\n\u001b[1;32m    108\u001b[0m \u001b[38;5;28;01melse\u001b[39;00m:\n\u001b[0;32m--> 109\u001b[0m     \u001b[38;5;28;01mreturn\u001b[39;00m \u001b[43msession\u001b[49m\u001b[38;5;241;43m.\u001b[39;49m\u001b[43m_call\u001b[49m\u001b[43m(\u001b[49m\n\u001b[1;32m    110\u001b[0m \u001b[43m        \u001b[49m\u001b[38;5;28;43mself\u001b[39;49m\u001b[38;5;241;43m.\u001b[39;49m\u001b[43mname\u001b[49m\u001b[43m,\u001b[49m\u001b[43m \u001b[49m\u001b[38;5;241;43m*\u001b[39;49m\u001b[43margs\u001b[49m\u001b[43m,\u001b[49m\u001b[43m \u001b[49m\u001b[43mis_return_table\u001b[49m\u001b[38;5;241;43m=\u001b[39;49m\u001b[38;5;28;43mself\u001b[39;49m\u001b[38;5;241;43m.\u001b[39;49m\u001b[43m_is_return_table\u001b[49m\n\u001b[1;32m    111\u001b[0m \u001b[43m    \u001b[49m\u001b[43m)\u001b[49m\n",
      "File \u001b[0;32m~/anaconda3/envs/snowflake_ds/lib/python3.10/site-packages/snowflake/snowpark/session.py:2630\u001b[0m, in \u001b[0;36mSession._call\u001b[0;34m(self, sproc_name, statement_params, is_return_table, log_on_exception, *args)\u001b[0m\n\u001b[1;32m   2629\u001b[0m     \u001b[38;5;28;01mreturn\u001b[39;00m df\n\u001b[0;32m-> 2630\u001b[0m \u001b[38;5;28;01mreturn\u001b[39;00m \u001b[43mdf\u001b[49m\u001b[38;5;241;43m.\u001b[39;49m\u001b[43mcollect\u001b[49m\u001b[43m(\u001b[49m\u001b[43mstatement_params\u001b[49m\u001b[38;5;241;43m=\u001b[39;49m\u001b[43mstatement_params\u001b[49m\u001b[43m)\u001b[49m[\u001b[38;5;241m0\u001b[39m][\u001b[38;5;241m0\u001b[39m]\n",
      "File \u001b[0;32m~/anaconda3/envs/snowflake_ds/lib/python3.10/site-packages/snowflake/snowpark/_internal/telemetry.py:139\u001b[0m, in \u001b[0;36mdf_collect_api_telemetry.<locals>.wrap\u001b[0;34m(*args, **kwargs)\u001b[0m\n\u001b[1;32m    138\u001b[0m \u001b[38;5;28;01mwith\u001b[39;00m args[\u001b[38;5;241m0\u001b[39m]\u001b[38;5;241m.\u001b[39m_session\u001b[38;5;241m.\u001b[39mquery_history() \u001b[38;5;28;01mas\u001b[39;00m query_history:\n\u001b[0;32m--> 139\u001b[0m     result \u001b[38;5;241m=\u001b[39m \u001b[43mfunc\u001b[49m\u001b[43m(\u001b[49m\u001b[38;5;241;43m*\u001b[39;49m\u001b[43margs\u001b[49m\u001b[43m,\u001b[49m\u001b[43m \u001b[49m\u001b[38;5;241;43m*\u001b[39;49m\u001b[38;5;241;43m*\u001b[39;49m\u001b[43mkwargs\u001b[49m\u001b[43m)\u001b[49m\n\u001b[1;32m    140\u001b[0m plan \u001b[38;5;241m=\u001b[39m args[\u001b[38;5;241m0\u001b[39m]\u001b[38;5;241m.\u001b[39m_select_statement \u001b[38;5;129;01mor\u001b[39;00m args[\u001b[38;5;241m0\u001b[39m]\u001b[38;5;241m.\u001b[39m_plan\n",
      "File \u001b[0;32m~/anaconda3/envs/snowflake_ds/lib/python3.10/site-packages/snowflake/snowpark/dataframe.py:587\u001b[0m, in \u001b[0;36mDataFrame.collect\u001b[0;34m(self, statement_params, block, log_on_exception, case_sensitive)\u001b[0m\n\u001b[1;32m    573\u001b[0m \u001b[38;5;250m\u001b[39m\u001b[38;5;124;03m\"\"\"Executes the query representing this DataFrame and returns the result as a\u001b[39;00m\n\u001b[1;32m    574\u001b[0m \u001b[38;5;124;03mlist of :class:`Row` objects.\u001b[39;00m\n\u001b[1;32m    575\u001b[0m \n\u001b[0;32m   (...)\u001b[0m\n\u001b[1;32m    585\u001b[0m \u001b[38;5;124;03m    :meth:`collect_nowait()`\u001b[39;00m\n\u001b[1;32m    586\u001b[0m \u001b[38;5;124;03m\"\"\"\u001b[39;00m\n\u001b[0;32m--> 587\u001b[0m \u001b[38;5;28;01mreturn\u001b[39;00m \u001b[38;5;28;43mself\u001b[39;49m\u001b[38;5;241;43m.\u001b[39;49m\u001b[43m_internal_collect_with_tag_no_telemetry\u001b[49m\u001b[43m(\u001b[49m\n\u001b[1;32m    588\u001b[0m \u001b[43m    \u001b[49m\u001b[43mstatement_params\u001b[49m\u001b[38;5;241;43m=\u001b[39;49m\u001b[43mstatement_params\u001b[49m\u001b[43m,\u001b[49m\n\u001b[1;32m    589\u001b[0m \u001b[43m    \u001b[49m\u001b[43mblock\u001b[49m\u001b[38;5;241;43m=\u001b[39;49m\u001b[43mblock\u001b[49m\u001b[43m,\u001b[49m\n\u001b[1;32m    590\u001b[0m \u001b[43m    \u001b[49m\u001b[43mlog_on_exception\u001b[49m\u001b[38;5;241;43m=\u001b[39;49m\u001b[43mlog_on_exception\u001b[49m\u001b[43m,\u001b[49m\n\u001b[1;32m    591\u001b[0m \u001b[43m    \u001b[49m\u001b[43mcase_sensitive\u001b[49m\u001b[38;5;241;43m=\u001b[39;49m\u001b[43mcase_sensitive\u001b[49m\u001b[43m,\u001b[49m\n\u001b[1;32m    592\u001b[0m \u001b[43m\u001b[49m\u001b[43m)\u001b[49m\n",
      "File \u001b[0;32m~/anaconda3/envs/snowflake_ds/lib/python3.10/site-packages/snowflake/snowpark/dataframe.py:634\u001b[0m, in \u001b[0;36mDataFrame._internal_collect_with_tag_no_telemetry\u001b[0;34m(self, statement_params, block, data_type, log_on_exception, case_sensitive)\u001b[0m\n\u001b[1;32m    622\u001b[0m \u001b[38;5;28;01mdef\u001b[39;00m \u001b[38;5;21m_internal_collect_with_tag_no_telemetry\u001b[39m(\n\u001b[1;32m    623\u001b[0m     \u001b[38;5;28mself\u001b[39m,\n\u001b[1;32m    624\u001b[0m     \u001b[38;5;241m*\u001b[39m,\n\u001b[0;32m   (...)\u001b[0m\n\u001b[1;32m    632\u001b[0m     \u001b[38;5;66;03m# we should always call this method instead of collect(), to make sure the\u001b[39;00m\n\u001b[1;32m    633\u001b[0m     \u001b[38;5;66;03m# query tag is set properly.\u001b[39;00m\n\u001b[0;32m--> 634\u001b[0m     \u001b[38;5;28;01mreturn\u001b[39;00m \u001b[38;5;28;43mself\u001b[39;49m\u001b[38;5;241;43m.\u001b[39;49m\u001b[43m_session\u001b[49m\u001b[38;5;241;43m.\u001b[39;49m\u001b[43m_conn\u001b[49m\u001b[38;5;241;43m.\u001b[39;49m\u001b[43mexecute\u001b[49m\u001b[43m(\u001b[49m\n\u001b[1;32m    635\u001b[0m \u001b[43m        \u001b[49m\u001b[38;5;28;43mself\u001b[39;49m\u001b[38;5;241;43m.\u001b[39;49m\u001b[43m_plan\u001b[49m\u001b[43m,\u001b[49m\n\u001b[1;32m    636\u001b[0m \u001b[43m        \u001b[49m\u001b[43mblock\u001b[49m\u001b[38;5;241;43m=\u001b[39;49m\u001b[43mblock\u001b[49m\u001b[43m,\u001b[49m\n\u001b[1;32m    637\u001b[0m \u001b[43m        \u001b[49m\u001b[43mdata_type\u001b[49m\u001b[38;5;241;43m=\u001b[39;49m\u001b[43mdata_type\u001b[49m\u001b[43m,\u001b[49m\n\u001b[1;32m    638\u001b[0m \u001b[43m        \u001b[49m\u001b[43m_statement_params\u001b[49m\u001b[38;5;241;43m=\u001b[39;49m\u001b[43mcreate_or_update_statement_params_with_query_tag\u001b[49m\u001b[43m(\u001b[49m\n\u001b[1;32m    639\u001b[0m \u001b[43m            \u001b[49m\u001b[43mstatement_params\u001b[49m\u001b[43m \u001b[49m\u001b[38;5;129;43;01mor\u001b[39;49;00m\u001b[43m \u001b[49m\u001b[38;5;28;43mself\u001b[39;49m\u001b[38;5;241;43m.\u001b[39;49m\u001b[43m_statement_params\u001b[49m\u001b[43m,\u001b[49m\n\u001b[1;32m    640\u001b[0m \u001b[43m            \u001b[49m\u001b[38;5;28;43mself\u001b[39;49m\u001b[38;5;241;43m.\u001b[39;49m\u001b[43m_session\u001b[49m\u001b[38;5;241;43m.\u001b[39;49m\u001b[43mquery_tag\u001b[49m\u001b[43m,\u001b[49m\n\u001b[1;32m    641\u001b[0m \u001b[43m            \u001b[49m\u001b[43mSKIP_LEVELS_THREE\u001b[49m\u001b[43m,\u001b[49m\n\u001b[1;32m    642\u001b[0m \u001b[43m        \u001b[49m\u001b[43m)\u001b[49m\u001b[43m,\u001b[49m\n\u001b[1;32m    643\u001b[0m \u001b[43m        \u001b[49m\u001b[43mlog_on_exception\u001b[49m\u001b[38;5;241;43m=\u001b[39;49m\u001b[43mlog_on_exception\u001b[49m\u001b[43m,\u001b[49m\n\u001b[1;32m    644\u001b[0m \u001b[43m        \u001b[49m\u001b[43mcase_sensitive\u001b[49m\u001b[38;5;241;43m=\u001b[39;49m\u001b[43mcase_sensitive\u001b[49m\u001b[43m,\u001b[49m\n\u001b[1;32m    645\u001b[0m \u001b[43m    \u001b[49m\u001b[43m)\u001b[49m\n",
      "File \u001b[0;32m~/anaconda3/envs/snowflake_ds/lib/python3.10/site-packages/snowflake/snowpark/_internal/server_connection.py:472\u001b[0m, in \u001b[0;36mServerConnection.execute\u001b[0;34m(self, plan, to_pandas, to_iter, block, data_type, log_on_exception, case_sensitive, **kwargs)\u001b[0m\n\u001b[1;32m    469\u001b[0m     \u001b[38;5;28;01mraise\u001b[39;00m \u001b[38;5;167;01mNotImplementedError\u001b[39;00m(\n\u001b[1;32m    470\u001b[0m         \u001b[38;5;124m\"\u001b[39m\u001b[38;5;124mAsync query is not supported in stored procedure yet\u001b[39m\u001b[38;5;124m\"\u001b[39m\n\u001b[1;32m    471\u001b[0m     )\n\u001b[0;32m--> 472\u001b[0m result_set, result_meta \u001b[38;5;241m=\u001b[39m \u001b[38;5;28;43mself\u001b[39;49m\u001b[38;5;241;43m.\u001b[39;49m\u001b[43mget_result_set\u001b[49m\u001b[43m(\u001b[49m\n\u001b[1;32m    473\u001b[0m \u001b[43m    \u001b[49m\u001b[43mplan\u001b[49m\u001b[43m,\u001b[49m\n\u001b[1;32m    474\u001b[0m \u001b[43m    \u001b[49m\u001b[43mto_pandas\u001b[49m\u001b[43m,\u001b[49m\n\u001b[1;32m    475\u001b[0m \u001b[43m    \u001b[49m\u001b[43mto_iter\u001b[49m\u001b[43m,\u001b[49m\n\u001b[1;32m    476\u001b[0m \u001b[43m    \u001b[49m\u001b[38;5;241;43m*\u001b[39;49m\u001b[38;5;241;43m*\u001b[39;49m\u001b[43mkwargs\u001b[49m\u001b[43m,\u001b[49m\n\u001b[1;32m    477\u001b[0m \u001b[43m    \u001b[49m\u001b[43mblock\u001b[49m\u001b[38;5;241;43m=\u001b[39;49m\u001b[43mblock\u001b[49m\u001b[43m,\u001b[49m\n\u001b[1;32m    478\u001b[0m \u001b[43m    \u001b[49m\u001b[43mdata_type\u001b[49m\u001b[38;5;241;43m=\u001b[39;49m\u001b[43mdata_type\u001b[49m\u001b[43m,\u001b[49m\n\u001b[1;32m    479\u001b[0m \u001b[43m    \u001b[49m\u001b[43mlog_on_exception\u001b[49m\u001b[38;5;241;43m=\u001b[39;49m\u001b[43mlog_on_exception\u001b[49m\u001b[43m,\u001b[49m\n\u001b[1;32m    480\u001b[0m \u001b[43m    \u001b[49m\u001b[43mcase_sensitive\u001b[49m\u001b[38;5;241;43m=\u001b[39;49m\u001b[43mcase_sensitive\u001b[49m\u001b[43m,\u001b[49m\n\u001b[1;32m    481\u001b[0m \u001b[43m\u001b[49m\u001b[43m)\u001b[49m\n\u001b[1;32m    482\u001b[0m \u001b[38;5;28;01mif\u001b[39;00m \u001b[38;5;129;01mnot\u001b[39;00m block:\n",
      "File \u001b[0;32m~/anaconda3/envs/snowflake_ds/lib/python3.10/site-packages/snowflake/snowpark/_internal/analyzer/snowflake_plan.py:185\u001b[0m, in \u001b[0;36mSnowflakePlan.Decorator.wrap_exception.<locals>.wrap\u001b[0;34m(*args, **kwargs)\u001b[0m\n\u001b[1;32m    182\u001b[0m ne \u001b[38;5;241m=\u001b[39m SnowparkClientExceptionMessages\u001b[38;5;241m.\u001b[39mSQL_EXCEPTION_FROM_PROGRAMMING_ERROR(\n\u001b[1;32m    183\u001b[0m     e\n\u001b[1;32m    184\u001b[0m )\n\u001b[0;32m--> 185\u001b[0m \u001b[38;5;28;01mraise\u001b[39;00m ne\u001b[38;5;241m.\u001b[39mwith_traceback(tb) \u001b[38;5;28;01mfrom\u001b[39;00m \u001b[38;5;28;01mNone\u001b[39;00m\n",
      "File \u001b[0;32m~/anaconda3/envs/snowflake_ds/lib/python3.10/site-packages/snowflake/snowpark/_internal/analyzer/snowflake_plan.py:116\u001b[0m, in \u001b[0;36mSnowflakePlan.Decorator.wrap_exception.<locals>.wrap\u001b[0;34m(*args, **kwargs)\u001b[0m\n\u001b[1;32m    115\u001b[0m \u001b[38;5;28;01mtry\u001b[39;00m:\n\u001b[0;32m--> 116\u001b[0m     \u001b[38;5;28;01mreturn\u001b[39;00m \u001b[43mfunc\u001b[49m\u001b[43m(\u001b[49m\u001b[38;5;241;43m*\u001b[39;49m\u001b[43margs\u001b[49m\u001b[43m,\u001b[49m\u001b[43m \u001b[49m\u001b[38;5;241;43m*\u001b[39;49m\u001b[38;5;241;43m*\u001b[39;49m\u001b[43mkwargs\u001b[49m\u001b[43m)\u001b[49m\n\u001b[1;32m    117\u001b[0m \u001b[38;5;28;01mexcept\u001b[39;00m snowflake\u001b[38;5;241m.\u001b[39mconnector\u001b[38;5;241m.\u001b[39merrors\u001b[38;5;241m.\u001b[39mProgrammingError \u001b[38;5;28;01mas\u001b[39;00m e:\n",
      "File \u001b[0;32m~/anaconda3/envs/snowflake_ds/lib/python3.10/site-packages/snowflake/snowpark/_internal/server_connection.py:573\u001b[0m, in \u001b[0;36mServerConnection.get_result_set\u001b[0;34m(self, plan, to_pandas, to_iter, block, data_type, log_on_exception, case_sensitive, **kwargs)\u001b[0m\n\u001b[1;32m    572\u001b[0m     final_query \u001b[38;5;241m=\u001b[39m final_query\u001b[38;5;241m.\u001b[39mreplace(holder, id_)\n\u001b[0;32m--> 573\u001b[0m result \u001b[38;5;241m=\u001b[39m \u001b[38;5;28;43mself\u001b[39;49m\u001b[38;5;241;43m.\u001b[39;49m\u001b[43mrun_query\u001b[49m\u001b[43m(\u001b[49m\n\u001b[1;32m    574\u001b[0m \u001b[43m    \u001b[49m\u001b[43mfinal_query\u001b[49m\u001b[43m,\u001b[49m\n\u001b[1;32m    575\u001b[0m \u001b[43m    \u001b[49m\u001b[43mto_pandas\u001b[49m\u001b[43m,\u001b[49m\n\u001b[1;32m    576\u001b[0m \u001b[43m    \u001b[49m\u001b[43mto_iter\u001b[49m\u001b[43m \u001b[49m\u001b[38;5;129;43;01mand\u001b[39;49;00m\u001b[43m \u001b[49m\u001b[43m(\u001b[49m\u001b[43mi\u001b[49m\u001b[43m \u001b[49m\u001b[38;5;241;43m==\u001b[39;49m\u001b[43m \u001b[49m\u001b[38;5;28;43mlen\u001b[39;49m\u001b[43m(\u001b[49m\u001b[43mplan\u001b[49m\u001b[38;5;241;43m.\u001b[39;49m\u001b[43mqueries\u001b[49m\u001b[43m)\u001b[49m\u001b[43m \u001b[49m\u001b[38;5;241;43m-\u001b[39;49m\u001b[43m \u001b[49m\u001b[38;5;241;43m1\u001b[39;49m\u001b[43m)\u001b[49m\u001b[43m,\u001b[49m\n\u001b[1;32m    577\u001b[0m \u001b[43m    \u001b[49m\u001b[43mis_ddl_on_temp_object\u001b[49m\u001b[38;5;241;43m=\u001b[39;49m\u001b[43mquery\u001b[49m\u001b[38;5;241;43m.\u001b[39;49m\u001b[43mis_ddl_on_temp_object\u001b[49m\u001b[43m,\u001b[49m\n\u001b[1;32m    578\u001b[0m \u001b[43m    \u001b[49m\u001b[43mblock\u001b[49m\u001b[38;5;241;43m=\u001b[39;49m\u001b[38;5;129;43;01mnot\u001b[39;49;00m\u001b[43m \u001b[49m\u001b[43mis_last\u001b[49m\u001b[43m,\u001b[49m\n\u001b[1;32m    579\u001b[0m \u001b[43m    \u001b[49m\u001b[43mdata_type\u001b[49m\u001b[38;5;241;43m=\u001b[39;49m\u001b[43mdata_type\u001b[49m\u001b[43m,\u001b[49m\n\u001b[1;32m    580\u001b[0m \u001b[43m    \u001b[49m\u001b[43masync_job_plan\u001b[49m\u001b[38;5;241;43m=\u001b[39;49m\u001b[43mplan\u001b[49m\u001b[43m,\u001b[49m\n\u001b[1;32m    581\u001b[0m \u001b[43m    \u001b[49m\u001b[43mlog_on_exception\u001b[49m\u001b[38;5;241;43m=\u001b[39;49m\u001b[43mlog_on_exception\u001b[49m\u001b[43m,\u001b[49m\n\u001b[1;32m    582\u001b[0m \u001b[43m    \u001b[49m\u001b[43mcase_sensitive\u001b[49m\u001b[38;5;241;43m=\u001b[39;49m\u001b[43mcase_sensitive\u001b[49m\u001b[43m,\u001b[49m\n\u001b[1;32m    583\u001b[0m \u001b[43m    \u001b[49m\u001b[43mparams\u001b[49m\u001b[38;5;241;43m=\u001b[39;49m\u001b[43mquery\u001b[49m\u001b[38;5;241;43m.\u001b[39;49m\u001b[43mparams\u001b[49m\u001b[43m,\u001b[49m\n\u001b[1;32m    584\u001b[0m \u001b[43m    \u001b[49m\u001b[38;5;241;43m*\u001b[39;49m\u001b[38;5;241;43m*\u001b[39;49m\u001b[43mkwargs\u001b[49m\u001b[43m,\u001b[49m\n\u001b[1;32m    585\u001b[0m \u001b[43m\u001b[49m\u001b[43m)\u001b[49m\n\u001b[1;32m    586\u001b[0m placeholders[query\u001b[38;5;241m.\u001b[39mquery_id_place_holder] \u001b[38;5;241m=\u001b[39m (\n\u001b[1;32m    587\u001b[0m     result[\u001b[38;5;124m\"\u001b[39m\u001b[38;5;124msfqid\u001b[39m\u001b[38;5;124m\"\u001b[39m] \u001b[38;5;28;01mif\u001b[39;00m \u001b[38;5;129;01mnot\u001b[39;00m is_last \u001b[38;5;28;01melse\u001b[39;00m result\u001b[38;5;241m.\u001b[39mquery_id\n\u001b[1;32m    588\u001b[0m )\n",
      "File \u001b[0;32m~/anaconda3/envs/snowflake_ds/lib/python3.10/site-packages/snowflake/snowpark/_internal/server_connection.py:123\u001b[0m, in \u001b[0;36mServerConnection._Decorator.wrap_exception.<locals>.wrap\u001b[0;34m(*args, **kwargs)\u001b[0m\n\u001b[1;32m    122\u001b[0m \u001b[38;5;28;01mexcept\u001b[39;00m \u001b[38;5;167;01mException\u001b[39;00m \u001b[38;5;28;01mas\u001b[39;00m ex:\n\u001b[0;32m--> 123\u001b[0m     \u001b[38;5;28;01mraise\u001b[39;00m ex\n",
      "File \u001b[0;32m~/anaconda3/envs/snowflake_ds/lib/python3.10/site-packages/snowflake/snowpark/_internal/server_connection.py:117\u001b[0m, in \u001b[0;36mServerConnection._Decorator.wrap_exception.<locals>.wrap\u001b[0;34m(*args, **kwargs)\u001b[0m\n\u001b[1;32m    116\u001b[0m \u001b[38;5;28;01mtry\u001b[39;00m:\n\u001b[0;32m--> 117\u001b[0m     \u001b[38;5;28;01mreturn\u001b[39;00m \u001b[43mfunc\u001b[49m\u001b[43m(\u001b[49m\u001b[38;5;241;43m*\u001b[39;49m\u001b[43margs\u001b[49m\u001b[43m,\u001b[49m\u001b[43m \u001b[49m\u001b[38;5;241;43m*\u001b[39;49m\u001b[38;5;241;43m*\u001b[39;49m\u001b[43mkwargs\u001b[49m\u001b[43m)\u001b[49m\n\u001b[1;32m    118\u001b[0m \u001b[38;5;28;01mexcept\u001b[39;00m ReauthenticationRequest \u001b[38;5;28;01mas\u001b[39;00m ex:\n",
      "File \u001b[0;32m~/anaconda3/envs/snowflake_ds/lib/python3.10/site-packages/snowflake/snowpark/_internal/server_connection.py:387\u001b[0m, in \u001b[0;36mServerConnection.run_query\u001b[0;34m(self, query, to_pandas, to_iter, is_ddl_on_temp_object, block, data_type, async_job_plan, log_on_exception, case_sensitive, params, num_statements, **kwargs)\u001b[0m\n\u001b[1;32m    386\u001b[0m         logger\u001b[38;5;241m.\u001b[39merror(\u001b[38;5;124mf\u001b[39m\u001b[38;5;124m\"\u001b[39m\u001b[38;5;124mFailed to execute query\u001b[39m\u001b[38;5;132;01m{\u001b[39;00mquery_id_log\u001b[38;5;132;01m}\u001b[39;00m\u001b[38;5;124m \u001b[39m\u001b[38;5;132;01m{\u001b[39;00mquery\u001b[38;5;132;01m}\u001b[39;00m\u001b[38;5;130;01m\\n\u001b[39;00m\u001b[38;5;132;01m{\u001b[39;00mex\u001b[38;5;132;01m}\u001b[39;00m\u001b[38;5;124m\"\u001b[39m)\n\u001b[0;32m--> 387\u001b[0m     \u001b[38;5;28;01mraise\u001b[39;00m ex\n\u001b[1;32m    389\u001b[0m \u001b[38;5;66;03m# fetch_pandas_all/batches() only works for SELECT statements\u001b[39;00m\n\u001b[1;32m    390\u001b[0m \u001b[38;5;66;03m# We call fetchall() if fetch_pandas_all/batches() fails,\u001b[39;00m\n\u001b[1;32m    391\u001b[0m \u001b[38;5;66;03m# because when the query plan has multiple queries, it will\u001b[39;00m\n\u001b[1;32m    392\u001b[0m \u001b[38;5;66;03m# have non-select statements, and it shouldn't fail if the user\u001b[39;00m\n\u001b[1;32m    393\u001b[0m \u001b[38;5;66;03m# calls to_pandas() to execute the query.\u001b[39;00m\n",
      "File \u001b[0;32m~/anaconda3/envs/snowflake_ds/lib/python3.10/site-packages/snowflake/snowpark/_internal/server_connection.py:368\u001b[0m, in \u001b[0;36mServerConnection.run_query\u001b[0;34m(self, query, to_pandas, to_iter, is_ddl_on_temp_object, block, data_type, async_job_plan, log_on_exception, case_sensitive, params, num_statements, **kwargs)\u001b[0m\n\u001b[1;32m    367\u001b[0m \u001b[38;5;28;01mif\u001b[39;00m block:\n\u001b[0;32m--> 368\u001b[0m     results_cursor \u001b[38;5;241m=\u001b[39m \u001b[38;5;28;43mself\u001b[39;49m\u001b[38;5;241;43m.\u001b[39;49m\u001b[43m_cursor\u001b[49m\u001b[38;5;241;43m.\u001b[39;49m\u001b[43mexecute\u001b[49m\u001b[43m(\u001b[49m\u001b[43mquery\u001b[49m\u001b[43m,\u001b[49m\u001b[43m \u001b[49m\u001b[43mparams\u001b[49m\u001b[38;5;241;43m=\u001b[39;49m\u001b[43mparams\u001b[49m\u001b[43m,\u001b[49m\u001b[43m \u001b[49m\u001b[38;5;241;43m*\u001b[39;49m\u001b[38;5;241;43m*\u001b[39;49m\u001b[43mkwargs\u001b[49m\u001b[43m)\u001b[49m\n\u001b[1;32m    369\u001b[0m     \u001b[38;5;28mself\u001b[39m\u001b[38;5;241m.\u001b[39mnotify_query_listeners(\n\u001b[1;32m    370\u001b[0m         QueryRecord(results_cursor\u001b[38;5;241m.\u001b[39msfqid, results_cursor\u001b[38;5;241m.\u001b[39mquery)\n\u001b[1;32m    371\u001b[0m     )\n",
      "File \u001b[0;32m~/anaconda3/envs/snowflake_ds/lib/python3.10/site-packages/snowflake/connector/cursor.py:920\u001b[0m, in \u001b[0;36mSnowflakeCursor.execute\u001b[0;34m(self, command, params, _bind_stage, timeout, _exec_async, _no_retry, _do_reset, _put_callback, _put_azure_callback, _put_callback_output_stream, _get_callback, _get_azure_callback, _get_callback_output_stream, _show_progress_bar, _statement_params, _is_internal, _describe_only, _no_results, _is_put_get, _raise_put_get_error, _force_put_overwrite, _skip_upload_on_content_match, file_stream, num_statements)\u001b[0m\n\u001b[1;32m    919\u001b[0m     error_class \u001b[38;5;241m=\u001b[39m IntegrityError \u001b[38;5;28;01mif\u001b[39;00m is_integrity_error \u001b[38;5;28;01melse\u001b[39;00m ProgrammingError\n\u001b[0;32m--> 920\u001b[0m     \u001b[43mError\u001b[49m\u001b[38;5;241;43m.\u001b[39;49m\u001b[43merrorhandler_wrapper\u001b[49m\u001b[43m(\u001b[49m\u001b[38;5;28;43mself\u001b[39;49m\u001b[38;5;241;43m.\u001b[39;49m\u001b[43mconnection\u001b[49m\u001b[43m,\u001b[49m\u001b[43m \u001b[49m\u001b[38;5;28;43mself\u001b[39;49m\u001b[43m,\u001b[49m\u001b[43m \u001b[49m\u001b[43merror_class\u001b[49m\u001b[43m,\u001b[49m\u001b[43m \u001b[49m\u001b[43merrvalue\u001b[49m\u001b[43m)\u001b[49m\n\u001b[1;32m    921\u001b[0m \u001b[38;5;28;01mreturn\u001b[39;00m \u001b[38;5;28mself\u001b[39m\n",
      "File \u001b[0;32m~/anaconda3/envs/snowflake_ds/lib/python3.10/site-packages/snowflake/connector/errors.py:290\u001b[0m, in \u001b[0;36mError.errorhandler_wrapper\u001b[0;34m(connection, cursor, error_class, error_value)\u001b[0m\n\u001b[1;32m    274\u001b[0m \u001b[38;5;250m\u001b[39m\u001b[38;5;124;03m\"\"\"Error handler wrapper that calls the errorhandler method.\u001b[39;00m\n\u001b[1;32m    275\u001b[0m \n\u001b[1;32m    276\u001b[0m \u001b[38;5;124;03mArgs:\u001b[39;00m\n\u001b[0;32m   (...)\u001b[0m\n\u001b[1;32m    287\u001b[0m \u001b[38;5;124;03m    exception to the first handler in that order.\u001b[39;00m\n\u001b[1;32m    288\u001b[0m \u001b[38;5;124;03m\"\"\"\u001b[39;00m\n\u001b[0;32m--> 290\u001b[0m handed_over \u001b[38;5;241m=\u001b[39m \u001b[43mError\u001b[49m\u001b[38;5;241;43m.\u001b[39;49m\u001b[43mhand_to_other_handler\u001b[49m\u001b[43m(\u001b[49m\n\u001b[1;32m    291\u001b[0m \u001b[43m    \u001b[49m\u001b[43mconnection\u001b[49m\u001b[43m,\u001b[49m\n\u001b[1;32m    292\u001b[0m \u001b[43m    \u001b[49m\u001b[43mcursor\u001b[49m\u001b[43m,\u001b[49m\n\u001b[1;32m    293\u001b[0m \u001b[43m    \u001b[49m\u001b[43merror_class\u001b[49m\u001b[43m,\u001b[49m\n\u001b[1;32m    294\u001b[0m \u001b[43m    \u001b[49m\u001b[43merror_value\u001b[49m\u001b[43m,\u001b[49m\n\u001b[1;32m    295\u001b[0m \u001b[43m\u001b[49m\u001b[43m)\u001b[49m\n\u001b[1;32m    296\u001b[0m \u001b[38;5;28;01mif\u001b[39;00m \u001b[38;5;129;01mnot\u001b[39;00m handed_over:\n",
      "File \u001b[0;32m~/anaconda3/envs/snowflake_ds/lib/python3.10/site-packages/snowflake/connector/errors.py:345\u001b[0m, in \u001b[0;36mError.hand_to_other_handler\u001b[0;34m(connection, cursor, error_class, error_value)\u001b[0m\n\u001b[1;32m    344\u001b[0m cursor\u001b[38;5;241m.\u001b[39mmessages\u001b[38;5;241m.\u001b[39mappend((error_class, error_value))\n\u001b[0;32m--> 345\u001b[0m \u001b[43mcursor\u001b[49m\u001b[38;5;241;43m.\u001b[39;49m\u001b[43merrorhandler\u001b[49m\u001b[43m(\u001b[49m\u001b[43mconnection\u001b[49m\u001b[43m,\u001b[49m\u001b[43m \u001b[49m\u001b[43mcursor\u001b[49m\u001b[43m,\u001b[49m\u001b[43m \u001b[49m\u001b[43merror_class\u001b[49m\u001b[43m,\u001b[49m\u001b[43m \u001b[49m\u001b[43merror_value\u001b[49m\u001b[43m)\u001b[49m\n\u001b[1;32m    346\u001b[0m \u001b[38;5;28;01mreturn\u001b[39;00m \u001b[38;5;28;01mTrue\u001b[39;00m\n",
      "File \u001b[0;32m~/anaconda3/envs/snowflake_ds/lib/python3.10/site-packages/snowflake/connector/errors.py:221\u001b[0m, in \u001b[0;36mError.default_errorhandler\u001b[0;34m(connection, cursor, error_class, error_value)\u001b[0m\n\u001b[1;32m    220\u001b[0m done_format_msg \u001b[38;5;241m=\u001b[39m error_value\u001b[38;5;241m.\u001b[39mget(\u001b[38;5;124m\"\u001b[39m\u001b[38;5;124mdone_format_msg\u001b[39m\u001b[38;5;124m\"\u001b[39m)\n\u001b[0;32m--> 221\u001b[0m \u001b[38;5;28;01mraise\u001b[39;00m error_class(\n\u001b[1;32m    222\u001b[0m     msg\u001b[38;5;241m=\u001b[39merror_value\u001b[38;5;241m.\u001b[39mget(\u001b[38;5;124m\"\u001b[39m\u001b[38;5;124mmsg\u001b[39m\u001b[38;5;124m\"\u001b[39m),\n\u001b[1;32m    223\u001b[0m     errno\u001b[38;5;241m=\u001b[39m\u001b[38;5;28;01mNone\u001b[39;00m \u001b[38;5;28;01mif\u001b[39;00m errno \u001b[38;5;129;01mis\u001b[39;00m \u001b[38;5;28;01mNone\u001b[39;00m \u001b[38;5;28;01melse\u001b[39;00m \u001b[38;5;28mint\u001b[39m(errno),\n\u001b[1;32m    224\u001b[0m     sqlstate\u001b[38;5;241m=\u001b[39merror_value\u001b[38;5;241m.\u001b[39mget(\u001b[38;5;124m\"\u001b[39m\u001b[38;5;124msqlstate\u001b[39m\u001b[38;5;124m\"\u001b[39m),\n\u001b[1;32m    225\u001b[0m     sfqid\u001b[38;5;241m=\u001b[39merror_value\u001b[38;5;241m.\u001b[39mget(\u001b[38;5;124m\"\u001b[39m\u001b[38;5;124msfqid\u001b[39m\u001b[38;5;124m\"\u001b[39m),\n\u001b[1;32m    226\u001b[0m     query\u001b[38;5;241m=\u001b[39merror_value\u001b[38;5;241m.\u001b[39mget(\u001b[38;5;124m\"\u001b[39m\u001b[38;5;124mquery\u001b[39m\u001b[38;5;124m\"\u001b[39m),\n\u001b[1;32m    227\u001b[0m     done_format_msg\u001b[38;5;241m=\u001b[39m(\n\u001b[1;32m    228\u001b[0m         \u001b[38;5;28;01mNone\u001b[39;00m \u001b[38;5;28;01mif\u001b[39;00m done_format_msg \u001b[38;5;129;01mis\u001b[39;00m \u001b[38;5;28;01mNone\u001b[39;00m \u001b[38;5;28;01melse\u001b[39;00m \u001b[38;5;28mbool\u001b[39m(done_format_msg)\n\u001b[1;32m    229\u001b[0m     ),\n\u001b[1;32m    230\u001b[0m     connection\u001b[38;5;241m=\u001b[39mconnection,\n\u001b[1;32m    231\u001b[0m     cursor\u001b[38;5;241m=\u001b[39mcursor,\n\u001b[1;32m    232\u001b[0m )\n",
      "\u001b[0;31mSnowparkSQLException\u001b[0m: (1304): 01b4875d-0b06-49ee-0003-789200302b36: 100357 (P0000): Python Interpreter Error:\nTraceback (most recent call last):\n  File \"_udf_code.py\", line 77, in compute\n  File \"/Users/vchung/anaconda3/envs/snowflake_ds/lib/python3.10/site-packages/snowflake/ml/modeling/_internal/snowpark_trainer.py\", line 226, in fit_wrapper_function\n  File \"/usr/lib/python_udf/2a5f6b3994c4047ec3fe27f98a354efb361b5af2f72a8f3eb7234989dd3a7978/lib/python3.10/site-packages/sklearn/linear_model/_logistic.py\", line 1162, in fit\n    solver = _check_solver(self.solver, self.penalty, self.dual)\n  File \"/usr/lib/python_udf/2a5f6b3994c4047ec3fe27f98a354efb361b5af2f72a8f3eb7234989dd3a7978/lib/python3.10/site-packages/sklearn/linear_model/_logistic.py\", line 54, in _check_solver\n    raise ValueError(\nValueError: Solver lbfgs supports only 'l2' or 'none' penalties, got l1 penalty.\n in function SNOWPARK_TEMP_PROCEDURE_7533ZR9GPX with handler compute",
      "\nThe above exception was the direct cause of the following exception:\n",
      "\u001b[0;31mSnowparkSQLException\u001b[0m                      Traceback (most recent call last)",
      "Cell \u001b[0;32mIn[35], line 13\u001b[0m\n\u001b[1;32m      1\u001b[0m \u001b[38;5;66;03m#lbfgs only works for ridge regularization. This should error out.\u001b[39;00m\n\u001b[1;32m      3\u001b[0m logit_lasso \u001b[38;5;241m=\u001b[39m LR(max_iter \u001b[38;5;241m=\u001b[39m \u001b[38;5;241m1000\u001b[39m, \u001b[38;5;66;03m#Default is 100 iterations\u001b[39;00m\n\u001b[1;32m      4\u001b[0m                  random_state \u001b[38;5;241m=\u001b[39m \u001b[38;5;241m23\u001b[39m,\n\u001b[1;32m      5\u001b[0m                  penalty \u001b[38;5;241m=\u001b[39m \u001b[38;5;124m'\u001b[39m\u001b[38;5;124ml1\u001b[39m\u001b[38;5;124m'\u001b[39m,\n\u001b[0;32m   (...)\u001b[0m\n\u001b[1;32m     10\u001b[0m                  output_cols \u001b[38;5;241m=\u001b[39m [\u001b[38;5;124m'\u001b[39m\u001b[38;5;124mPREDICTED_DIABETES_DX\u001b[39m\u001b[38;5;124m'\u001b[39m]\n\u001b[1;32m     11\u001b[0m                 )\n\u001b[0;32m---> 13\u001b[0m \u001b[43mlogit_lasso\u001b[49m\u001b[38;5;241;43m.\u001b[39;49m\u001b[43mfit\u001b[49m\u001b[43m(\u001b[49m\u001b[43mtrain_df\u001b[49m\u001b[43m)\u001b[49m\n",
      "File \u001b[0;32m~/anaconda3/envs/snowflake_ds/lib/python3.10/site-packages/snowflake/ml/_internal/telemetry.py:380\u001b[0m, in \u001b[0;36msend_api_usage_telemetry.<locals>.decorator.<locals>.wrap\u001b[0;34m(*args, **kwargs)\u001b[0m\n\u001b[1;32m    378\u001b[0m         \u001b[38;5;28;01mraise\u001b[39;00m me\u001b[38;5;241m.\u001b[39moriginal_exception \u001b[38;5;28;01mfrom\u001b[39;00m \u001b[38;5;28;01mNone\u001b[39;00m\n\u001b[1;32m    379\u001b[0m     \u001b[38;5;28;01melse\u001b[39;00m:\n\u001b[0;32m--> 380\u001b[0m         \u001b[38;5;28;01mraise\u001b[39;00m me\u001b[38;5;241m.\u001b[39moriginal_exception \u001b[38;5;28;01mfrom\u001b[39;00m \u001b[38;5;21;01me\u001b[39;00m\n\u001b[1;32m    381\u001b[0m \u001b[38;5;28;01melse\u001b[39;00m:\n\u001b[1;32m    382\u001b[0m     \u001b[38;5;28;01mreturn\u001b[39;00m update_stmt_params_if_snowpark_df(res, statement_params)\n",
      "\u001b[0;31mSnowparkSQLException\u001b[0m: (1300) (1304): 01b4875d-0b06-49ee-0003-789200302b36: 100357 (P0000): Python Interpreter Error:\nTraceback (most recent call last):\n  File \"_udf_code.py\", line 77, in compute\n  File \"/Users/vchung/anaconda3/envs/snowflake_ds/lib/python3.10/site-packages/snowflake/ml/modeling/_internal/snowpark_trainer.py\", line 226, in fit_wrapper_function\n  File \"/usr/lib/python_udf/2a5f6b3994c4047ec3fe27f98a354efb361b5af2f72a8f3eb7234989dd3a7978/lib/python3.10/site-packages/sklearn/linear_model/_logistic.py\", line 1162, in fit\n    solver = _check_solver(self.solver, self.penalty, self.dual)\n  File \"/usr/lib/python_udf/2a5f6b3994c4047ec3fe27f98a354efb361b5af2f72a8f3eb7234989dd3a7978/lib/python3.10/site-packages/sklearn/linear_model/_logistic.py\", line 54, in _check_solver\n    raise ValueError(\nValueError: Solver lbfgs supports only 'l2' or 'none' penalties, got l1 penalty.\n in function SNOWPARK_TEMP_PROCEDURE_7533ZR9GPX with handler compute"
     ]
    }
   ],
   "source": [
    "#lbfgs only works for ridge regularization. This should error out.\n",
    "\n",
    "logit_lasso = LR(max_iter = 1000, #Default is 100 iterations\n",
    "                 random_state = 23,\n",
    "                 penalty = 'l1',\n",
    "                 C=1.0,  #smaller values specify stronger regularization\n",
    "                 solver='lbfgs', \n",
    "                 input_cols = CATEGORICAL_COLUMNS_OE + NUMERICAL_COLUMNS,\n",
    "                 label_cols = LABEL_COLUMNS,\n",
    "                 output_cols = ['PREDICTED_DIABETES_DX']\n",
    "                )\n",
    "\n",
    "logit_lasso.fit(train_df)"
   ]
  },
  {
   "cell_type": "code",
   "execution_count": 36,
   "metadata": {},
   "outputs": [
    {
     "data": {
      "text/plain": [
       "<snowflake.ml.modeling.linear_model.logistic_regression.LogisticRegression at 0x30ecccd90>"
      ]
     },
     "execution_count": 36,
     "metadata": {},
     "output_type": "execute_result"
    }
   ],
   "source": [
    "logit_lasso = LR(max_iter = 1000, #Default is 100 iterations\n",
    "                 random_state = 23,\n",
    "                 penalty = 'l1', \n",
    "                 C=1.0,  #smaller values specify stronger regularization\n",
    "                 solver='liblinear', #1st order optimization.\n",
    "                 input_cols = CATEGORICAL_COLUMNS_OE + NUMERICAL_COLUMNS,\n",
    "                 label_cols = LABEL_COLUMNS,\n",
    "                 output_cols = ['PREDICTED_DIABETES_DX']\n",
    "                )\n",
    "\n",
    "logit_lasso.fit(train_df)"
   ]
  },
  {
   "cell_type": "markdown",
   "metadata": {},
   "source": [
    "**Ridge (l2) Regularization**  \n",
    "No feature selection. Minimizes but doesn't zero out the variable."
   ]
  },
  {
   "cell_type": "code",
   "execution_count": 37,
   "metadata": {},
   "outputs": [
    {
     "data": {
      "text/plain": [
       "<snowflake.ml.modeling.linear_model.logistic_regression.LogisticRegression at 0x30ecccd30>"
      ]
     },
     "execution_count": 37,
     "metadata": {},
     "output_type": "execute_result"
    }
   ],
   "source": [
    "logit_ridge = LR(max_iter = 1000, #Default is 100 iterations\n",
    "                 random_state = 23,\n",
    "                 penalty = 'l2', \n",
    "                 C=1.0,  #smaller values specify stronger regularization\n",
    "                 solver = 'lbfgs', #2nd order optimization. If memory is not a concern, LBFGS might provide better performance due to its faster convergence and potentially higher accuracy vs liblinear.\n",
    "                 input_cols = CATEGORICAL_COLUMNS_OE + NUMERICAL_COLUMNS,\n",
    "                 label_cols = LABEL_COLUMNS,\n",
    "                 output_cols = ['PREDICTED_DIABETES_DX']\n",
    "                )\n",
    "\n",
    "logit_ridge.fit(train_df)"
   ]
  },
  {
   "cell_type": "markdown",
   "metadata": {},
   "source": [
    "#### Test Penalized Logit"
   ]
  },
  {
   "cell_type": "code",
   "execution_count": 38,
   "metadata": {},
   "outputs": [],
   "source": [
    "scored_logit_lasso = logit_lasso.predict(test_df)\n",
    "scored_logit_ridge = logit_ridge.predict(test_df)"
   ]
  },
  {
   "cell_type": "code",
   "execution_count": 39,
   "metadata": {},
   "outputs": [
    {
     "name": "stdout",
     "output_type": "stream",
     "text": [
      "Acccuracy: 0.762911\n"
     ]
    },
    {
     "data": {
      "image/png": "[encoded data removed]",
      "text/plain": [
       "<Figure size 640x480 with 2 Axes>"
      ]
     },
     "metadata": {},
     "output_type": "display_data"
    }
   ],
   "source": [
    "cf_matrix = CM(df = scored_logit_lasso, \n",
    "               y_true_col_name = 'DIABETES_DX', \n",
    "               y_pred_col_name = 'PREDICTED_DIABETES_DX')\n",
    "\n",
    "sns.heatmap(cf_matrix, annot=True, fmt='.0f', cmap='Blues')\n",
    "\n",
    "plt.xlabel('Predicted Dx')\n",
    "plt.ylabel('Actual Dx')\n",
    "plt.title('Lasso Regression Confusion Matrix')\n",
    "\n",
    "print('Acccuracy:', M.accuracy_score(df = scored_logit_lasso, \n",
    "                                     y_true_col_names='DIABETES_DX', \n",
    "                                     y_pred_col_names='PREDICTED_DIABETES_DX'))"
   ]
  },
  {
   "cell_type": "code",
   "execution_count": 40,
   "metadata": {},
   "outputs": [
    {
     "name": "stdout",
     "output_type": "stream",
     "text": [
      "Acccuracy: 0.762911\n"
     ]
    },
    {
     "data": {
      "image/png": "[encoded data removed]",
      "text/plain": [
       "<Figure size 640x480 with 2 Axes>"
      ]
     },
     "metadata": {},
     "output_type": "display_data"
    }
   ],
   "source": [
    "cf_matrix = CM(df = scored_logit_ridge, \n",
    "               y_true_col_name = 'DIABETES_DX', \n",
    "               y_pred_col_name = 'PREDICTED_DIABETES_DX')\n",
    "\n",
    "sns.heatmap(cf_matrix, annot=True, fmt='.0f', cmap='Blues')\n",
    "\n",
    "plt.xlabel('Predicted Dx')\n",
    "plt.ylabel('Actual Dx')\n",
    "plt.title('Ridge Regression Confusion Matrix')\n",
    "\n",
    "print('Acccuracy:', M.accuracy_score(df = scored_logit_ridge, \n",
    "                                     y_true_col_names='DIABETES_DX', \n",
    "                                     y_pred_col_names='PREDICTED_DIABETES_DX'))"
   ]
  },
  {
   "cell_type": "markdown",
   "metadata": {},
   "source": [
    "### Build Tree-based Models"
   ]
  },
  {
   "cell_type": "markdown",
   "metadata": {},
   "source": [
    "#### Create & Fit Model"
   ]
  },
  {
   "cell_type": "code",
   "execution_count": 41,
   "metadata": {},
   "outputs": [
    {
     "data": {
      "text/plain": [
       "<snowflake.ml.modeling.xgboost.xgb_classifier.XGBClassifier at 0x30f98b850>"
      ]
     },
     "execution_count": 41,
     "metadata": {},
     "output_type": "execute_result"
    }
   ],
   "source": [
    "RF_basic = RF(n_estimators = 1000, \n",
    "              random_state = 23,\n",
    "              n_jobs = -1,\n",
    "              max_depth = None,\n",
    "              criterion = 'entropy', # gini is computationally faster, but I want to show pushing the engine\n",
    "              min_samples_split = 2,\n",
    "              \n",
    "              input_cols = CATEGORICAL_COLUMNS_OE + NUMERICAL_COLUMNS,\n",
    "              label_cols = LABEL_COLUMNS,\n",
    "              output_cols = ['PREDICTED_DIABETES_DX']\n",
    "                )\n",
    "\n",
    "XGB_basic = XGB(n_estimators = 1000, \n",
    "                random_state = 23,\n",
    "                n_jobs = -1,\n",
    "              \n",
    "              input_cols = CATEGORICAL_COLUMNS_OE + NUMERICAL_COLUMNS,\n",
    "              label_cols = LABEL_COLUMNS,\n",
    "              output_cols = ['PREDICTED_DIABETES_DX']\n",
    "                )\n",
    "\n",
    "RF_basic.fit(train_df)\n",
    "XGB_basic.fit(train_df)"
   ]
  },
  {
   "cell_type": "markdown",
   "metadata": {},
   "source": [
    "#### Test Models"
   ]
  },
  {
   "cell_type": "code",
   "execution_count": 42,
   "metadata": {},
   "outputs": [],
   "source": [
    "scored_RF_basic = RF_basic.predict(test_df)\n",
    "scored_XGB_basic = XGB_basic.predict(test_df)"
   ]
  },
  {
   "cell_type": "code",
   "execution_count": 43,
   "metadata": {},
   "outputs": [
    {
     "name": "stdout",
     "output_type": "stream",
     "text": [
      "Acccuracy: 0.991784\n"
     ]
    },
    {
     "data": {
      "image/png": "[encoded data removed]",
      "text/plain": [
       "<Figure size 640x480 with 2 Axes>"
      ]
     },
     "metadata": {},
     "output_type": "display_data"
    }
   ],
   "source": [
    "cf_matrix = CM(df = scored_RF_basic, \n",
    "               y_true_col_name = 'DIABETES_DX', \n",
    "               y_pred_col_name = 'PREDICTED_DIABETES_DX')\n",
    "\n",
    "sns.heatmap(cf_matrix, annot=True, fmt='g')\n",
    "\n",
    "plt.xlabel('Predicted Dx')\n",
    "plt.ylabel('Actual Dx')\n",
    "plt.title('Random Forest Confusion Matrix')\n",
    "\n",
    "print('Acccuracy:', M.accuracy_score(df = scored_RF_basic, \n",
    "                                     y_true_col_names='DIABETES_DX', \n",
    "                                     y_pred_col_names='PREDICTED_DIABETES_DX'))"
   ]
  },
  {
   "cell_type": "code",
   "execution_count": 44,
   "metadata": {},
   "outputs": [
    {
     "name": "stdout",
     "output_type": "stream",
     "text": [
      "Acccuracy: 0.987089\n"
     ]
    },
    {
     "data": {
      "image/png": "[encoded data removed]",
      "text/plain": [
       "<Figure size 640x480 with 2 Axes>"
      ]
     },
     "metadata": {},
     "output_type": "display_data"
    }
   ],
   "source": [
    "cf_matrix = CM(df = scored_XGB_basic, \n",
    "               y_true_col_name = 'DIABETES_DX', \n",
    "               y_pred_col_name = 'PREDICTED_DIABETES_DX')\n",
    "\n",
    "sns.heatmap(cf_matrix, annot=True, fmt='g')\n",
    "\n",
    "plt.xlabel('Predicted Dx')\n",
    "plt.ylabel('Actual Dx')\n",
    "plt.title('XGBoost Confusion Matrix')\n",
    "\n",
    "print('Acccuracy:', M.accuracy_score(df = scored_XGB_basic, \n",
    "                                     y_true_col_names='DIABETES_DX', \n",
    "                                     y_pred_col_names='PREDICTED_DIABETES_DX'))"
   ]
  },
  {
   "cell_type": "markdown",
   "metadata": {},
   "source": [
    "# 6. Model Deployment"
   ]
  },
  {
   "cell_type": "markdown",
   "metadata": {},
   "source": [
    "Snowpark ML's `model.predict()` function creates a ***temporary*** UDF, we'll need to define our own UDF to persist as permanent UDF. \n",
    "\n",
    "Save model as sklearn object so it can be used externally."
   ]
  },
  {
   "cell_type": "markdown",
   "metadata": {},
   "source": [
    "#### Serialize & Save in Staging"
   ]
  },
  {
   "cell_type": "code",
   "execution_count": null,
   "metadata": {},
   "outputs": [],
   "source": [
    "# Save RF Tuned model \n",
    "xgb_model = XGB_basic.to_xgboost()\n",
    "MODEL_FILE = 'XGBmodel.joblib'\n",
    "joblib.dump(xgb_model, MODEL_FILE) # we are just pickling it locally first\n",
    "\n",
    "# upload into the DS_ASSETS stage in Snowflake\n",
    "session.file.put(MODEL_FILE, \"@DS_ASSETS\", overwrite=True)\n",
    "\n"
   ]
  },
  {
   "cell_type": "code",
   "execution_count": null,
   "metadata": {},
   "outputs": [],
   "source": [
    "# Model is now visible in staging: Can see this by quering \"List @DS_ASSETS\" to show model loaded to stage\n",
    "session.sql(\"list @DS_ASSETS\").show()"
   ]
  },
  {
   "cell_type": "code",
   "execution_count": null,
   "metadata": {},
   "outputs": [],
   "source": [
    "# Get all relevant column names to pass into the UDF call\n",
    "feature_cols = test_df[CATEGORICAL_COLUMNS_OE + NUMERICAL_COLUMNS].columns\n",
    "feature_cols\n"
   ]
  },
  {
   "cell_type": "markdown",
   "metadata": {},
   "source": [
    "#### Create UDF"
   ]
  },
  {
   "cell_type": "code",
   "execution_count": null,
   "metadata": {},
   "outputs": [],
   "source": [
    "# Cache the model load to optimize inference\n",
    "@cachetools.cached(cache={})\n",
    "def load_model(filename):\n",
    "    import os\n",
    "    import sys\n",
    "    import joblib\n",
    "\n",
    "    IMPORT_DIRECTORY_NAME = \"snowflake_import_directory\"\n",
    "    import_dir = sys._xoptions[IMPORT_DIRECTORY_NAME]\n",
    "\n",
    "    if import_dir:\n",
    "        with open(os.path.join(import_dir, filename), 'rb') as file:\n",
    "            m = joblib.load(file)\n",
    "            return m\n",
    "\n",
    "# Register the UDF via decorator\n",
    "@udf(name='batch_predict_diabetes', \n",
    "     session=session, \n",
    "     replace=True, \n",
    "     is_permanent=True, \n",
    "     stage_location='@DS_ASSETS',\n",
    "     input_types=[F.FloatType()]*len(feature_cols),\n",
    "     return_type=F.FloatType(),\n",
    "     imports=['@DS_ASSETS/XGBmodel.joblib.gz'],\n",
    "     packages=['pandas','joblib','cachetools','xgboost'])\n",
    "def batch_predict_diabetes(test_df: pd.DataFrame) -> pd.Series:\n",
    "    # Need to name the columns because column names aren't passed in to this function\n",
    "    test_df.columns = ['HYPERTENSION_OE', 'PREGNANCIES', 'GLUCOSE', 'SKIN_THICKNESS', 'INSULIN', 'BMI', 'DIABETES_PEDIGREE_FUNCTION', 'AGE']\n",
    "    model = load_model('XGBmodel.joblib.gz')\n",
    "    return model.predict(test_df) \n",
    "        \n"
   ]
  },
  {
   "cell_type": "markdown",
   "metadata": {},
   "source": [
    "#### Call UDF"
   ]
  },
  {
   "cell_type": "code",
   "execution_count": null,
   "metadata": {},
   "outputs": [],
   "source": [
    "test = test_df.with_column('PREDICTION', batch_predict_diabetes(*feature_cols))\n",
    "test.show()"
   ]
  },
  {
   "cell_type": "markdown",
   "metadata": {},
   "source": [
    "Go to snowsight and demo UDF"
   ]
  },
  {
   "cell_type": "code",
   "execution_count": null,
   "metadata": {},
   "outputs": [],
   "source": [
    "session.close()"
   ]
  }
 ],
 "metadata": {
  "kernelspec": {
   "display_name": "Python 3 (ipykernel)",
   "language": "python",
   "name": "python3"
  },
  "language_info": {
   "codemirror_mode": {
    "name": "ipython",
    "version": 3
   },
   "file_extension": ".py",
   "mimetype": "text/x-python",
   "name": "python",
   "nbconvert_exporter": "python",
   "pygments_lexer": "ipython3",
   "version": "3.10.9"
  }
 },
 "nbformat": 4,
 "nbformat_minor": 4
}
