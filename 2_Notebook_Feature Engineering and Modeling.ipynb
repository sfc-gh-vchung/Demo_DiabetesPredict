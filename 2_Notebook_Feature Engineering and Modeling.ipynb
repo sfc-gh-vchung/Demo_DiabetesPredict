{
 "cells": [
  {
   "cell_type": "markdown",
   "metadata": {},
   "source": [
    "# ❄️ ML Goal: Predict Diabetes Dx ❄️ \n",
    "This notebook contains methods across Feature Engineering and Modeling\n",
    "\n",
    "- Demo a few transformations in the Snowpark Preprocessing API. \n",
    "- Build a preprocessing pipeline object.\n",
    "- Build basic, naive binary classifier\n",
    "- Tune parameters\n",
    "- Build tuned model\n",
    "- Serialize and store model and pipeline object in Snowflake Stage\n",
    "\n",
    "Note: All feature transformations using Snowpark ML are ***distributed operations;*** same as Snowpark DataFrame operations."
   ]
  },
  {
   "cell_type": "markdown",
   "metadata": {},
   "source": [
    "# 1. Import Libraries"
   ]
  },
  {
   "cell_type": "code",
   "execution_count": 1,
   "metadata": {},
   "outputs": [],
   "source": [
    "# Snowpark for Python\n",
    "from snowflake.snowpark import Session\n",
    "from snowflake.snowpark.version import VERSION\n",
    "import snowflake.snowpark.functions as F\n",
    "from snowflake.snowpark.functions import udf\n",
    "from snowflake.snowpark.types import DecimalType\n",
    "\n",
    "# Snowpark Processing / Encoding\n",
    "import snowflake.ml.modeling.preprocessing as snowml\n",
    "from snowflake.ml.modeling.pipeline import Pipeline\n",
    "from snowflake.ml.modeling.metrics.correlation import correlation\n",
    "\n",
    "# Snowpark Modeling\n",
    "from snowflake.ml.modeling.ensemble import RandomForestClassifier as RF\n",
    "from snowflake.ml.modeling.xgboost import XGBClassifier as XGB\n",
    "from snowflake.ml.modeling.linear_model import LogisticRegression as LR\n",
    "from snowflake.ml.modeling.model_selection import GridSearchCV\n",
    "\n",
    "# Snowpark Validation\n",
    "import snowflake.ml.modeling.metrics as M\n",
    "from snowflake.ml.modeling.metrics import confusion_matrix as CM\n",
    "\n",
    "# Data Science Libs\n",
    "import numpy as np\n",
    "import pandas as pd\n",
    "import matplotlib.pyplot as plt\n",
    "import seaborn as sns\n",
    "from sklearn.metrics import confusion_matrix as SCIKIT_CM\n",
    "\n",
    "# Misc\n",
    "import json\n",
    "import joblib\n",
    "import cachetools\n",
    "import os\n",
    "import io\n",
    "import sys\n",
    "\n",
    "# warning suppresion\n",
    "import warnings; warnings.simplefilter('ignore')"
   ]
  },
  {
   "cell_type": "markdown",
   "metadata": {},
   "source": [
    "# 2. Secure Snowflake Connection\n",
    "\n",
    "*Other connection options include Username/Password, MFA, OAuth, Okta, SSO. For more information, refer to the [Python Connector](https://docs.snowflake.com/en/developer-guide/python-connector/python-connector-example) documentation.*"
   ]
  },
  {
   "cell_type": "code",
   "execution_count": 2,
   "metadata": {},
   "outputs": [
    {
     "name": "stdout",
     "output_type": "stream",
     "text": [
      "User                        : VCHUNG\n",
      "Role                        : \"ACCOUNTADMIN\"\n",
      "Database                    : \"DEMO_DATASCIENCE\"\n",
      "Schema                      : \"GOLD\"\n",
      "Warehouse                   : \"DEMO_COMPUTE_XSMALL\"\n",
      "Snowflake version           : 8.20.0\n",
      "Snowpark for Python version : 1.11.1\n"
     ]
    }
   ],
   "source": [
    "################################################################################################################\n",
    "#  You can also use SnowSQL Client to configure connection params: https://docs.snowflake.com/en/user-guide/snowsql-install-config.html\n",
    "#  >>> from snowflake.ml.utils import connection_params\n",
    "#  >>> session = Session.builder.configs(connection_params.SnowflakeLoginOptions()\n",
    "#  >>> ).create()   \n",
    "#\n",
    "#  NOTE: If you have named connection params then specify the connection name. Example:\n",
    "#  >>> session = Session.builder.configs(\n",
    "#  >>> connection_params.SnowflakeLoginOptions(connection_name='connections.snowml')\n",
    "#  >>> ).create()\n",
    "#\n",
    "#################################################################################################################\n",
    "\n",
    "# Create Snowflake Session object\n",
    "connection_parameters = json.load(open('connection_ds.json'))\n",
    "session = Session.builder.configs(connection_parameters).create()\n",
    "session.sql_simplifier_enabled = True\n",
    "\n",
    "snowflake_environment = session.sql('SELECT current_user(), current_version()').collect()\n",
    "snowpark_version = VERSION\n",
    "\n",
    "# Current Environment Details\n",
    "print('User                        : {}'.format(snowflake_environment[0][0]))\n",
    "print('Role                        : {}'.format(session.get_current_role()))\n",
    "print('Database                    : {}'.format(session.get_current_database()))\n",
    "print('Schema                      : {}'.format(session.get_current_schema()))\n",
    "print('Warehouse                   : {}'.format(session.get_current_warehouse()))\n",
    "print('Snowflake version           : {}'.format(snowflake_environment[0][1]))\n",
    "print('Snowpark for Python version : {}.{}.{}'.format(snowpark_version[0],snowpark_version[1],snowpark_version[2]))"
   ]
  },
  {
   "cell_type": "markdown",
   "metadata": {},
   "source": [
    "We will be reading in data from a dynamic table.  \n",
    "It's a good practice to use DS tools for DS and DE tools for continuous, observable data pipelines. \n",
    "\n",
    "Database: DEMO_DATASCIENCE  \n",
    "Schema: SILVER  \n",
    "Table: DIABETES  \n",
    "\n",
    "For more information on loading data, see documentation on [snowflake.snowpark.DataFrameReader](https://docs.snowflake.com/ko/developer-guide/snowpark/reference/python/api/snowflake.snowpark.DataFrameReader.html).\n",
    "\n",
    "\n"
   ]
  },
  {
   "cell_type": "markdown",
   "metadata": {},
   "source": [
    "### Data Loading\n",
    "Two ways to read data in Snowpark. Either **session.table or session.sql**. Code below will walk through both."
   ]
  },
  {
   "cell_type": "markdown",
   "metadata": {},
   "source": [
    "#### Session.Table"
   ]
  },
  {
   "cell_type": "code",
   "execution_count": 3,
   "metadata": {},
   "outputs": [
    {
     "name": "stdout",
     "output_type": "stream",
     "text": [
      "----------------------------------------------------------------------------------------------------------------------------------------------------------------------\n",
      "|\"ID\"  |\"PREGNANCIES\"  |\"GLUCOSE\"  |\"BLOOD_PRESSURE\"  |\"HYPERTENSION\"  |\"SKIN_THICKNESS\"  |\"INSULIN\"  |\"BMI\"  |\"DIABETES_PEDIGREE_FUNCTION\"  |\"AGE\"  |\"DIABETES_DX\"  |\n",
      "----------------------------------------------------------------------------------------------------------------------------------------------------------------------\n",
      "|1     |6.0            |148.0      |72.0              |NORMAL          |35.0              |0.0        |33.6   |0.627                         |50.0   |1.0            |\n",
      "|2     |1.0            |85.0       |66.0              |NORMAL          |29.0              |0.0        |26.6   |0.351                         |31.0   |0.0            |\n",
      "|3     |8.0            |183.0      |64.0              |NORMAL          |0.0               |0.0        |23.3   |0.672                         |32.0   |1.0            |\n",
      "|4     |1.0            |89.0       |66.0              |NORMAL          |23.0              |94.0       |28.1   |0.167                         |21.0   |0.0            |\n",
      "|5     |0.0            |137.0      |40.0              |NORMAL          |35.0              |168.0      |43.1   |2.288                         |33.0   |1.0            |\n",
      "|6     |5.0            |116.0      |74.0              |NORMAL          |0.0               |0.0        |25.6   |0.201                         |30.0   |0.0            |\n",
      "|7     |3.0            |78.0       |50.0              |NORMAL          |32.0              |88.0       |31.0   |0.248                         |26.0   |1.0            |\n",
      "|8     |10.0           |115.0      |0.0               |NORMAL          |0.0               |0.0        |35.3   |0.134                         |29.0   |0.0            |\n",
      "|9     |2.0            |197.0      |70.0              |NORMAL          |45.0              |543.0      |30.5   |0.158                         |53.0   |1.0            |\n",
      "|10    |8.0            |125.0      |96.0              |HYPERTENSION    |0.0               |0.0        |0.0    |0.232                         |54.0   |1.0            |\n",
      "----------------------------------------------------------------------------------------------------------------------------------------------------------------------\n",
      "\n"
     ]
    },
    {
     "data": {
      "text/plain": [
       "[('ID', 'string(16777216)'),\n",
       " ('PREGNANCIES', 'double'),\n",
       " ('GLUCOSE', 'double'),\n",
       " ('BLOOD_PRESSURE', 'double'),\n",
       " ('HYPERTENSION', 'string(15)'),\n",
       " ('SKIN_THICKNESS', 'double'),\n",
       " ('INSULIN', 'double'),\n",
       " ('BMI', 'double'),\n",
       " ('DIABETES_PEDIGREE_FUNCTION', 'double'),\n",
       " ('AGE', 'double'),\n",
       " ('DIABETES_DX', 'double')]"
      ]
     },
     "execution_count": 3,
     "metadata": {},
     "output_type": "execute_result"
    }
   ],
   "source": [
    "# Create labels for data location\n",
    "databaseName = 'DEMO_DATASCIENCE'\n",
    "schemaName = 'SILVER'\n",
    "tableName = 'DIABETES'\n",
    "\n",
    "location = f'{databaseName}.{schemaName}.{tableName}'\n",
    "\n",
    "# Query Dataframe\n",
    "dataframe = session.table(location)\n",
    "\n",
    "dataframe.show()\n",
    "dataframe.dtypes"
   ]
  },
  {
   "cell_type": "markdown",
   "metadata": {},
   "source": [
    "#### Session.SQL"
   ]
  },
  {
   "cell_type": "code",
   "execution_count": 4,
   "metadata": {},
   "outputs": [
    {
     "name": "stdout",
     "output_type": "stream",
     "text": [
      "-----------------------------------------------\n",
      "|\"ID\"  |\"GLUCOSE\"  |\"BLOOD_PRESSURE\"  |\"AGE\"  |\n",
      "-----------------------------------------------\n",
      "|2     |85         |66                |31     |\n",
      "|3     |183        |64                |32     |\n",
      "|4     |89         |66                |21     |\n",
      "|5     |137        |40                |33     |\n",
      "|6     |116        |74                |30     |\n",
      "|7     |78         |50                |26     |\n",
      "|8     |115        |0                 |29     |\n",
      "|11    |110        |92                |30     |\n",
      "|12    |168        |74                |34     |\n",
      "|16    |100        |0                 |32     |\n",
      "-----------------------------------------------\n",
      "\n"
     ]
    }
   ],
   "source": [
    "df_sql2 = session.sql(\"SELECT ID,GLUCOSE,BLOOD_PRESSURE,AGE \\\n",
    "                       FROM DEMO_DATASCIENCE.SILVER.DIABETES_SNOWPARK_v2 \\\n",
    "                       WHERE AGE <= 40\")\n",
    "df_sql2.show()"
   ]
  },
  {
   "cell_type": "markdown",
   "metadata": {},
   "source": [
    "### Pandas for Quick Cleaning\n",
    "Two ways to read data in Snowpark. Either **session.table or session.sql**. Code below will walk through both."
   ]
  },
  {
   "cell_type": "markdown",
   "metadata": {},
   "source": [
    "##### Create a \"BadData\" Dataframe"
   ]
  },
  {
   "cell_type": "code",
   "execution_count": 5,
   "metadata": {},
   "outputs": [
    {
     "data": {
      "text/html": [
       "<div>\n",
       "<style scoped>\n",
       "    .dataframe tbody tr th:only-of-type {\n",
       "        vertical-align: middle;\n",
       "    }\n",
       "\n",
       "    .dataframe tbody tr th {\n",
       "        vertical-align: top;\n",
       "    }\n",
       "\n",
       "    .dataframe thead th {\n",
       "        text-align: right;\n",
       "    }\n",
       "</style>\n",
       "<table border=\"1\" class=\"dataframe\">\n",
       "  <thead>\n",
       "    <tr style=\"text-align: right;\">\n",
       "      <th></th>\n",
       "      <th>ID</th>\n",
       "      <th>PREGNANCIES</th>\n",
       "      <th>GLUCOSE</th>\n",
       "      <th>BLOOD_PRESSURE</th>\n",
       "      <th>HYPERTENSION</th>\n",
       "      <th>SKIN_THICKNESS</th>\n",
       "      <th>INSULIN</th>\n",
       "      <th>BMI</th>\n",
       "      <th>DIABETES_PEDIGREE_FUNCTION</th>\n",
       "      <th>AGE</th>\n",
       "      <th>DIABETES_DX</th>\n",
       "    </tr>\n",
       "  </thead>\n",
       "  <tbody>\n",
       "    <tr>\n",
       "      <th>0</th>\n",
       "      <td>1505</td>\n",
       "      <td>0.0</td>\n",
       "      <td>126.0</td>\n",
       "      <td>86.0</td>\n",
       "      <td>PREHYPERTENSION</td>\n",
       "      <td>27.0</td>\n",
       "      <td>120.0</td>\n",
       "      <td>27.4</td>\n",
       "      <td>0.515</td>\n",
       "      <td>21.0</td>\n",
       "      <td>0.0</td>\n",
       "    </tr>\n",
       "    <tr>\n",
       "      <th>1</th>\n",
       "      <td>1333</td>\n",
       "      <td>0.0</td>\n",
       "      <td>91.0</td>\n",
       "      <td>80.0</td>\n",
       "      <td>PREHYPERTENSION</td>\n",
       "      <td>0.0</td>\n",
       "      <td>0.0</td>\n",
       "      <td>32.4</td>\n",
       "      <td>0.601</td>\n",
       "      <td>27.0</td>\n",
       "      <td>0.0</td>\n",
       "    </tr>\n",
       "    <tr>\n",
       "      <th>2</th>\n",
       "      <td>597</td>\n",
       "      <td>0.0</td>\n",
       "      <td>67.0</td>\n",
       "      <td>76.0</td>\n",
       "      <td>NORMAL</td>\n",
       "      <td>0.0</td>\n",
       "      <td>0.0</td>\n",
       "      <td>45.3</td>\n",
       "      <td>0.194</td>\n",
       "      <td>46.0</td>\n",
       "      <td>0.0</td>\n",
       "    </tr>\n",
       "    <tr>\n",
       "      <th>3</th>\n",
       "      <td>202</td>\n",
       "      <td>1.0</td>\n",
       "      <td>138.0</td>\n",
       "      <td>82.0</td>\n",
       "      <td>PREHYPERTENSION</td>\n",
       "      <td>0.0</td>\n",
       "      <td>0.0</td>\n",
       "      <td>40.1</td>\n",
       "      <td>0.236</td>\n",
       "      <td>28.0</td>\n",
       "      <td>0.0</td>\n",
       "    </tr>\n",
       "    <tr>\n",
       "      <th>4</th>\n",
       "      <td>1788</td>\n",
       "      <td>1.0</td>\n",
       "      <td>87.0</td>\n",
       "      <td>68.0</td>\n",
       "      <td>NORMAL</td>\n",
       "      <td>34.0</td>\n",
       "      <td>77.0</td>\n",
       "      <td>37.6</td>\n",
       "      <td>0.401</td>\n",
       "      <td>24.0</td>\n",
       "      <td>0.0</td>\n",
       "    </tr>\n",
       "    <tr>\n",
       "      <th>5</th>\n",
       "      <td>1939</td>\n",
       "      <td>0.0</td>\n",
       "      <td>134.0</td>\n",
       "      <td>58.0</td>\n",
       "      <td>NORMAL</td>\n",
       "      <td>20.0</td>\n",
       "      <td>291.0</td>\n",
       "      <td>26.4</td>\n",
       "      <td>0.352</td>\n",
       "      <td>21.0</td>\n",
       "      <td>0.0</td>\n",
       "    </tr>\n",
       "    <tr>\n",
       "      <th>6</th>\n",
       "      <td>2172</td>\n",
       "      <td>9.0</td>\n",
       "      <td>184.0</td>\n",
       "      <td>85.0</td>\n",
       "      <td>PREHYPERTENSION</td>\n",
       "      <td>15.0</td>\n",
       "      <td>0.0</td>\n",
       "      <td>30.0</td>\n",
       "      <td>1.213</td>\n",
       "      <td>49.0</td>\n",
       "      <td>1.0</td>\n",
       "    </tr>\n",
       "    <tr>\n",
       "      <th>7</th>\n",
       "      <td>465</td>\n",
       "      <td>10.0</td>\n",
       "      <td>115.0</td>\n",
       "      <td>98.0</td>\n",
       "      <td>HYPERTENSION</td>\n",
       "      <td>0.0</td>\n",
       "      <td>0.0</td>\n",
       "      <td>24.0</td>\n",
       "      <td>1.022</td>\n",
       "      <td>34.0</td>\n",
       "      <td>0.0</td>\n",
       "    </tr>\n",
       "    <tr>\n",
       "      <th>8</th>\n",
       "      <td>1927</td>\n",
       "      <td>6.0</td>\n",
       "      <td>125.0</td>\n",
       "      <td>78.0</td>\n",
       "      <td>NORMAL</td>\n",
       "      <td>31.0</td>\n",
       "      <td>0.0</td>\n",
       "      <td>27.6</td>\n",
       "      <td>0.565</td>\n",
       "      <td>49.0</td>\n",
       "      <td>1.0</td>\n",
       "    </tr>\n",
       "    <tr>\n",
       "      <th>9</th>\n",
       "      <td>734</td>\n",
       "      <td>2.0</td>\n",
       "      <td>106.0</td>\n",
       "      <td>56.0</td>\n",
       "      <td>NORMAL</td>\n",
       "      <td>27.0</td>\n",
       "      <td>165.0</td>\n",
       "      <td>29.0</td>\n",
       "      <td>0.426</td>\n",
       "      <td>22.0</td>\n",
       "      <td>0.0</td>\n",
       "    </tr>\n",
       "    <tr>\n",
       "      <th>10</th>\n",
       "      <td>None</td>\n",
       "      <td>NaN</td>\n",
       "      <td>NaN</td>\n",
       "      <td>NaN</td>\n",
       "      <td>NaN</td>\n",
       "      <td>NaN</td>\n",
       "      <td>NaN</td>\n",
       "      <td>NaN</td>\n",
       "      <td>NaN</td>\n",
       "      <td>NaN</td>\n",
       "      <td>NaN</td>\n",
       "    </tr>\n",
       "    <tr>\n",
       "      <th>11</th>\n",
       "      <td>None</td>\n",
       "      <td>NaN</td>\n",
       "      <td>NaN</td>\n",
       "      <td>NaN</td>\n",
       "      <td>NaN</td>\n",
       "      <td>NaN</td>\n",
       "      <td>NaN</td>\n",
       "      <td>NaN</td>\n",
       "      <td>NaN</td>\n",
       "      <td>NaN</td>\n",
       "      <td>NaN</td>\n",
       "    </tr>\n",
       "    <tr>\n",
       "      <th>12</th>\n",
       "      <td>999999</td>\n",
       "      <td>1.0</td>\n",
       "      <td>100.0</td>\n",
       "      <td>100.0</td>\n",
       "      <td>NaN</td>\n",
       "      <td>100.0</td>\n",
       "      <td>100.0</td>\n",
       "      <td>100.0</td>\n",
       "      <td>100.000</td>\n",
       "      <td>100.0</td>\n",
       "      <td>100.0</td>\n",
       "    </tr>\n",
       "    <tr>\n",
       "      <th>13</th>\n",
       "      <td>999999</td>\n",
       "      <td>1.0</td>\n",
       "      <td>100.0</td>\n",
       "      <td>100.0</td>\n",
       "      <td>NaN</td>\n",
       "      <td>100.0</td>\n",
       "      <td>100.0</td>\n",
       "      <td>100.0</td>\n",
       "      <td>100.000</td>\n",
       "      <td>100.0</td>\n",
       "      <td>100.0</td>\n",
       "    </tr>\n",
       "  </tbody>\n",
       "</table>\n",
       "</div>"
      ],
      "text/plain": [
       "        ID  PREGNANCIES  GLUCOSE  BLOOD_PRESSURE     HYPERTENSION  \\\n",
       "0     1505          0.0    126.0            86.0  PREHYPERTENSION   \n",
       "1     1333          0.0     91.0            80.0  PREHYPERTENSION   \n",
       "2      597          0.0     67.0            76.0           NORMAL   \n",
       "3      202          1.0    138.0            82.0  PREHYPERTENSION   \n",
       "4     1788          1.0     87.0            68.0           NORMAL   \n",
       "5     1939          0.0    134.0            58.0           NORMAL   \n",
       "6     2172          9.0    184.0            85.0  PREHYPERTENSION   \n",
       "7      465         10.0    115.0            98.0     HYPERTENSION   \n",
       "8     1927          6.0    125.0            78.0           NORMAL   \n",
       "9      734          2.0    106.0            56.0           NORMAL   \n",
       "10    None          NaN      NaN             NaN              NaN   \n",
       "11    None          NaN      NaN             NaN              NaN   \n",
       "12  999999          1.0    100.0           100.0              NaN   \n",
       "13  999999          1.0    100.0           100.0              NaN   \n",
       "\n",
       "    SKIN_THICKNESS  INSULIN    BMI  DIABETES_PEDIGREE_FUNCTION    AGE  \\\n",
       "0             27.0    120.0   27.4                       0.515   21.0   \n",
       "1              0.0      0.0   32.4                       0.601   27.0   \n",
       "2              0.0      0.0   45.3                       0.194   46.0   \n",
       "3              0.0      0.0   40.1                       0.236   28.0   \n",
       "4             34.0     77.0   37.6                       0.401   24.0   \n",
       "5             20.0    291.0   26.4                       0.352   21.0   \n",
       "6             15.0      0.0   30.0                       1.213   49.0   \n",
       "7              0.0      0.0   24.0                       1.022   34.0   \n",
       "8             31.0      0.0   27.6                       0.565   49.0   \n",
       "9             27.0    165.0   29.0                       0.426   22.0   \n",
       "10             NaN      NaN    NaN                         NaN    NaN   \n",
       "11             NaN      NaN    NaN                         NaN    NaN   \n",
       "12           100.0    100.0  100.0                     100.000  100.0   \n",
       "13           100.0    100.0  100.0                     100.000  100.0   \n",
       "\n",
       "    DIABETES_DX  \n",
       "0           0.0  \n",
       "1           0.0  \n",
       "2           0.0  \n",
       "3           0.0  \n",
       "4           0.0  \n",
       "5           0.0  \n",
       "6           1.0  \n",
       "7           0.0  \n",
       "8           1.0  \n",
       "9           0.0  \n",
       "10          NaN  \n",
       "11          NaN  \n",
       "12        100.0  \n",
       "13        100.0  "
      ]
     },
     "execution_count": 5,
     "metadata": {},
     "output_type": "execute_result"
    }
   ],
   "source": [
    "# initialize list of lists\n",
    "data = [[None,None,None,None,None,None,None,None,None,None],\n",
    "        [None,None,None,None,None,None,None,None,None,None],\n",
    "        ['999999', 1,100,100,100,100,100,100,100,100],\n",
    "        ['999999', 1,100,100,100,100,100,100,100,100],\n",
    "       ]\n",
    " \n",
    "# Create the pandas DataFrame\n",
    "df_messy = pd.DataFrame(data, \n",
    "                        columns = ['ID', 'PREGNANCIES','GLUCOSE','BLOOD_PRESSURE','SKIN_THICKNESS','INSULIN','BMI','DIABETES_PEDIGREE_FUNCTION','AGE','DIABETES_DX']\n",
    "                       )\n",
    "#df_messy\n",
    "\n",
    "df_pandas = dataframe.to_pandas().sample(10)\n",
    "\n",
    "df_BadData = pd.merge(df_pandas, df_messy,\n",
    "                      how = 'outer')\n",
    "\n",
    "df_BadData"
   ]
  },
  {
   "cell_type": "markdown",
   "metadata": {},
   "source": [
    "##### Use Pandas for Rapid Cleaning"
   ]
  },
  {
   "cell_type": "code",
   "execution_count": 6,
   "metadata": {},
   "outputs": [
    {
     "data": {
      "text/html": [
       "<div>\n",
       "<style scoped>\n",
       "    .dataframe tbody tr th:only-of-type {\n",
       "        vertical-align: middle;\n",
       "    }\n",
       "\n",
       "    .dataframe tbody tr th {\n",
       "        vertical-align: top;\n",
       "    }\n",
       "\n",
       "    .dataframe thead th {\n",
       "        text-align: right;\n",
       "    }\n",
       "</style>\n",
       "<table border=\"1\" class=\"dataframe\">\n",
       "  <thead>\n",
       "    <tr style=\"text-align: right;\">\n",
       "      <th></th>\n",
       "      <th>ID</th>\n",
       "      <th>PREGNANCIES</th>\n",
       "      <th>GLUCOSE</th>\n",
       "      <th>BLOOD_PRESSURE</th>\n",
       "      <th>HYPERTENSION</th>\n",
       "      <th>SKIN_THICKNESS</th>\n",
       "      <th>INSULIN</th>\n",
       "      <th>BMI</th>\n",
       "      <th>DIABETES_PEDIGREE_FUNCTION</th>\n",
       "      <th>AGE</th>\n",
       "      <th>DIABETES_DX</th>\n",
       "    </tr>\n",
       "  </thead>\n",
       "  <tbody>\n",
       "    <tr>\n",
       "      <th>0</th>\n",
       "      <td>1505</td>\n",
       "      <td>0.0</td>\n",
       "      <td>126.0</td>\n",
       "      <td>86.0</td>\n",
       "      <td>PREHYPERTENSION</td>\n",
       "      <td>27.0</td>\n",
       "      <td>120.0</td>\n",
       "      <td>27.4</td>\n",
       "      <td>0.515</td>\n",
       "      <td>21.0</td>\n",
       "      <td>0.0</td>\n",
       "    </tr>\n",
       "    <tr>\n",
       "      <th>1</th>\n",
       "      <td>1333</td>\n",
       "      <td>0.0</td>\n",
       "      <td>91.0</td>\n",
       "      <td>80.0</td>\n",
       "      <td>PREHYPERTENSION</td>\n",
       "      <td>0.0</td>\n",
       "      <td>0.0</td>\n",
       "      <td>32.4</td>\n",
       "      <td>0.601</td>\n",
       "      <td>27.0</td>\n",
       "      <td>0.0</td>\n",
       "    </tr>\n",
       "    <tr>\n",
       "      <th>2</th>\n",
       "      <td>597</td>\n",
       "      <td>0.0</td>\n",
       "      <td>67.0</td>\n",
       "      <td>76.0</td>\n",
       "      <td>NORMAL</td>\n",
       "      <td>0.0</td>\n",
       "      <td>0.0</td>\n",
       "      <td>45.3</td>\n",
       "      <td>0.194</td>\n",
       "      <td>46.0</td>\n",
       "      <td>0.0</td>\n",
       "    </tr>\n",
       "    <tr>\n",
       "      <th>3</th>\n",
       "      <td>202</td>\n",
       "      <td>1.0</td>\n",
       "      <td>138.0</td>\n",
       "      <td>82.0</td>\n",
       "      <td>PREHYPERTENSION</td>\n",
       "      <td>0.0</td>\n",
       "      <td>0.0</td>\n",
       "      <td>40.1</td>\n",
       "      <td>0.236</td>\n",
       "      <td>28.0</td>\n",
       "      <td>0.0</td>\n",
       "    </tr>\n",
       "    <tr>\n",
       "      <th>4</th>\n",
       "      <td>1788</td>\n",
       "      <td>1.0</td>\n",
       "      <td>87.0</td>\n",
       "      <td>68.0</td>\n",
       "      <td>NORMAL</td>\n",
       "      <td>34.0</td>\n",
       "      <td>77.0</td>\n",
       "      <td>37.6</td>\n",
       "      <td>0.401</td>\n",
       "      <td>24.0</td>\n",
       "      <td>0.0</td>\n",
       "    </tr>\n",
       "    <tr>\n",
       "      <th>5</th>\n",
       "      <td>1939</td>\n",
       "      <td>0.0</td>\n",
       "      <td>134.0</td>\n",
       "      <td>58.0</td>\n",
       "      <td>NORMAL</td>\n",
       "      <td>20.0</td>\n",
       "      <td>291.0</td>\n",
       "      <td>26.4</td>\n",
       "      <td>0.352</td>\n",
       "      <td>21.0</td>\n",
       "      <td>0.0</td>\n",
       "    </tr>\n",
       "    <tr>\n",
       "      <th>6</th>\n",
       "      <td>2172</td>\n",
       "      <td>9.0</td>\n",
       "      <td>184.0</td>\n",
       "      <td>85.0</td>\n",
       "      <td>PREHYPERTENSION</td>\n",
       "      <td>15.0</td>\n",
       "      <td>0.0</td>\n",
       "      <td>30.0</td>\n",
       "      <td>1.213</td>\n",
       "      <td>49.0</td>\n",
       "      <td>1.0</td>\n",
       "    </tr>\n",
       "    <tr>\n",
       "      <th>7</th>\n",
       "      <td>465</td>\n",
       "      <td>10.0</td>\n",
       "      <td>115.0</td>\n",
       "      <td>98.0</td>\n",
       "      <td>HYPERTENSION</td>\n",
       "      <td>0.0</td>\n",
       "      <td>0.0</td>\n",
       "      <td>24.0</td>\n",
       "      <td>1.022</td>\n",
       "      <td>34.0</td>\n",
       "      <td>0.0</td>\n",
       "    </tr>\n",
       "    <tr>\n",
       "      <th>8</th>\n",
       "      <td>1927</td>\n",
       "      <td>6.0</td>\n",
       "      <td>125.0</td>\n",
       "      <td>78.0</td>\n",
       "      <td>NORMAL</td>\n",
       "      <td>31.0</td>\n",
       "      <td>0.0</td>\n",
       "      <td>27.6</td>\n",
       "      <td>0.565</td>\n",
       "      <td>49.0</td>\n",
       "      <td>1.0</td>\n",
       "    </tr>\n",
       "    <tr>\n",
       "      <th>9</th>\n",
       "      <td>734</td>\n",
       "      <td>2.0</td>\n",
       "      <td>106.0</td>\n",
       "      <td>56.0</td>\n",
       "      <td>NORMAL</td>\n",
       "      <td>27.0</td>\n",
       "      <td>165.0</td>\n",
       "      <td>29.0</td>\n",
       "      <td>0.426</td>\n",
       "      <td>22.0</td>\n",
       "      <td>0.0</td>\n",
       "    </tr>\n",
       "  </tbody>\n",
       "</table>\n",
       "</div>"
      ],
      "text/plain": [
       "     ID  PREGNANCIES  GLUCOSE  BLOOD_PRESSURE     HYPERTENSION  \\\n",
       "0  1505          0.0    126.0            86.0  PREHYPERTENSION   \n",
       "1  1333          0.0     91.0            80.0  PREHYPERTENSION   \n",
       "2   597          0.0     67.0            76.0           NORMAL   \n",
       "3   202          1.0    138.0            82.0  PREHYPERTENSION   \n",
       "4  1788          1.0     87.0            68.0           NORMAL   \n",
       "5  1939          0.0    134.0            58.0           NORMAL   \n",
       "6  2172          9.0    184.0            85.0  PREHYPERTENSION   \n",
       "7   465         10.0    115.0            98.0     HYPERTENSION   \n",
       "8  1927          6.0    125.0            78.0           NORMAL   \n",
       "9   734          2.0    106.0            56.0           NORMAL   \n",
       "\n",
       "   SKIN_THICKNESS  INSULIN   BMI  DIABETES_PEDIGREE_FUNCTION   AGE  \\\n",
       "0            27.0    120.0  27.4                       0.515  21.0   \n",
       "1             0.0      0.0  32.4                       0.601  27.0   \n",
       "2             0.0      0.0  45.3                       0.194  46.0   \n",
       "3             0.0      0.0  40.1                       0.236  28.0   \n",
       "4            34.0     77.0  37.6                       0.401  24.0   \n",
       "5            20.0    291.0  26.4                       0.352  21.0   \n",
       "6            15.0      0.0  30.0                       1.213  49.0   \n",
       "7             0.0      0.0  24.0                       1.022  34.0   \n",
       "8            31.0      0.0  27.6                       0.565  49.0   \n",
       "9            27.0    165.0  29.0                       0.426  22.0   \n",
       "\n",
       "   DIABETES_DX  \n",
       "0          0.0  \n",
       "1          0.0  \n",
       "2          0.0  \n",
       "3          0.0  \n",
       "4          0.0  \n",
       "5          0.0  \n",
       "6          1.0  \n",
       "7          0.0  \n",
       "8          1.0  \n",
       "9          0.0  "
      ]
     },
     "execution_count": 6,
     "metadata": {},
     "output_type": "execute_result"
    }
   ],
   "source": [
    "df_BetterData = df_BadData.dropna()\n",
    "df_BetterData"
   ]
  },
  {
   "cell_type": "code",
   "execution_count": 7,
   "metadata": {},
   "outputs": [
    {
     "data": {
      "text/html": [
       "<div>\n",
       "<style scoped>\n",
       "    .dataframe tbody tr th:only-of-type {\n",
       "        vertical-align: middle;\n",
       "    }\n",
       "\n",
       "    .dataframe tbody tr th {\n",
       "        vertical-align: top;\n",
       "    }\n",
       "\n",
       "    .dataframe thead th {\n",
       "        text-align: right;\n",
       "    }\n",
       "</style>\n",
       "<table border=\"1\" class=\"dataframe\">\n",
       "  <thead>\n",
       "    <tr style=\"text-align: right;\">\n",
       "      <th></th>\n",
       "      <th>ID</th>\n",
       "      <th>PREGNANCIES</th>\n",
       "      <th>GLUCOSE</th>\n",
       "      <th>BLOOD_PRESSURE</th>\n",
       "      <th>HYPERTENSION</th>\n",
       "      <th>SKIN_THICKNESS</th>\n",
       "      <th>INSULIN</th>\n",
       "      <th>BMI</th>\n",
       "      <th>DIABETES_PEDIGREE_FUNCTION</th>\n",
       "      <th>AGE</th>\n",
       "      <th>DIABETES_DX</th>\n",
       "    </tr>\n",
       "  </thead>\n",
       "  <tbody>\n",
       "    <tr>\n",
       "      <th>0</th>\n",
       "      <td>1505</td>\n",
       "      <td>0.0</td>\n",
       "      <td>126.0</td>\n",
       "      <td>86.0</td>\n",
       "      <td>PREHYPERTENSION</td>\n",
       "      <td>27.0</td>\n",
       "      <td>120.0</td>\n",
       "      <td>27.4</td>\n",
       "      <td>0.515</td>\n",
       "      <td>21.0</td>\n",
       "      <td>0.0</td>\n",
       "    </tr>\n",
       "    <tr>\n",
       "      <th>1</th>\n",
       "      <td>1333</td>\n",
       "      <td>0.0</td>\n",
       "      <td>91.0</td>\n",
       "      <td>80.0</td>\n",
       "      <td>PREHYPERTENSION</td>\n",
       "      <td>0.0</td>\n",
       "      <td>0.0</td>\n",
       "      <td>32.4</td>\n",
       "      <td>0.601</td>\n",
       "      <td>27.0</td>\n",
       "      <td>0.0</td>\n",
       "    </tr>\n",
       "    <tr>\n",
       "      <th>2</th>\n",
       "      <td>597</td>\n",
       "      <td>0.0</td>\n",
       "      <td>67.0</td>\n",
       "      <td>76.0</td>\n",
       "      <td>NORMAL</td>\n",
       "      <td>0.0</td>\n",
       "      <td>0.0</td>\n",
       "      <td>45.3</td>\n",
       "      <td>0.194</td>\n",
       "      <td>46.0</td>\n",
       "      <td>0.0</td>\n",
       "    </tr>\n",
       "    <tr>\n",
       "      <th>3</th>\n",
       "      <td>202</td>\n",
       "      <td>1.0</td>\n",
       "      <td>138.0</td>\n",
       "      <td>82.0</td>\n",
       "      <td>PREHYPERTENSION</td>\n",
       "      <td>0.0</td>\n",
       "      <td>0.0</td>\n",
       "      <td>40.1</td>\n",
       "      <td>0.236</td>\n",
       "      <td>28.0</td>\n",
       "      <td>0.0</td>\n",
       "    </tr>\n",
       "    <tr>\n",
       "      <th>4</th>\n",
       "      <td>1788</td>\n",
       "      <td>1.0</td>\n",
       "      <td>87.0</td>\n",
       "      <td>68.0</td>\n",
       "      <td>NORMAL</td>\n",
       "      <td>34.0</td>\n",
       "      <td>77.0</td>\n",
       "      <td>37.6</td>\n",
       "      <td>0.401</td>\n",
       "      <td>24.0</td>\n",
       "      <td>0.0</td>\n",
       "    </tr>\n",
       "    <tr>\n",
       "      <th>5</th>\n",
       "      <td>1939</td>\n",
       "      <td>0.0</td>\n",
       "      <td>134.0</td>\n",
       "      <td>58.0</td>\n",
       "      <td>NORMAL</td>\n",
       "      <td>20.0</td>\n",
       "      <td>291.0</td>\n",
       "      <td>26.4</td>\n",
       "      <td>0.352</td>\n",
       "      <td>21.0</td>\n",
       "      <td>0.0</td>\n",
       "    </tr>\n",
       "    <tr>\n",
       "      <th>6</th>\n",
       "      <td>2172</td>\n",
       "      <td>9.0</td>\n",
       "      <td>184.0</td>\n",
       "      <td>85.0</td>\n",
       "      <td>PREHYPERTENSION</td>\n",
       "      <td>15.0</td>\n",
       "      <td>0.0</td>\n",
       "      <td>30.0</td>\n",
       "      <td>1.213</td>\n",
       "      <td>49.0</td>\n",
       "      <td>1.0</td>\n",
       "    </tr>\n",
       "    <tr>\n",
       "      <th>7</th>\n",
       "      <td>465</td>\n",
       "      <td>10.0</td>\n",
       "      <td>115.0</td>\n",
       "      <td>98.0</td>\n",
       "      <td>HYPERTENSION</td>\n",
       "      <td>0.0</td>\n",
       "      <td>0.0</td>\n",
       "      <td>24.0</td>\n",
       "      <td>1.022</td>\n",
       "      <td>34.0</td>\n",
       "      <td>0.0</td>\n",
       "    </tr>\n",
       "    <tr>\n",
       "      <th>8</th>\n",
       "      <td>1927</td>\n",
       "      <td>6.0</td>\n",
       "      <td>125.0</td>\n",
       "      <td>78.0</td>\n",
       "      <td>NORMAL</td>\n",
       "      <td>31.0</td>\n",
       "      <td>0.0</td>\n",
       "      <td>27.6</td>\n",
       "      <td>0.565</td>\n",
       "      <td>49.0</td>\n",
       "      <td>1.0</td>\n",
       "    </tr>\n",
       "    <tr>\n",
       "      <th>9</th>\n",
       "      <td>734</td>\n",
       "      <td>2.0</td>\n",
       "      <td>106.0</td>\n",
       "      <td>56.0</td>\n",
       "      <td>NORMAL</td>\n",
       "      <td>27.0</td>\n",
       "      <td>165.0</td>\n",
       "      <td>29.0</td>\n",
       "      <td>0.426</td>\n",
       "      <td>22.0</td>\n",
       "      <td>0.0</td>\n",
       "    </tr>\n",
       "  </tbody>\n",
       "</table>\n",
       "</div>"
      ],
      "text/plain": [
       "     ID  PREGNANCIES  GLUCOSE  BLOOD_PRESSURE     HYPERTENSION  \\\n",
       "0  1505          0.0    126.0            86.0  PREHYPERTENSION   \n",
       "1  1333          0.0     91.0            80.0  PREHYPERTENSION   \n",
       "2   597          0.0     67.0            76.0           NORMAL   \n",
       "3   202          1.0    138.0            82.0  PREHYPERTENSION   \n",
       "4  1788          1.0     87.0            68.0           NORMAL   \n",
       "5  1939          0.0    134.0            58.0           NORMAL   \n",
       "6  2172          9.0    184.0            85.0  PREHYPERTENSION   \n",
       "7   465         10.0    115.0            98.0     HYPERTENSION   \n",
       "8  1927          6.0    125.0            78.0           NORMAL   \n",
       "9   734          2.0    106.0            56.0           NORMAL   \n",
       "\n",
       "   SKIN_THICKNESS  INSULIN   BMI  DIABETES_PEDIGREE_FUNCTION   AGE  \\\n",
       "0            27.0    120.0  27.4                       0.515  21.0   \n",
       "1             0.0      0.0  32.4                       0.601  27.0   \n",
       "2             0.0      0.0  45.3                       0.194  46.0   \n",
       "3             0.0      0.0  40.1                       0.236  28.0   \n",
       "4            34.0     77.0  37.6                       0.401  24.0   \n",
       "5            20.0    291.0  26.4                       0.352  21.0   \n",
       "6            15.0      0.0  30.0                       1.213  49.0   \n",
       "7             0.0      0.0  24.0                       1.022  34.0   \n",
       "8            31.0      0.0  27.6                       0.565  49.0   \n",
       "9            27.0    165.0  29.0                       0.426  22.0   \n",
       "\n",
       "   DIABETES_DX  \n",
       "0          0.0  \n",
       "1          0.0  \n",
       "2          0.0  \n",
       "3          0.0  \n",
       "4          0.0  \n",
       "5          0.0  \n",
       "6          1.0  \n",
       "7          0.0  \n",
       "8          1.0  \n",
       "9          0.0  "
      ]
     },
     "execution_count": 7,
     "metadata": {},
     "output_type": "execute_result"
    }
   ],
   "source": [
    "df_EvenBetterData = df_BetterData.drop_duplicates()\n",
    "df_EvenBetterData"
   ]
  },
  {
   "cell_type": "code",
   "execution_count": 8,
   "metadata": {},
   "outputs": [
    {
     "data": {
      "text/html": [
       "<div>\n",
       "<style scoped>\n",
       "    .dataframe tbody tr th:only-of-type {\n",
       "        vertical-align: middle;\n",
       "    }\n",
       "\n",
       "    .dataframe tbody tr th {\n",
       "        vertical-align: top;\n",
       "    }\n",
       "\n",
       "    .dataframe thead th {\n",
       "        text-align: right;\n",
       "    }\n",
       "</style>\n",
       "<table border=\"1\" class=\"dataframe\">\n",
       "  <thead>\n",
       "    <tr style=\"text-align: right;\">\n",
       "      <th></th>\n",
       "      <th>PREGNANCIES</th>\n",
       "      <th>GLUCOSE</th>\n",
       "      <th>BLOOD_PRESSURE</th>\n",
       "      <th>SKIN_THICKNESS</th>\n",
       "      <th>INSULIN</th>\n",
       "      <th>BMI</th>\n",
       "      <th>DIABETES_PEDIGREE_FUNCTION</th>\n",
       "      <th>AGE</th>\n",
       "      <th>DIABETES_DX</th>\n",
       "    </tr>\n",
       "  </thead>\n",
       "  <tbody>\n",
       "    <tr>\n",
       "      <th>count</th>\n",
       "      <td>7.000000</td>\n",
       "      <td>7.000000</td>\n",
       "      <td>7.000000</td>\n",
       "      <td>7.000000</td>\n",
       "      <td>7.000000</td>\n",
       "      <td>7.000000</td>\n",
       "      <td>7.000000</td>\n",
       "      <td>7.000000</td>\n",
       "      <td>7.000000</td>\n",
       "    </tr>\n",
       "    <tr>\n",
       "      <th>mean</th>\n",
       "      <td>4.000000</td>\n",
       "      <td>132.571429</td>\n",
       "      <td>77.571429</td>\n",
       "      <td>17.142857</td>\n",
       "      <td>82.285714</td>\n",
       "      <td>29.214286</td>\n",
       "      <td>0.618429</td>\n",
       "      <td>32.000000</td>\n",
       "      <td>0.285714</td>\n",
       "    </tr>\n",
       "    <tr>\n",
       "      <th>std</th>\n",
       "      <td>4.281744</td>\n",
       "      <td>25.138663</td>\n",
       "      <td>15.339026</td>\n",
       "      <td>12.824827</td>\n",
       "      <td>114.680301</td>\n",
       "      <td>5.166697</td>\n",
       "      <td>0.361525</td>\n",
       "      <td>12.516656</td>\n",
       "      <td>0.487950</td>\n",
       "    </tr>\n",
       "    <tr>\n",
       "      <th>min</th>\n",
       "      <td>0.000000</td>\n",
       "      <td>106.000000</td>\n",
       "      <td>56.000000</td>\n",
       "      <td>0.000000</td>\n",
       "      <td>0.000000</td>\n",
       "      <td>24.000000</td>\n",
       "      <td>0.236000</td>\n",
       "      <td>21.000000</td>\n",
       "      <td>0.000000</td>\n",
       "    </tr>\n",
       "    <tr>\n",
       "      <th>25%</th>\n",
       "      <td>0.500000</td>\n",
       "      <td>120.000000</td>\n",
       "      <td>68.000000</td>\n",
       "      <td>7.500000</td>\n",
       "      <td>0.000000</td>\n",
       "      <td>26.900000</td>\n",
       "      <td>0.389000</td>\n",
       "      <td>21.500000</td>\n",
       "      <td>0.000000</td>\n",
       "    </tr>\n",
       "    <tr>\n",
       "      <th>50%</th>\n",
       "      <td>2.000000</td>\n",
       "      <td>126.000000</td>\n",
       "      <td>82.000000</td>\n",
       "      <td>20.000000</td>\n",
       "      <td>0.000000</td>\n",
       "      <td>27.600000</td>\n",
       "      <td>0.515000</td>\n",
       "      <td>28.000000</td>\n",
       "      <td>0.000000</td>\n",
       "    </tr>\n",
       "    <tr>\n",
       "      <th>75%</th>\n",
       "      <td>7.500000</td>\n",
       "      <td>136.000000</td>\n",
       "      <td>85.500000</td>\n",
       "      <td>27.000000</td>\n",
       "      <td>142.500000</td>\n",
       "      <td>29.500000</td>\n",
       "      <td>0.793500</td>\n",
       "      <td>41.500000</td>\n",
       "      <td>0.500000</td>\n",
       "    </tr>\n",
       "    <tr>\n",
       "      <th>max</th>\n",
       "      <td>10.000000</td>\n",
       "      <td>184.000000</td>\n",
       "      <td>98.000000</td>\n",
       "      <td>31.000000</td>\n",
       "      <td>291.000000</td>\n",
       "      <td>40.100000</td>\n",
       "      <td>1.213000</td>\n",
       "      <td>49.000000</td>\n",
       "      <td>1.000000</td>\n",
       "    </tr>\n",
       "  </tbody>\n",
       "</table>\n",
       "</div>"
      ],
      "text/plain": [
       "       PREGNANCIES     GLUCOSE  BLOOD_PRESSURE  SKIN_THICKNESS     INSULIN  \\\n",
       "count     7.000000    7.000000        7.000000        7.000000    7.000000   \n",
       "mean      4.000000  132.571429       77.571429       17.142857   82.285714   \n",
       "std       4.281744   25.138663       15.339026       12.824827  114.680301   \n",
       "min       0.000000  106.000000       56.000000        0.000000    0.000000   \n",
       "25%       0.500000  120.000000       68.000000        7.500000    0.000000   \n",
       "50%       2.000000  126.000000       82.000000       20.000000    0.000000   \n",
       "75%       7.500000  136.000000       85.500000       27.000000  142.500000   \n",
       "max      10.000000  184.000000       98.000000       31.000000  291.000000   \n",
       "\n",
       "             BMI  DIABETES_PEDIGREE_FUNCTION        AGE  DIABETES_DX  \n",
       "count   7.000000                    7.000000   7.000000     7.000000  \n",
       "mean   29.214286                    0.618429  32.000000     0.285714  \n",
       "std     5.166697                    0.361525  12.516656     0.487950  \n",
       "min    24.000000                    0.236000  21.000000     0.000000  \n",
       "25%    26.900000                    0.389000  21.500000     0.000000  \n",
       "50%    27.600000                    0.515000  28.000000     0.000000  \n",
       "75%    29.500000                    0.793500  41.500000     0.500000  \n",
       "max    40.100000                    1.213000  49.000000     1.000000  "
      ]
     },
     "execution_count": 8,
     "metadata": {},
     "output_type": "execute_result"
    }
   ],
   "source": [
    "df_EvenBetterData.query('GLUCOSE > 100').describe()"
   ]
  },
  {
   "cell_type": "markdown",
   "metadata": {},
   "source": [
    "# 3. Feature Engineering\n",
    "\n",
    "We will illustrate a few of the transformation functions here, but the rest can be found in the [documentation](https://docs.snowflake.com/LIMITEDACCESS/snowflake-ml-preprocessing)."
   ]
  },
  {
   "cell_type": "markdown",
   "metadata": {},
   "source": [
    "### Normalize via `MinMaxScaler` function"
   ]
  },
  {
   "cell_type": "code",
   "execution_count": 9,
   "metadata": {},
   "outputs": [
    {
     "name": "stdout",
     "output_type": "stream",
     "text": [
      "-----------------------------\n",
      "|\"ID\"  |\"BMI\"  |\"BMI_NORM\"  |\n",
      "-----------------------------\n",
      "|1     |33.6   |0.4169      |\n",
      "|2     |26.6   |0.3300      |\n",
      "|3     |23.3   |0.2891      |\n",
      "|4     |28.1   |0.3486      |\n",
      "|5     |43.1   |0.5347      |\n",
      "|6     |25.6   |0.3176      |\n",
      "|7     |31.0   |0.3846      |\n",
      "|8     |35.3   |0.4380      |\n",
      "|9     |30.5   |0.3784      |\n",
      "|10    |0.0    |0.0000      |\n",
      "-----------------------------\n",
      "\n"
     ]
    }
   ],
   "source": [
    "# Normalize BMI column\n",
    "MMS_BMI = snowml.MinMaxScaler(input_cols=[\"BMI\"], output_cols=[\"BMI_NORM\"])\n",
    "normalized_bmi_df = MMS_BMI.fit(dataframe).transform(dataframe)\n",
    "\n",
    "# Reduce decimal places\n",
    "new_BMI = normalized_bmi_df.col(\"BMI_NORM\").cast(DecimalType(7, 4))\n",
    "normalized_bmi_df = normalized_bmi_df.with_column(\"BMI_NORM\", new_BMI)\n",
    "\n",
    "normalized_bmi_df.select(F.col(\"ID\"), F.col(\"BMI\"), F.col(\"BMI_NORM\")).show()"
   ]
  },
  {
   "cell_type": "markdown",
   "metadata": {},
   "source": [
    "Compare normalized and native BMI columns.  \n",
    " * We expect the normalized BMI to range (0, 1)\n",
    " * We expect all rows (2,768) to be present  "
   ]
  },
  {
   "cell_type": "code",
   "execution_count": 10,
   "metadata": {},
   "outputs": [
    {
     "name": "stdout",
     "output_type": "stream",
     "text": [
      "------------------------------------------------------------------------\n",
      "|\"COUNT_ID\"  |\"MIN_BMI\"  |\"MAX_BMI\"  |\"MIN_BMI_NORM\"  |\"MAX_BMI_NORM\"  |\n",
      "------------------------------------------------------------------------\n",
      "|2768        |0.0        |80.6       |0.0000          |1.0000          |\n",
      "------------------------------------------------------------------------\n",
      "\n"
     ]
    }
   ],
   "source": [
    "normalized_bmi_df \\\n",
    "    .select(F.col(\"ID\"), F.col(\"BMI\"), F.col(\"BMI_NORM\")) \\\n",
    "    .groupBy() \\\n",
    "    .agg(F.count(\"ID\").alias(\"count_ID\"), \\\n",
    "         F.min(\"BMI\").alias(\"min_BMI\"), \\\n",
    "         F.max(\"BMI\").alias(\"max_BMI\"),\\\n",
    "         F.min(\"BMI_NORM\").alias(\"min_BMI_NORM\"), \\\n",
    "         F.max(\"BMI_NORM\").alias(\"max_BMI_NORM\")) \\\n",
    "    .show()"
   ]
  },
  {
   "cell_type": "markdown",
   "metadata": {},
   "source": [
    "### Use `OrdinalEncoder`\n",
    "Convert categorical variables (with hierarchical relationship) into numerical values by assigning a unique integer value to each category, preserving the order or hierarchy among them.  \n",
    "\n",
    " * **First**, engineeer binnings of BLOOD_PRESSURE, labeled \"HYPERTENSION\". This dataset does not contain categorical variables.\n",
    " * Bins will be:  \n",
    "    * Normal (diastolic pressure < 80mmHg)  \n",
    "    * prehypertension (diastolic pressure between 80mmHg to 89mmHg)\n",
    "    * hypertension (diastolic pressure > 90mmHg)\n",
    " * **Second**, these categorical labels will be ordinally encoded using the *snowml* OrdinalEncoder function"
   ]
  },
  {
   "cell_type": "code",
   "execution_count": 11,
   "metadata": {},
   "outputs": [
    {
     "name": "stdout",
     "output_type": "stream",
     "text": [
      "   _COLUMN_NAME        _CATEGORY  _INDEX\n",
      "0  HYPERTENSION           NORMAL       0\n",
      "1  HYPERTENSION  PREHYPERTENSION       1\n",
      "2  HYPERTENSION     HYPERTENSION       2\n",
      "-----------------------------------------------------------------\n",
      "|\"ID\"  |\"BLOOD_PRESSURE\"  |\"HYPERTENSION\"   |\"HYPERTENSION_OE\"  |\n",
      "-----------------------------------------------------------------\n",
      "|1     |72.0              |NORMAL           |0.0                |\n",
      "|2     |66.0              |NORMAL           |0.0                |\n",
      "|3     |64.0              |NORMAL           |0.0                |\n",
      "|4     |66.0              |NORMAL           |0.0                |\n",
      "|5     |40.0              |NORMAL           |0.0                |\n",
      "|6     |74.0              |NORMAL           |0.0                |\n",
      "|7     |50.0              |NORMAL           |0.0                |\n",
      "|8     |0.0               |NORMAL           |0.0                |\n",
      "|9     |70.0              |NORMAL           |0.0                |\n",
      "|10    |96.0              |HYPERTENSION     |2.0                |\n",
      "|11    |92.0              |HYPERTENSION     |2.0                |\n",
      "|12    |74.0              |NORMAL           |0.0                |\n",
      "|13    |80.0              |PREHYPERTENSION  |1.0                |\n",
      "|14    |60.0              |NORMAL           |0.0                |\n",
      "|15    |72.0              |NORMAL           |0.0                |\n",
      "|16    |0.0               |NORMAL           |0.0                |\n",
      "|17    |84.0              |PREHYPERTENSION  |1.0                |\n",
      "|18    |74.0              |NORMAL           |0.0                |\n",
      "|19    |30.0              |NORMAL           |0.0                |\n",
      "|20    |70.0              |NORMAL           |0.0                |\n",
      "-----------------------------------------------------------------\n",
      "\n"
     ]
    }
   ],
   "source": [
    "# Create \"HYPERTENSION\" column\n",
    "\n",
    "normal_condition = dataframe[\"BLOOD_PRESSURE\"] < 80\n",
    "prehypertension_condition = dataframe[\"BLOOD_PRESSURE\"].between(80, 89)\n",
    "\n",
    "new_column = F.when(normal_condition, \"NORMAL\") \\\n",
    "             .when(prehypertension_condition, \"PREHYPERTENSION\") \\\n",
    "             .otherwise(\"HYPERTENSION\")\n",
    "\n",
    "df_hypertension = dataframe.withColumn(\"HYPERTENSION\", new_column) \n",
    "\n",
    "\n",
    "# Ordinal Encode HYPERTENSION column\n",
    "categories = {\n",
    "    \"HYPERTENSION\": np.array([\"NORMAL\", \"PREHYPERTENSION\", \"HYPERTENSION\"])\n",
    "}\n",
    "\n",
    "OE_HYPERTENSION = snowml.OrdinalEncoder(input_cols = [\"HYPERTENSION\"], \n",
    "                                        output_cols = [\"HYPERTENSION_OE\"], \n",
    "                                        categories = categories)\n",
    "\n",
    "df_hypertension2 = OE_HYPERTENSION.fit(df_hypertension).transform(df_hypertension)\n",
    "\n",
    "# Show the encoding\n",
    "print(OE_HYPERTENSION._state_pandas)\n",
    "\n",
    "df_hypertension2.select(F.col(\"ID\"), F.col(\"BLOOD_PRESSURE\"), F.col(\"HYPERTENSION\"), F.col(\"HYPERTENSION_OE\")).show(20)\n"
   ]
  },
  {
   "cell_type": "markdown",
   "metadata": {},
   "source": [
    "### Use `OneHotEncoder`  \n",
    "Convert categorical variables into binary vectors, where each category is represented by a unique combination of 0s and 1s, indicating the absence or presence of that category in the data.  \n",
    "  \n",
    " * For illustrative purposes only, will be applied to the HYPERTENSION column. \n",
    " * Of course, we'll use OrdinalEncoder for the model;  HYPERTENSION column has ordinality.\""
   ]
  },
  {
   "cell_type": "code",
   "execution_count": 12,
   "metadata": {},
   "outputs": [
    {
     "name": "stdout",
     "output_type": "stream",
     "text": [
      "--------------------------------------------\n",
      "|\"ID\"  |\"BLOOD_PRESSURE\"  |\"HYPERTENSION\"  |\n",
      "--------------------------------------------\n",
      "|1     |72.0              |NORMAL          |\n",
      "|2     |66.0              |NORMAL          |\n",
      "|3     |64.0              |NORMAL          |\n",
      "|4     |66.0              |NORMAL          |\n",
      "|5     |40.0              |NORMAL          |\n",
      "|6     |74.0              |NORMAL          |\n",
      "|7     |50.0              |NORMAL          |\n",
      "|8     |0.0               |NORMAL          |\n",
      "|9     |70.0              |NORMAL          |\n",
      "|10    |96.0              |HYPERTENSION    |\n",
      "--------------------------------------------\n",
      "\n"
     ]
    }
   ],
   "source": [
    "df_OHE_demo = df_hypertension2.select(F.col(\"ID\"), F.col(\"BLOOD_PRESSURE\"), F.col(\"HYPERTENSION\"))\n",
    "df_OHE_demo.show()"
   ]
  },
  {
   "cell_type": "code",
   "execution_count": 13,
   "metadata": {},
   "outputs": [
    {
     "name": "stdout",
     "output_type": "stream",
     "text": [
      "Snowpark Dataframe: \n",
      "-----------------------------------------------------------------------------------------------------------------------------------------------\n",
      "|\"ID\"  |\"BLOOD_PRESSURE\"  |\"HYPERTENSION\"  |\"HYPERTENSION_OHE_NORMAL\"  |\"HYPERTENSION_OHE_PREHYPERTENSION\"  |\"HYPERTENSION_OHE_HYPERTENSION\"  |\n",
      "-----------------------------------------------------------------------------------------------------------------------------------------------\n",
      "|1     |72.0              |NORMAL          |1                          |0                                   |0                                |\n",
      "|2     |66.0              |NORMAL          |1                          |0                                   |0                                |\n",
      "|3     |64.0              |NORMAL          |1                          |0                                   |0                                |\n",
      "|4     |66.0              |NORMAL          |1                          |0                                   |0                                |\n",
      "|5     |40.0              |NORMAL          |1                          |0                                   |0                                |\n",
      "|6     |74.0              |NORMAL          |1                          |0                                   |0                                |\n",
      "|7     |50.0              |NORMAL          |1                          |0                                   |0                                |\n",
      "|8     |0.0               |NORMAL          |1                          |0                                   |0                                |\n",
      "|9     |70.0              |NORMAL          |1                          |0                                   |0                                |\n",
      "|10    |96.0              |HYPERTENSION    |0                          |0                                   |1                                |\n",
      "-----------------------------------------------------------------------------------------------------------------------------------------------\n",
      "\n",
      "Pandas Dataframe:\n"
     ]
    },
    {
     "data": {
      "text/html": [
       "<div>\n",
       "<style scoped>\n",
       "    .dataframe tbody tr th:only-of-type {\n",
       "        vertical-align: middle;\n",
       "    }\n",
       "\n",
       "    .dataframe tbody tr th {\n",
       "        vertical-align: top;\n",
       "    }\n",
       "\n",
       "    .dataframe thead th {\n",
       "        text-align: right;\n",
       "    }\n",
       "</style>\n",
       "<table border=\"1\" class=\"dataframe\">\n",
       "  <thead>\n",
       "    <tr style=\"text-align: right;\">\n",
       "      <th></th>\n",
       "      <th>ID</th>\n",
       "      <th>BLOOD_PRESSURE</th>\n",
       "      <th>HYPERTENSION</th>\n",
       "      <th>HYPERTENSION_OHE_NORMAL</th>\n",
       "      <th>HYPERTENSION_OHE_PREHYPERTENSION</th>\n",
       "      <th>HYPERTENSION_OHE_HYPERTENSION</th>\n",
       "    </tr>\n",
       "  </thead>\n",
       "  <tbody>\n",
       "    <tr>\n",
       "      <th>0</th>\n",
       "      <td>1</td>\n",
       "      <td>72.0</td>\n",
       "      <td>NORMAL</td>\n",
       "      <td>1</td>\n",
       "      <td>0</td>\n",
       "      <td>0</td>\n",
       "    </tr>\n",
       "    <tr>\n",
       "      <th>1</th>\n",
       "      <td>2</td>\n",
       "      <td>66.0</td>\n",
       "      <td>NORMAL</td>\n",
       "      <td>1</td>\n",
       "      <td>0</td>\n",
       "      <td>0</td>\n",
       "    </tr>\n",
       "    <tr>\n",
       "      <th>2</th>\n",
       "      <td>3</td>\n",
       "      <td>64.0</td>\n",
       "      <td>NORMAL</td>\n",
       "      <td>1</td>\n",
       "      <td>0</td>\n",
       "      <td>0</td>\n",
       "    </tr>\n",
       "    <tr>\n",
       "      <th>3</th>\n",
       "      <td>4</td>\n",
       "      <td>66.0</td>\n",
       "      <td>NORMAL</td>\n",
       "      <td>1</td>\n",
       "      <td>0</td>\n",
       "      <td>0</td>\n",
       "    </tr>\n",
       "    <tr>\n",
       "      <th>4</th>\n",
       "      <td>5</td>\n",
       "      <td>40.0</td>\n",
       "      <td>NORMAL</td>\n",
       "      <td>1</td>\n",
       "      <td>0</td>\n",
       "      <td>0</td>\n",
       "    </tr>\n",
       "    <tr>\n",
       "      <th>5</th>\n",
       "      <td>6</td>\n",
       "      <td>74.0</td>\n",
       "      <td>NORMAL</td>\n",
       "      <td>1</td>\n",
       "      <td>0</td>\n",
       "      <td>0</td>\n",
       "    </tr>\n",
       "    <tr>\n",
       "      <th>6</th>\n",
       "      <td>7</td>\n",
       "      <td>50.0</td>\n",
       "      <td>NORMAL</td>\n",
       "      <td>1</td>\n",
       "      <td>0</td>\n",
       "      <td>0</td>\n",
       "    </tr>\n",
       "    <tr>\n",
       "      <th>7</th>\n",
       "      <td>8</td>\n",
       "      <td>0.0</td>\n",
       "      <td>NORMAL</td>\n",
       "      <td>1</td>\n",
       "      <td>0</td>\n",
       "      <td>0</td>\n",
       "    </tr>\n",
       "    <tr>\n",
       "      <th>8</th>\n",
       "      <td>9</td>\n",
       "      <td>70.0</td>\n",
       "      <td>NORMAL</td>\n",
       "      <td>1</td>\n",
       "      <td>0</td>\n",
       "      <td>0</td>\n",
       "    </tr>\n",
       "    <tr>\n",
       "      <th>9</th>\n",
       "      <td>10</td>\n",
       "      <td>96.0</td>\n",
       "      <td>HYPERTENSION</td>\n",
       "      <td>0</td>\n",
       "      <td>0</td>\n",
       "      <td>1</td>\n",
       "    </tr>\n",
       "  </tbody>\n",
       "</table>\n",
       "</div>"
      ],
      "text/plain": [
       "   ID  BLOOD_PRESSURE  HYPERTENSION  HYPERTENSION_OHE_NORMAL  \\\n",
       "0   1            72.0        NORMAL                        1   \n",
       "1   2            66.0        NORMAL                        1   \n",
       "2   3            64.0        NORMAL                        1   \n",
       "3   4            66.0        NORMAL                        1   \n",
       "4   5            40.0        NORMAL                        1   \n",
       "5   6            74.0        NORMAL                        1   \n",
       "6   7            50.0        NORMAL                        1   \n",
       "7   8             0.0        NORMAL                        1   \n",
       "8   9            70.0        NORMAL                        1   \n",
       "9  10            96.0  HYPERTENSION                        0   \n",
       "\n",
       "   HYPERTENSION_OHE_PREHYPERTENSION  HYPERTENSION_OHE_HYPERTENSION  \n",
       "0                                 0                              0  \n",
       "1                                 0                              0  \n",
       "2                                 0                              0  \n",
       "3                                 0                              0  \n",
       "4                                 0                              0  \n",
       "5                                 0                              0  \n",
       "6                                 0                              0  \n",
       "7                                 0                              0  \n",
       "8                                 0                              0  \n",
       "9                                 0                              1  "
      ]
     },
     "execution_count": 13,
     "metadata": {},
     "output_type": "execute_result"
    }
   ],
   "source": [
    "# Encode categoricals to numeric columns\n",
    "OHE_hypertension = snowml.OneHotEncoder(input_cols=[\"HYPERTENSION\"], \n",
    "                                        output_cols=[\"HYPERTENSION_OHE\"])\n",
    "\n",
    "df_OHE_demo2 = OHE_hypertension.fit(df_OHE_demo).transform(df_OHE_demo)\n",
    "\n",
    "df_OHE_demo2 = df_OHE_demo2.select(F.col(\"ID\"), F.col(\"BLOOD_PRESSURE\"), F.col(\"HYPERTENSION\"), \n",
    "                                   F.col(\"HYPERTENSION_OHE_NORMAL\"), F.col(\"HYPERTENSION_OHE_PREHYPERTENSION\"), F.col(\"HYPERTENSION_OHE_HYPERTENSION\"))\n",
    "\n",
    "print(\"Snowpark Dataframe: \")\n",
    "df_OHE_demo2.show(10)\n",
    "print(\"Pandas Dataframe:\")\n",
    "df_OHE_demo2.to_pandas().head(10)"
   ]
  },
  {
   "cell_type": "markdown",
   "metadata": {},
   "source": [
    "# 4. Create Production-grade Feature Engineering Pipeline"
   ]
  },
  {
   "cell_type": "markdown",
   "metadata": {},
   "source": [
    "### Determine which features to keep\n",
    "We'll use a quick correlation approach and show image rendering abilities."
   ]
  },
  {
   "cell_type": "code",
   "execution_count": 14,
   "metadata": {},
   "outputs": [
    {
     "data": {
      "text/html": [
       "<div>\n",
       "<style scoped>\n",
       "    .dataframe tbody tr th:only-of-type {\n",
       "        vertical-align: middle;\n",
       "    }\n",
       "\n",
       "    .dataframe tbody tr th {\n",
       "        vertical-align: top;\n",
       "    }\n",
       "\n",
       "    .dataframe thead th {\n",
       "        text-align: right;\n",
       "    }\n",
       "</style>\n",
       "<table border=\"1\" class=\"dataframe\">\n",
       "  <thead>\n",
       "    <tr style=\"text-align: right;\">\n",
       "      <th></th>\n",
       "      <th>PREGNANCIES</th>\n",
       "      <th>GLUCOSE</th>\n",
       "      <th>BLOOD_PRESSURE</th>\n",
       "      <th>SKIN_THICKNESS</th>\n",
       "      <th>INSULIN</th>\n",
       "      <th>BMI</th>\n",
       "      <th>DIABETES_PEDIGREE_FUNCTION</th>\n",
       "      <th>AGE</th>\n",
       "      <th>DIABETES_DX</th>\n",
       "    </tr>\n",
       "  </thead>\n",
       "  <tbody>\n",
       "    <tr>\n",
       "      <th>PREGNANCIES</th>\n",
       "      <td>1.000000</td>\n",
       "      <td>0.122839</td>\n",
       "      <td>0.147253</td>\n",
       "      <td>-0.068673</td>\n",
       "      <td>-0.075734</td>\n",
       "      <td>0.018761</td>\n",
       "      <td>-0.027731</td>\n",
       "      <td>0.540805</td>\n",
       "      <td>0.223796</td>\n",
       "    </tr>\n",
       "    <tr>\n",
       "      <th>GLUCOSE</th>\n",
       "      <td>0.122839</td>\n",
       "      <td>1.000000</td>\n",
       "      <td>0.142095</td>\n",
       "      <td>0.061023</td>\n",
       "      <td>0.323445</td>\n",
       "      <td>0.225308</td>\n",
       "      <td>0.127195</td>\n",
       "      <td>0.256958</td>\n",
       "      <td>0.460644</td>\n",
       "    </tr>\n",
       "    <tr>\n",
       "      <th>BLOOD_PRESSURE</th>\n",
       "      <td>0.147253</td>\n",
       "      <td>0.142095</td>\n",
       "      <td>1.000000</td>\n",
       "      <td>0.201167</td>\n",
       "      <td>0.087823</td>\n",
       "      <td>0.281560</td>\n",
       "      <td>0.048471</td>\n",
       "      <td>0.238684</td>\n",
       "      <td>0.072900</td>\n",
       "    </tr>\n",
       "    <tr>\n",
       "      <th>SKIN_THICKNESS</th>\n",
       "      <td>-0.068673</td>\n",
       "      <td>0.061023</td>\n",
       "      <td>0.201167</td>\n",
       "      <td>1.000000</td>\n",
       "      <td>0.445345</td>\n",
       "      <td>0.393494</td>\n",
       "      <td>0.179830</td>\n",
       "      <td>-0.111895</td>\n",
       "      <td>0.075603</td>\n",
       "    </tr>\n",
       "    <tr>\n",
       "      <th>INSULIN</th>\n",
       "      <td>-0.075734</td>\n",
       "      <td>0.323445</td>\n",
       "      <td>0.087823</td>\n",
       "      <td>0.445345</td>\n",
       "      <td>1.000000</td>\n",
       "      <td>0.215926</td>\n",
       "      <td>0.190500</td>\n",
       "      <td>-0.073458</td>\n",
       "      <td>0.123646</td>\n",
       "    </tr>\n",
       "    <tr>\n",
       "      <th>BMI</th>\n",
       "      <td>0.018761</td>\n",
       "      <td>0.225308</td>\n",
       "      <td>0.281560</td>\n",
       "      <td>0.393494</td>\n",
       "      <td>0.215926</td>\n",
       "      <td>1.000000</td>\n",
       "      <td>0.129766</td>\n",
       "      <td>0.038175</td>\n",
       "      <td>0.280928</td>\n",
       "    </tr>\n",
       "    <tr>\n",
       "      <th>DIABETES_PEDIGREE_FUNCTION</th>\n",
       "      <td>-0.027731</td>\n",
       "      <td>0.127195</td>\n",
       "      <td>0.048471</td>\n",
       "      <td>0.179830</td>\n",
       "      <td>0.190500</td>\n",
       "      <td>0.129766</td>\n",
       "      <td>1.000000</td>\n",
       "      <td>0.028544</td>\n",
       "      <td>0.160664</td>\n",
       "    </tr>\n",
       "    <tr>\n",
       "      <th>AGE</th>\n",
       "      <td>0.540805</td>\n",
       "      <td>0.256958</td>\n",
       "      <td>0.238684</td>\n",
       "      <td>-0.111895</td>\n",
       "      <td>-0.073458</td>\n",
       "      <td>0.038175</td>\n",
       "      <td>0.028544</td>\n",
       "      <td>1.000000</td>\n",
       "      <td>0.237050</td>\n",
       "    </tr>\n",
       "    <tr>\n",
       "      <th>DIABETES_DX</th>\n",
       "      <td>0.223796</td>\n",
       "      <td>0.460644</td>\n",
       "      <td>0.072900</td>\n",
       "      <td>0.075603</td>\n",
       "      <td>0.123646</td>\n",
       "      <td>0.280928</td>\n",
       "      <td>0.160664</td>\n",
       "      <td>0.237050</td>\n",
       "      <td>1.000000</td>\n",
       "    </tr>\n",
       "  </tbody>\n",
       "</table>\n",
       "</div>"
      ],
      "text/plain": [
       "                            PREGNANCIES   GLUCOSE  BLOOD_PRESSURE  \\\n",
       "PREGNANCIES                    1.000000  0.122839        0.147253   \n",
       "GLUCOSE                        0.122839  1.000000        0.142095   \n",
       "BLOOD_PRESSURE                 0.147253  0.142095        1.000000   \n",
       "SKIN_THICKNESS                -0.068673  0.061023        0.201167   \n",
       "INSULIN                       -0.075734  0.323445        0.087823   \n",
       "BMI                            0.018761  0.225308        0.281560   \n",
       "DIABETES_PEDIGREE_FUNCTION    -0.027731  0.127195        0.048471   \n",
       "AGE                            0.540805  0.256958        0.238684   \n",
       "DIABETES_DX                    0.223796  0.460644        0.072900   \n",
       "\n",
       "                            SKIN_THICKNESS   INSULIN       BMI  \\\n",
       "PREGNANCIES                      -0.068673 -0.075734  0.018761   \n",
       "GLUCOSE                           0.061023  0.323445  0.225308   \n",
       "BLOOD_PRESSURE                    0.201167  0.087823  0.281560   \n",
       "SKIN_THICKNESS                    1.000000  0.445345  0.393494   \n",
       "INSULIN                           0.445345  1.000000  0.215926   \n",
       "BMI                               0.393494  0.215926  1.000000   \n",
       "DIABETES_PEDIGREE_FUNCTION        0.179830  0.190500  0.129766   \n",
       "AGE                              -0.111895 -0.073458  0.038175   \n",
       "DIABETES_DX                       0.075603  0.123646  0.280928   \n",
       "\n",
       "                            DIABETES_PEDIGREE_FUNCTION       AGE  DIABETES_DX  \n",
       "PREGNANCIES                                  -0.027731  0.540805     0.223796  \n",
       "GLUCOSE                                       0.127195  0.256958     0.460644  \n",
       "BLOOD_PRESSURE                                0.048471  0.238684     0.072900  \n",
       "SKIN_THICKNESS                                0.179830 -0.111895     0.075603  \n",
       "INSULIN                                       0.190500 -0.073458     0.123646  \n",
       "BMI                                           0.129766  0.038175     0.280928  \n",
       "DIABETES_PEDIGREE_FUNCTION                    1.000000  0.028544     0.160664  \n",
       "AGE                                           0.028544  1.000000     0.237050  \n",
       "DIABETES_DX                                   0.160664  0.237050     1.000000  "
      ]
     },
     "execution_count": 14,
     "metadata": {},
     "output_type": "execute_result"
    }
   ],
   "source": [
    "# Simple correlation matrix\n",
    "df_correlation = correlation(df = df_hypertension)\n",
    "df_correlation"
   ]
  },
  {
   "cell_type": "code",
   "execution_count": 15,
   "metadata": {},
   "outputs": [
    {
     "data": {
      "image/png": "[encoded data removed]",
      "text/plain": [
       "<Figure size 700x700 with 2 Axes>"
      ]
     },
     "metadata": {},
     "output_type": "display_data"
    }
   ],
   "source": [
    "# Create a heatmap with the features\n",
    "fig, ax = plt.subplots(figsize=(7, 7))\n",
    "plt.title('Heatmap of Diabetes Data Correlations', fontsize=20)\n",
    "dataplot = sns.heatmap(df_correlation, cmap=\"YlGnBu\", annot=True)\n",
    "\n",
    "plt.show()"
   ]
  },
  {
   "cell_type": "markdown",
   "metadata": {},
   "source": [
    "### Create `Pipeline` object\n",
    "This standardizes feature engineering so that both training and inferencing will use the same transformations."
   ]
  },
  {
   "cell_type": "markdown",
   "metadata": {},
   "source": [
    "##### Shape dataframe "
   ]
  },
  {
   "cell_type": "code",
   "execution_count": 16,
   "metadata": {},
   "outputs": [
    {
     "name": "stdout",
     "output_type": "stream",
     "text": [
      "----------------------------------------------------------------------------------------------------------------------------\n",
      "|\"PREGNANCIES\"  |\"GLUCOSE\"  |\"SKIN_THICKNESS\"  |\"INSULIN\"  |\"BMI\"  |\"DIABETES_PEDIGREE_FUNCTION\"  |\"AGE\"  |\"HYPERTENSION\"  |\n",
      "----------------------------------------------------------------------------------------------------------------------------\n",
      "|6.0            |148.0      |35.0              |0.0        |33.6   |0.627                         |50.0   |NORMAL          |\n",
      "|1.0            |85.0       |29.0              |0.0        |26.6   |0.351                         |31.0   |NORMAL          |\n",
      "|8.0            |183.0      |0.0               |0.0        |23.3   |0.672                         |32.0   |NORMAL          |\n",
      "|1.0            |89.0       |23.0              |94.0       |28.1   |0.167                         |21.0   |NORMAL          |\n",
      "|0.0            |137.0      |35.0              |168.0      |43.1   |2.288                         |33.0   |NORMAL          |\n",
      "|5.0            |116.0      |0.0               |0.0        |25.6   |0.201                         |30.0   |NORMAL          |\n",
      "|3.0            |78.0       |32.0              |88.0       |31.0   |0.248                         |26.0   |NORMAL          |\n",
      "|10.0           |115.0      |0.0               |0.0        |35.3   |0.134                         |29.0   |NORMAL          |\n",
      "|2.0            |197.0      |45.0              |543.0      |30.5   |0.158                         |53.0   |NORMAL          |\n",
      "|8.0            |125.0      |0.0               |0.0        |0.0    |0.232                         |54.0   |HYPERTENSION    |\n",
      "----------------------------------------------------------------------------------------------------------------------------\n",
      "\n"
     ]
    },
    {
     "data": {
      "text/plain": [
       "[('PREGNANCIES', 'double'),\n",
       " ('GLUCOSE', 'double'),\n",
       " ('SKIN_THICKNESS', 'double'),\n",
       " ('INSULIN', 'double'),\n",
       " ('BMI', 'double'),\n",
       " ('DIABETES_PEDIGREE_FUNCTION', 'double'),\n",
       " ('AGE', 'double'),\n",
       " ('HYPERTENSION', 'string(15)')]"
      ]
     },
     "execution_count": 16,
     "metadata": {},
     "output_type": "execute_result"
    }
   ],
   "source": [
    "# Drop fields with low predictive power\n",
    "df_pipeline = df_hypertension.drop(\"ID\").drop(\"BLOOD_PRESSURE\").drop(\"DIABETES_DX\")\n",
    "df_pipeline.show()\n",
    "\n",
    "df_pipeline.dtypes\n"
   ]
  },
  {
   "cell_type": "markdown",
   "metadata": {},
   "source": [
    "##### Categorize features"
   ]
  },
  {
   "cell_type": "code",
   "execution_count": 17,
   "metadata": {},
   "outputs": [
    {
     "name": "stdout",
     "output_type": "stream",
     "text": [
      "{'HYPERTENSION': array(['NORMAL', 'PREHYPERTENSION', 'HYPERTENSION'], dtype='<U15')}\n"
     ]
    }
   ],
   "source": [
    "# Categorize all the features for processing\n",
    "CATEGORICAL_COLUMNS = [\"HYPERTENSION\"]\n",
    "CATEGORICAL_COLUMNS_OE = [\"HYPERTENSION_OE\"] # Used for labeling new OE column\n",
    "NUMERICAL_COLUMNS = [\"PREGNANCIES\", \"GLUCOSE\", \"SKIN_THICKNESS\", \"INSULIN\", \"BMI\", \"DIABETES_PEDIGREE_FUNCTION\",\"AGE\"]\n",
    "\n",
    "categories = {\n",
    "    \"HYPERTENSION\": np.array([\"NORMAL\", \"PREHYPERTENSION\", \"HYPERTENSION\"])\n",
    "}\n",
    "\n",
    "print(categories)"
   ]
  },
  {
   "cell_type": "markdown",
   "metadata": {},
   "source": [
    "##### Build pipeline"
   ]
  },
  {
   "cell_type": "code",
   "execution_count": 19,
   "metadata": {},
   "outputs": [],
   "source": [
    "preprocessing_pipeline_diabetes = Pipeline(\n",
    "    steps=[\n",
    "            (\n",
    "                \"OE\",\n",
    "                snowml.OrdinalEncoder(\n",
    "                    input_cols = CATEGORICAL_COLUMNS,\n",
    "                    output_cols = CATEGORICAL_COLUMNS_OE,\n",
    "                    categories = categories,\n",
    "                )\n",
    "            ),\n",
    "            (\n",
    "                \"MMS\",\n",
    "                snowml.MinMaxScaler(\n",
    "                    clip = True,\n",
    "                    input_cols = NUMERICAL_COLUMNS,\n",
    "                    output_cols = NUMERICAL_COLUMNS,\n",
    "                )\n",
    "            )\n",
    "    ]\n",
    ")\n",
    "\n",
    "PIPELINE_FILE_DIABETES = 'preprocessing_pipeline_diabetes.joblib'"
   ]
  },
  {
   "cell_type": "markdown",
   "metadata": {},
   "source": [
    "##### Serialize pipeline"
   ]
  },
  {
   "cell_type": "code",
   "execution_count": 20,
   "metadata": {},
   "outputs": [
    {
     "data": {
      "text/plain": [
       "['preprocessing_pipeline_diabetes.joblib']"
      ]
     },
     "execution_count": 20,
     "metadata": {},
     "output_type": "execute_result"
    }
   ],
   "source": [
    "joblib.dump(preprocessing_pipeline_diabetes, PIPELINE_FILE_DIABETES) "
   ]
  },
  {
   "cell_type": "markdown",
   "metadata": {},
   "source": [
    "#### Apply to data  \n",
    "Apply serialized pipeline to data, including `.fit()` and `.transform()`.\n",
    "  \n",
    "The .fit() method is used to compute any necessary statistics or parameters required for preprocessing.  \n",
    "  \n",
    "For example:  \n",
    "  \n",
    " * In data preprocessing, .fit() might calculate the mean and standard deviation for scaling future data.  \n",
    " * In feature engineering, it might calculate the parameters needed for transformations like PCA.  \n",
    "  \n",
    "Once these parameters are calculated using the training data with .fit(), they are then applied to new, unseen data through methods like .transform(). This ensures that your pipeline processes new data consistently and accurately, based on what it has learned from the training data.  \n",
    "  \n",
    "**Let's go!**  "
   ]
  },
  {
   "cell_type": "code",
   "execution_count": 21,
   "metadata": {},
   "outputs": [
    {
     "name": "stdout",
     "output_type": "stream",
     "text": [
      "---------------------------------------------------------------------------------------------------------------------------------------------------------------------------------------------------------\n",
      "|\"PREGNANCIES\"         |\"GLUCOSE\"           |\"SKIN_THICKNESS\"     |\"INSULIN\"            |\"BMI\"                |\"DIABETES_PEDIGREE_FUNCTION\"  |\"AGE\"                |\"HYPERTENSION_OE\"  |\"HYPERTENSION\"  |\n",
      "---------------------------------------------------------------------------------------------------------------------------------------------------------------------------------------------------------\n",
      "|0.3529411764705882    |0.7437185929648241  |0.3181818181818182   |0.0                  |0.4168734491315137   |0.23441502988898377           |0.4833333333333334   |0.0                |NORMAL          |\n",
      "|0.058823529411764705  |0.4271356783919598  |0.2636363636363636   |0.0                  |0.3300248138957817   |0.11656703672075149           |0.16666666666666663  |0.0                |NORMAL          |\n",
      "|0.47058823529411764   |0.9195979899497487  |0.0                  |0.0                  |0.2890818858560794   |0.25362937660119556           |0.18333333333333335  |0.0                |NORMAL          |\n",
      "|0.058823529411764705  |0.4472361809045226  |0.20909090909090908  |0.1111111111111111   |0.34863523573200994  |0.038001707941929974          |0.0                  |0.0                |NORMAL          |\n",
      "|0.0                   |0.6884422110552764  |0.3181818181818182   |0.19858156028368795  |0.5347394540942929   |0.9436379163108453            |0.20000000000000007  |0.0                |NORMAL          |\n",
      "|0.29411764705882354   |0.5829145728643216  |0.0                  |0.0                  |0.31761786600496283  |0.05251921434671221           |0.15000000000000002  |0.0                |NORMAL          |\n",
      "|0.1764705882352941    |0.3919597989949749  |0.2909090909090909   |0.10401891252955082  |0.38461538461538464  |0.07258753202391117           |0.08333333333333337  |0.0                |NORMAL          |\n",
      "|0.5882352941176471    |0.577889447236181   |0.0                  |0.0                  |0.4379652605459057   |0.02391118701964133           |0.13333333333333336  |0.0                |NORMAL          |\n",
      "|0.11764705882352941   |0.9899497487437187  |0.40909090909090906  |0.6418439716312057   |0.3784119106699752   |0.03415883859948761           |0.5333333333333333   |0.0                |NORMAL          |\n",
      "|0.47058823529411764   |0.628140703517588   |0.0                  |0.0                  |0.0                  |0.06575576430401367           |0.55                 |2.0                |HYPERTENSION    |\n",
      "---------------------------------------------------------------------------------------------------------------------------------------------------------------------------------------------------------\n",
      "\n"
     ]
    }
   ],
   "source": [
    "transformed_diabetes_df = preprocessing_pipeline_diabetes.fit(df_pipeline).transform(df_pipeline)\n",
    "transformed_diabetes_df.show()"
   ]
  },
  {
   "cell_type": "markdown",
   "metadata": {},
   "source": [
    "### Save serialized pipeline\n",
    "\n",
    " * Check that we're using the \"GOLD\" schema, as this is where DS_ASSETS staging was created\n",
    " * If not, then switch the schema being used in session to \"GOLD\""
   ]
  },
  {
   "cell_type": "code",
   "execution_count": 22,
   "metadata": {},
   "outputs": [
    {
     "data": {
      "text/plain": [
       "[PutResult(source='preprocessing_pipeline_diabetes.joblib', target='preprocessing_pipeline_diabetes.joblib.gz', source_size=1744, target_size=1056, source_compression='NONE', target_compression='GZIP', status='UPLOADED', message='')]"
      ]
     },
     "execution_count": 22,
     "metadata": {},
     "output_type": "execute_result"
    }
   ],
   "source": [
    "# Save the serialized (pickled) object into stage \"DS_ASSETS\"\n",
    "session.file.put(PIPELINE_FILE_DIABETES, \"@DS_ASSETS\", overwrite=True)"
   ]
  },
  {
   "cell_type": "markdown",
   "metadata": {},
   "source": [
    "# 5. ML Modeling"
   ]
  },
  {
   "cell_type": "markdown",
   "metadata": {},
   "source": [
    "- Train a logit model using Snowpark ML Package\n",
    "  - Makes sense because we want to produce a binary prediction (yes or no diabetes)\n",
    "- Train a random forest classifier using Snowpark ML Package\n",
    "  - Makes sense because we have a mixture of categorical and continuous variables, which typically is handled well by tree-based models.\n",
    "- Deploy the model to Snowflake Model Registry (stored in staging) and call for inferences."
   ]
  },
  {
   "cell_type": "markdown",
   "metadata": {},
   "source": [
    "#### GET DATA"
   ]
  },
  {
   "cell_type": "code",
   "execution_count": 23,
   "metadata": {},
   "outputs": [
    {
     "name": "stdout",
     "output_type": "stream",
     "text": [
      "--------------------------------------------------------------------------------------------------------------------------------------------\n",
      "|\"PREGNANCIES\"  |\"GLUCOSE\"  |\"HYPERTENSION\"  |\"SKIN_THICKNESS\"  |\"INSULIN\"  |\"BMI\"  |\"DIABETES_PEDIGREE_FUNCTION\"  |\"AGE\"  |\"DIABETES_DX\"  |\n",
      "--------------------------------------------------------------------------------------------------------------------------------------------\n",
      "|6.0            |148.0      |NORMAL          |35.0              |0.0        |33.6   |0.627                         |50.0   |1.0            |\n",
      "|1.0            |85.0       |NORMAL          |29.0              |0.0        |26.6   |0.351                         |31.0   |0.0            |\n",
      "|8.0            |183.0      |NORMAL          |0.0               |0.0        |23.3   |0.672                         |32.0   |1.0            |\n",
      "|1.0            |89.0       |NORMAL          |23.0              |94.0       |28.1   |0.167                         |21.0   |0.0            |\n",
      "|0.0            |137.0      |NORMAL          |35.0              |168.0      |43.1   |2.288                         |33.0   |1.0            |\n",
      "|5.0            |116.0      |NORMAL          |0.0               |0.0        |25.6   |0.201                         |30.0   |0.0            |\n",
      "|3.0            |78.0       |NORMAL          |32.0              |88.0       |31.0   |0.248                         |26.0   |1.0            |\n",
      "|10.0           |115.0      |NORMAL          |0.0               |0.0        |35.3   |0.134                         |29.0   |0.0            |\n",
      "|2.0            |197.0      |NORMAL          |45.0              |543.0      |30.5   |0.158                         |53.0   |1.0            |\n",
      "|8.0            |125.0      |HYPERTENSION    |0.0               |0.0        |0.0    |0.232                         |54.0   |1.0            |\n",
      "--------------------------------------------------------------------------------------------------------------------------------------------\n",
      "\n"
     ]
    },
    {
     "data": {
      "text/plain": [
       "[('PREGNANCIES', 'double'),\n",
       " ('GLUCOSE', 'double'),\n",
       " ('HYPERTENSION', 'string(15)'),\n",
       " ('SKIN_THICKNESS', 'double'),\n",
       " ('INSULIN', 'double'),\n",
       " ('BMI', 'double'),\n",
       " ('DIABETES_PEDIGREE_FUNCTION', 'double'),\n",
       " ('AGE', 'double'),\n",
       " ('DIABETES_DX', 'double')]"
      ]
     },
     "execution_count": 23,
     "metadata": {},
     "output_type": "execute_result"
    }
   ],
   "source": [
    "# Get data\n",
    "databaseName = 'DEMO_DATASCIENCE'\n",
    "schemaName = 'GOLD'\n",
    "tableName = 'DIABETES_DS'\n",
    "\n",
    "location = f'{databaseName}.{schemaName}.{tableName}'\n",
    "\n",
    "df_ds = session.table(location)\n",
    "\n",
    "df_ds.show()\n",
    "df_ds.dtypes"
   ]
  },
  {
   "cell_type": "markdown",
   "metadata": {},
   "source": [
    "#### Get `Pipeline` Ready"
   ]
  },
  {
   "cell_type": "code",
   "execution_count": 24,
   "metadata": {},
   "outputs": [],
   "source": [
    "# Categorize all the features for modeling\n",
    "CATEGORICAL_COLUMNS = [\"HYPERTENSION\"]\n",
    "CATEGORICAL_COLUMNS_OE = [\"HYPERTENSION_OE\"] # To name the ordinal encoded columns\n",
    "NUMERICAL_COLUMNS = [\"PREGNANCIES\", \"GLUCOSE\", \"SKIN_THICKNESS\", \"INSULIN\", \"BMI\", \"DIABETES_PEDIGREE_FUNCTION\",\"AGE\"]\n",
    "\n",
    "LABEL_COLUMNS = ['DIABETES_DX']"
   ]
  },
  {
   "cell_type": "code",
   "execution_count": 25,
   "metadata": {},
   "outputs": [],
   "source": [
    "# Load the preprocessing pipeline object\n",
    "PIPELINE_FILE = 'preprocessing_pipeline_diabetes.joblib'\n",
    "preprocessing_pipeline = joblib.load(PIPELINE_FILE)"
   ]
  },
  {
   "cell_type": "markdown",
   "metadata": {},
   "source": [
    "### Create Train/Test Split"
   ]
  },
  {
   "cell_type": "code",
   "execution_count": 26,
   "metadata": {},
   "outputs": [],
   "source": [
    "# Split the data into train and test sets\n",
    "diabetes_train_df, diabetes_test_df = df_ds.random_split(weights = [0.7, 0.3], seed = 23)\n",
    "\n",
    "# Run the train and test sets through the Pipeline object we defined earlier\n",
    "train_df = preprocessing_pipeline.\\\n",
    "            fit(diabetes_train_df).\\\n",
    "            transform(diabetes_train_df)\n",
    "\n",
    "test_df = preprocessing_pipeline.transform(diabetes_test_df)"
   ]
  },
  {
   "cell_type": "markdown",
   "metadata": {},
   "source": [
    "#### Persist Train/Test Data in Snowflake  \n",
    "Save train and test subsets in Snowflake. Makes for easy access.  \n",
    "Can use this syntax to retrieve:  \n",
    "  \n",
    "`train_df = session.table('DEMO_DATASCIENCE.GOLD.DIABETES_TRAIN_DF')`  \n",
    "`test_df = session.table('DEMO_DATASCIENCE.GOLD.DIABETES_TEST_DF')`"
   ]
  },
  {
   "cell_type": "code",
   "execution_count": null,
   "metadata": {},
   "outputs": [],
   "source": [
    "train_df.write.save_as_table(table_name='DIABETES_TRAIN_DF', mode='overwrite')\n",
    "test_df.write.save_as_table(table_name='DIABETES_TEST_DF', mode='overwrite')"
   ]
  },
  {
   "cell_type": "markdown",
   "metadata": {},
   "source": [
    "### Build Simple Logit Model\n",
    "\n",
    "What's happening here? \n",
    "\n",
    "- The `model.fit()` function creates a temp stored procedure in the background. \n",
    "- Be sure to use a [Snowpark Optimized Warehouse](https://docs.snowflake.com/en/user-guide/warehouses-snowpark-optimized) **ONLY** if you need more memory. This is **NOT** to be used for all ML processes.  \n",
    "- The `model.predict()` function creates a temporary vectorized UDF in the background, which means the input DataFrame is batched as Pandas DataFrames\n",
    "- Inference is parallelized across all batches.  \n",
    "  \n",
    "What's **NOT** happening here? \n",
    "- Building a finely tuned ML model worthy of winning a Kaggle competition"
   ]
  },
  {
   "cell_type": "markdown",
   "metadata": {},
   "source": [
    "Build model. Compute is pushed down to Snowflake."
   ]
  },
  {
   "cell_type": "code",
   "execution_count": 29,
   "metadata": {},
   "outputs": [
    {
     "data": {
      "text/plain": [
       "<snowflake.ml.modeling.linear_model.logistic_regression.LogisticRegression at 0x31d267100>"
      ]
     },
     "execution_count": 29,
     "metadata": {},
     "output_type": "execute_result"
    }
   ],
   "source": [
    "# Define the Classifier\n",
    "logit_basic = LR(max_iter = 100, #Default is 100 iterations\n",
    "                 random_state = 23,\n",
    "                 penalty = 'none',\n",
    "                 input_cols = CATEGORICAL_COLUMNS_OE + NUMERICAL_COLUMNS,\n",
    "                 label_cols = LABEL_COLUMNS,\n",
    "                 output_cols = ['PREDICTED_DIABETES_DX']\n",
    "                )\n",
    "\n",
    "# Train on train_df data\n",
    "logit_basic.fit(train_df)"
   ]
  },
  {
   "cell_type": "markdown",
   "metadata": {},
   "source": [
    "#### Test Basic Logit Model  \n",
    "Scoring on test dataset.  \n",
    "We can compare the actual outcome to the machine's predicted outcome.  \n",
    "Scoring computation is pushed down into Snowflake.  "
   ]
  },
  {
   "cell_type": "code",
   "execution_count": null,
   "metadata": {},
   "outputs": [],
   "source": [
    "scored_logit_basic = logit_basic.predict(test_df)\n",
    "\n",
    "scored_logit_basic.show()"
   ]
  },
  {
   "cell_type": "code",
   "execution_count": null,
   "metadata": {},
   "outputs": [],
   "source": [
    "# Bumping up horsepower, otherwise it will take 1.0 minutes to run on small compute.\n",
    "session.sql(\"ALTER WAREHOUSE ML_HOL_WH SET WAREHOUSE_SIZE=XLARGE;\").collect()"
   ]
  },
  {
   "cell_type": "code",
   "execution_count": null,
   "metadata": {},
   "outputs": [],
   "source": [
    "cf_matrix = CM(df = scored_logit_basic, \n",
    "               y_true_col_name = 'DIABETES_DX', \n",
    "               y_pred_col_name = 'PREDICTED_DIABETES_DX')\n",
    "\n",
    "sns.heatmap(data = cf_matrix, annot = True, fmt = 'g', cmap = 'Blues')\n",
    "\n",
    "plt.xlabel('Predicted Dx')\n",
    "plt.ylabel('Actual Dx')\n",
    "plt.title('Logit Confusion Matrix')\n",
    "\n",
    "print('Acccuracy:', M.accuracy_score(df = scored_logit_basic, \n",
    "                                     y_true_col_names='DIABETES_DX', \n",
    "                                     y_pred_col_names='PREDICTED_DIABETES_DX'))\n",
    "\n",
    "print('Precision:', M.precision_score(df = scored_logit_basic, \n",
    "                                      y_true_col_names='DIABETES_DX', \n",
    "                                      y_pred_col_names='PREDICTED_DIABETES_DX'))\n",
    "\n",
    "print('Recall:', M.recall_score(df = scored_logit_basic, \n",
    "                                y_true_col_names='DIABETES_DX', \n",
    "                                y_pred_col_names='PREDICTED_DIABETES_DX'))\n",
    "\n",
    "print('F1:', M.f1_score(df = scored_logit_basic, \n",
    "                        y_true_col_names='DIABETES_DX', \n",
    "                        y_pred_col_names='PREDICTED_DIABETES_DX'))"
   ]
  },
  {
   "cell_type": "code",
   "execution_count": null,
   "metadata": {},
   "outputs": [],
   "source": [
    "session.sql(\"ALTER WAREHOUSE ML_HOL_WH SET WAREHOUSE_SIZE=SMALL;\").collect()"
   ]
  },
  {
   "cell_type": "code",
   "execution_count": null,
   "metadata": {},
   "outputs": [],
   "source": [
    "#df_check = scored_logit_basic.select(F.col(\"DIABETES_DX\"), F.col(\"PREDICTED_DIABETES_DX\")).to_pandas()\n",
    "#df_check['Gut_Check'] = np.where((df_check['DIABETES_DX'] == 1) & (df_check['PREDICTED_DIABETES_DX'] == 1), 'True Positive',\n",
    "#                        np.where((df_check['DIABETES_DX'] == 0) & (df_check['PREDICTED_DIABETES_DX'] == 0), 'True Negative',\n",
    "#                        np.where((df_check['DIABETES_DX'] == 1) & (df_check['PREDICTED_DIABETES_DX'] == 0), 'False Negative',\n",
    "#                        np.where((df_check['DIABETES_DX'] == 0) & (df_check['PREDICTED_DIABETES_DX'] == 1), 'False Positive',\n",
    "#                                 'ERROR'\n",
    "#                                 ))))\n",
    "#df_check['Gut_Check'].value_counts()"
   ]
  },
  {
   "cell_type": "code",
   "execution_count": null,
   "metadata": {},
   "outputs": [],
   "source": [
    "#SCIKIT_CM(df_check['DIABETES_DX'], df_check['PREDICTED_DIABETES_DX'])"
   ]
  },
  {
   "cell_type": "markdown",
   "metadata": {},
   "source": [
    "### Build Better Logit Model"
   ]
  },
  {
   "cell_type": "code",
   "execution_count": null,
   "metadata": {},
   "outputs": [],
   "source": [
    "# Check feature coefficients here to see which variables had greatest impact.\n",
    "lm_local = logit_basic.to_sklearn()\n",
    "feature_coefficients = pd.DataFrame(lm_local.coef_.T, lm_local.feature_names_in_, columns=['Coefficient'])\n",
    "feature_coefficients.sort_values('Coefficient').plot.barh(y='Coefficient', figsize=(5,3))"
   ]
  },
  {
   "cell_type": "markdown",
   "metadata": {},
   "source": [
    "#### Logit with Regularization"
   ]
  },
  {
   "cell_type": "markdown",
   "metadata": {},
   "source": [
    "**Lasso (l1) regularization**  \n",
    "Feature selection, ie may penalize coefficients to zero"
   ]
  },
  {
   "cell_type": "code",
   "execution_count": null,
   "metadata": {},
   "outputs": [],
   "source": [
    "#lbfgs only works for ridge regularization. This should error out.\n",
    "\n",
    "logit_lasso = LR(max_iter = 1000, #Default is 100 iterations\n",
    "                 random_state = 23,\n",
    "                 penalty = 'l1',\n",
    "                 C=1.0,  #smaller values specify stronger regularization\n",
    "                 solver='lbfgs', \n",
    "                 input_cols = CATEGORICAL_COLUMNS_OE + NUMERICAL_COLUMNS,\n",
    "                 label_cols = LABEL_COLUMNS,\n",
    "                 output_cols = ['PREDICTED_DIABETES_DX']\n",
    "                )\n",
    "\n",
    "logit_lasso.fit(train_df)"
   ]
  },
  {
   "cell_type": "code",
   "execution_count": null,
   "metadata": {},
   "outputs": [],
   "source": [
    "logit_lasso = LR(max_iter = 1000, #Default is 100 iterations\n",
    "                 random_state = 23,\n",
    "                 penalty = 'l1', \n",
    "                 C=1.0,  #smaller values specify stronger regularization\n",
    "                 solver='liblinear', #1st order optimization.\n",
    "                 input_cols = CATEGORICAL_COLUMNS_OE + NUMERICAL_COLUMNS,\n",
    "                 label_cols = LABEL_COLUMNS,\n",
    "                 output_cols = ['PREDICTED_DIABETES_DX']\n",
    "                )\n",
    "\n",
    "logit_lasso.fit(train_df)"
   ]
  },
  {
   "cell_type": "markdown",
   "metadata": {},
   "source": [
    "**Ridge (l2) Regularization**  \n",
    "No feature selection. Minimizes but doesn't zero out the variable."
   ]
  },
  {
   "cell_type": "code",
   "execution_count": null,
   "metadata": {},
   "outputs": [],
   "source": [
    "logit_ridge = LR(max_iter = 1000, #Default is 100 iterations\n",
    "                 random_state = 23,\n",
    "                 penalty = 'l2', \n",
    "                 C=1.0,  #smaller values specify stronger regularization\n",
    "                 solver = 'lbfgs', #2nd order optimization. If memory is not a concern, LBFGS might provide better performance due to its faster convergence and potentially higher accuracy vs liblinear.\n",
    "                 input_cols = CATEGORICAL_COLUMNS_OE + NUMERICAL_COLUMNS,\n",
    "                 label_cols = LABEL_COLUMNS,\n",
    "                 output_cols = ['PREDICTED_DIABETES_DX']\n",
    "                )\n",
    "\n",
    "logit_ridge.fit(train_df)"
   ]
  },
  {
   "cell_type": "markdown",
   "metadata": {},
   "source": [
    "#### Test Penalized Logit"
   ]
  },
  {
   "cell_type": "code",
   "execution_count": null,
   "metadata": {},
   "outputs": [],
   "source": [
    "scored_logit_lasso = logit_lasso.predict(test_df)\n",
    "scored_logit_ridge = logit_ridge.predict(test_df)"
   ]
  },
  {
   "cell_type": "code",
   "execution_count": null,
   "metadata": {},
   "outputs": [],
   "source": [
    "cf_matrix = CM(df = scored_logit_lasso, \n",
    "               y_true_col_name = 'DIABETES_DX', \n",
    "               y_pred_col_name = 'PREDICTED_DIABETES_DX')\n",
    "\n",
    "sns.heatmap(cf_matrix, annot=True, fmt='.0f', cmap='Blues')\n",
    "\n",
    "plt.xlabel('Predicted Dx')\n",
    "plt.ylabel('Actual Dx')\n",
    "plt.title('Lasso Regression Confusion Matrix')\n",
    "\n",
    "print('Acccuracy:', M.accuracy_score(df = scored_logit_lasso, \n",
    "                                     y_true_col_names='DIABETES_DX', \n",
    "                                     y_pred_col_names='PREDICTED_DIABETES_DX'))"
   ]
  },
  {
   "cell_type": "code",
   "execution_count": null,
   "metadata": {},
   "outputs": [],
   "source": [
    "cf_matrix = CM(df = scored_logit_ridge, \n",
    "               y_true_col_name = 'DIABETES_DX', \n",
    "               y_pred_col_name = 'PREDICTED_DIABETES_DX')\n",
    "\n",
    "sns.heatmap(cf_matrix, annot=True, fmt='.0f', cmap='Blues')\n",
    "\n",
    "plt.xlabel('Predicted Dx')\n",
    "plt.ylabel('Actual Dx')\n",
    "plt.title('Ridge Regression Confusion Matrix')\n",
    "\n",
    "print('Acccuracy:', M.accuracy_score(df = scored_logit_ridge, \n",
    "                                     y_true_col_names='DIABETES_DX', \n",
    "                                     y_pred_col_names='PREDICTED_DIABETES_DX'))"
   ]
  },
  {
   "cell_type": "markdown",
   "metadata": {},
   "source": [
    "### Build Tree-based Models"
   ]
  },
  {
   "cell_type": "markdown",
   "metadata": {},
   "source": [
    "#### Create & Fit Model"
   ]
  },
  {
   "cell_type": "code",
   "execution_count": null,
   "metadata": {},
   "outputs": [],
   "source": [
    "RF_basic = RF(n_estimators = 1000, \n",
    "              random_state = 23,\n",
    "              n_jobs = -1,\n",
    "              max_depth = None,\n",
    "              criterion = 'entropy', # gini is computationally faster, but I want to show pushing the engine\n",
    "              min_samples_split = 2,\n",
    "              \n",
    "              input_cols = CATEGORICAL_COLUMNS_OE + NUMERICAL_COLUMNS,\n",
    "              label_cols = LABEL_COLUMNS,\n",
    "              output_cols = ['PREDICTED_DIABETES_DX']\n",
    "                )\n",
    "\n",
    "XGB_basic = XGB(n_estimators = 1000, \n",
    "                random_state = 23,\n",
    "                n_jobs = -1,\n",
    "              \n",
    "              input_cols = CATEGORICAL_COLUMNS_OE + NUMERICAL_COLUMNS,\n",
    "              label_cols = LABEL_COLUMNS,\n",
    "              output_cols = ['PREDICTED_DIABETES_DX']\n",
    "                )\n",
    "\n",
    "RF_basic.fit(train_df)\n",
    "XGB_basic.fit(train_df)"
   ]
  },
  {
   "cell_type": "code",
   "execution_count": null,
   "metadata": {},
   "outputs": [],
   "source": [
    "test_df.columns"
   ]
  },
  {
   "cell_type": "markdown",
   "metadata": {},
   "source": [
    "#### Test Models"
   ]
  },
  {
   "cell_type": "code",
   "execution_count": null,
   "metadata": {},
   "outputs": [],
   "source": [
    "scored_RF_basic = RF_basic.predict(test_df)\n",
    "scored_XGB_basic = XGB_basic.predict(test_df)"
   ]
  },
  {
   "cell_type": "code",
   "execution_count": null,
   "metadata": {},
   "outputs": [],
   "source": [
    "cf_matrix = CM(df = scored_RF_basic, \n",
    "               y_true_col_name = 'DIABETES_DX', \n",
    "               y_pred_col_name = 'PREDICTED_DIABETES_DX')\n",
    "\n",
    "sns.heatmap(cf_matrix, annot=True, fmt='g')\n",
    "\n",
    "plt.xlabel('Predicted Dx')\n",
    "plt.ylabel('Actual Dx')\n",
    "plt.title('Random Forest Confusion Matrix')\n",
    "\n",
    "print('Acccuracy:', M.accuracy_score(df = scored_RF_basic, \n",
    "                                     y_true_col_names='DIABETES_DX', \n",
    "                                     y_pred_col_names='PREDICTED_DIABETES_DX'))"
   ]
  },
  {
   "cell_type": "code",
   "execution_count": null,
   "metadata": {},
   "outputs": [],
   "source": [
    "cf_matrix = CM(df = scored_XGB_basic, \n",
    "               y_true_col_name = 'DIABETES_DX', \n",
    "               y_pred_col_name = 'PREDICTED_DIABETES_DX')\n",
    "\n",
    "sns.heatmap(cf_matrix, annot=True, fmt='g')\n",
    "\n",
    "plt.xlabel('Predicted Dx')\n",
    "plt.ylabel('Actual Dx')\n",
    "plt.title('XGBoost Confusion Matrix')\n",
    "\n",
    "print('Acccuracy:', M.accuracy_score(df = scored_XGB_basic, \n",
    "                                     y_true_col_names='DIABETES_DX', \n",
    "                                     y_pred_col_names='PREDICTED_DIABETES_DX'))"
   ]
  },
  {
   "cell_type": "markdown",
   "metadata": {},
   "source": [
    "# 6. Model Deployment"
   ]
  },
  {
   "cell_type": "markdown",
   "metadata": {},
   "source": [
    "Snowpark ML's `model.predict()` function creates a ***temporary*** UDF, we'll need to define our own UDF to persist as permanent UDF. \n",
    "\n",
    "Save model as sklearn object so it can be used externally."
   ]
  },
  {
   "cell_type": "markdown",
   "metadata": {},
   "source": [
    "#### Serialize & Save in Staging"
   ]
  },
  {
   "cell_type": "code",
   "execution_count": null,
   "metadata": {},
   "outputs": [],
   "source": [
    "# Save RF Tuned model \n",
    "xgb_model = XGB_basic.to_xgboost()\n",
    "MODEL_FILE = 'XGBmodel.joblib'\n",
    "joblib.dump(xgb_model, MODEL_FILE) # we are just pickling it locally first\n",
    "\n",
    "# upload into the DS_ASSETS stage in Snowflake\n",
    "session.file.put(MODEL_FILE, \"@DS_ASSETS\", overwrite=True)\n",
    "\n"
   ]
  },
  {
   "cell_type": "code",
   "execution_count": null,
   "metadata": {},
   "outputs": [],
   "source": [
    "# Model is now visible in staging: Can see this by quering \"List @DS_ASSETS\" to show model loaded to stage\n",
    "session.sql(\"list @DS_ASSETS\").show()"
   ]
  },
  {
   "cell_type": "code",
   "execution_count": null,
   "metadata": {},
   "outputs": [],
   "source": [
    "# Get all relevant column names to pass into the UDF call\n",
    "feature_cols = test_df[CATEGORICAL_COLUMNS_OE + NUMERICAL_COLUMNS].columns\n",
    "feature_cols\n"
   ]
  },
  {
   "cell_type": "markdown",
   "metadata": {},
   "source": [
    "#### Create UDF"
   ]
  },
  {
   "cell_type": "code",
   "execution_count": null,
   "metadata": {},
   "outputs": [],
   "source": [
    "# Cache the model load to optimize inference\n",
    "@cachetools.cached(cache={})\n",
    "def load_model(filename):\n",
    "    import os\n",
    "    import sys\n",
    "    import joblib\n",
    "\n",
    "    IMPORT_DIRECTORY_NAME = \"snowflake_import_directory\"\n",
    "    import_dir = sys._xoptions[IMPORT_DIRECTORY_NAME]\n",
    "\n",
    "    if import_dir:\n",
    "        with open(os.path.join(import_dir, filename), 'rb') as file:\n",
    "            m = joblib.load(file)\n",
    "            return m\n",
    "\n",
    "# Register the UDF via decorator\n",
    "@udf(name='batch_predict_diabetes', \n",
    "     session=session, \n",
    "     replace=True, \n",
    "     is_permanent=True, \n",
    "     stage_location='@DS_ASSETS',\n",
    "     input_types=[F.FloatType()]*len(feature_cols),\n",
    "     return_type=F.FloatType(),\n",
    "     imports=['@DS_ASSETS/XGBmodel.joblib.gz'],\n",
    "     packages=['pandas','joblib','cachetools','xgboost'])\n",
    "def batch_predict_diabetes(test_df: pd.DataFrame) -> pd.Series:\n",
    "    # Need to name the columns because column names aren't passed in to this function\n",
    "    test_df.columns = ['HYPERTENSION_OE', 'PREGNANCIES', 'GLUCOSE', 'SKIN_THICKNESS', 'INSULIN', 'BMI', 'DIABETES_PEDIGREE_FUNCTION', 'AGE']\n",
    "    model = load_model('XGBmodel.joblib.gz')\n",
    "    return model.predict(test_df) \n",
    "        \n"
   ]
  },
  {
   "cell_type": "markdown",
   "metadata": {},
   "source": [
    "#### Call UDF"
   ]
  },
  {
   "cell_type": "code",
   "execution_count": null,
   "metadata": {},
   "outputs": [],
   "source": [
    "test = test_df.with_column('PREDICTION', batch_predict_diabetes(*feature_cols))\n",
    "test.show()"
   ]
  },
  {
   "cell_type": "markdown",
   "metadata": {},
   "source": [
    "Go to snowsight and demo UDF"
   ]
  },
  {
   "cell_type": "code",
   "execution_count": null,
   "metadata": {},
   "outputs": [],
   "source": [
    "session.close()"
   ]
  }
 ],
 "metadata": {
  "kernelspec": {
   "display_name": "Python 3 (ipykernel)",
   "language": "python",
   "name": "python3"
  },
  "language_info": {
   "codemirror_mode": {
    "name": "ipython",
    "version": 3
   },
   "file_extension": ".py",
   "mimetype": "text/x-python",
   "name": "python",
   "nbconvert_exporter": "python",
   "pygments_lexer": "ipython3",
   "version": "3.10.9"
  }
 },
 "nbformat": 4,
 "nbformat_minor": 4
}
